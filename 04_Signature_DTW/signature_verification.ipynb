{
 "cells": [
  {
   "cell_type": "code",
   "execution_count": 1,
   "metadata": {},
   "outputs": [],
   "source": [
    "import numpy as np\n",
    "from sklearn.preprocessing import minmax_scale\n",
    "from scipy.spatial.distance import cdist\n",
    "from pyts.metrics import dtw\n",
    "from helper import *"
   ]
  },
  {
   "cell_type": "markdown",
   "metadata": {},
   "source": [
    "## Features"
   ]
  },
  {
   "cell_type": "code",
   "execution_count": 2,
   "metadata": {},
   "outputs": [],
   "source": [
    "def x_value(line):\n",
    "    return line[1]\n",
    "\n",
    "\n",
    "def y_value(line):\n",
    "    return line[2]\n",
    " \n",
    "\n",
    "def pressure_value(line):\n",
    "    return line[3]\n",
    "\n",
    "\n",
    "def vx_value(prev_line, current_line):\n",
    "    x1 = prev_line[1]\n",
    "    x2 = current_line[1]\n",
    "    t1 = prev_line[0]\n",
    "    t2 = current_line[0]\n",
    "\n",
    "    if t2-t1 == 0:\n",
    "        return 0\n",
    "    return (x2-x1)/(t2-t1)\n",
    "\n",
    "\n",
    "def vy_value(prev_line, current_line):\n",
    "    y1 = prev_line[2]\n",
    "    y2 = current_line[2]\n",
    "    t1 = prev_line[0]\n",
    "    t2 = current_line[0]\n",
    "    if t2-t1 == 0:\n",
    "        return 0\n",
    "    return (y2-y1)/(t2-t1)\n",
    "\n",
    "\n",
    "# Compute the \"time serie\", the features for each line of the signature file\n",
    "def compute_features_vector(signature, normalize=True):\n",
    "    rep = []\n",
    "    first = True\n",
    "    for line in signature:\n",
    "        if first:\n",
    "            prev_line = line\n",
    "            first = False\n",
    "        feature_vector = [x_value(line), y_value(line), pressure_value(\n",
    "            line), vx_value(prev_line, line), vy_value(prev_line, line)]\n",
    "        rep.append(feature_vector)\n",
    "        prev_line = line\n",
    "\n",
    "    array = np.asarray(rep)\n",
    "\n",
    "    if normalize:\n",
    "        array = minmax_scale(array, feature_range=(0, 1), axis=0)\n",
    "\n",
    "    return array\n",
    "\n",
    "def compute_dtw(signature1, signature2, normalize=True):\n",
    "\n",
    "    feature_vector_1 = compute_features_vector(signature1, normalize)\n",
    "    feature_vector_2 = compute_features_vector(signature2, normalize)\n",
    "\n",
    "    dist_matrix = cdist(feature_vector_1, feature_vector_2)\n",
    "\n",
    "    dtw_cost = dtw(precomputed_cost=dist_matrix, dist=\"precomputed\",\n",
    "                   method=\"sakoechiba\")\n",
    "\n",
    "    return dtw_cost\n"
   ]
  },
  {
   "cell_type": "markdown",
   "metadata": {},
   "source": [
    "### Data preprocessing\n",
    "We take the data contained in the enrollment txt files and store them in a dict (_users_signatures_), such that we reduce I/O calls in the rest of the code."
   ]
  },
  {
   "cell_type": "code",
   "execution_count": 4,
   "metadata": {},
   "outputs": [],
   "source": [
    "sig_gt = {}\n",
    "n_users = 30\n",
    "\n",
    "with open('data/users.txt', 'r') as f:\n",
    "    users = [line[:-1] for line in f]\n",
    "    \n",
    "assert(len(users)==n_users), f'there should be {n_users} users'\n",
    "\n",
    "for user in users:\n",
    "    for i in range (1,6):\n",
    "        sig = f'0{i}' if i < 10 else f'{i}'\n",
    "        with open(f'data/verification/{user}-{sig}.txt', 'r') as f:\n",
    "            signature = [np.asarray(line.split(), dtype=float).tolist() for line in f]\n",
    "            t = (user,sig)\n",
    "            sig_gt[t] = signature\n"
   ]
  },
  {
   "cell_type": "markdown",
   "metadata": {},
   "source": [
    "### DTW values for enrollment\n",
    "Here we compute the dtw value for each of the 5 signatures made by the users."
   ]
  },
  {
   "cell_type": "code",
   "execution_count": 5,
   "metadata": {},
   "outputs": [],
   "source": [
    "def thresh(values): return (9*np.mean(values) + max(values))/10"
   ]
  },
  {
   "cell_type": "code",
   "execution_count": 6,
   "metadata": {},
   "outputs": [],
   "source": [
    "dtw_gt = {}\n",
    "# Compute dtw values for the ground truth file (5 signatures/user)\n",
    "for t in sig_gt.keys():\n",
    "        u, s = t\n",
    "        sig = sig_gt[t]\n",
    "        values = [compute_dtw(sig,sig_gt[(uj,sj)]) for uj,sj in sig_gt.keys() if uj==u and s!=sj]\n",
    "        dtw_gt[t] = thresh(values)"
   ]
  },
  {
   "cell_type": "markdown",
   "metadata": {},
   "source": [
    "### Get signatures DTW"
   ]
  },
  {
   "cell_type": "code",
   "execution_count": 7,
   "metadata": {},
   "outputs": [],
   "source": [
    "sig_ver = {}\n",
    "for user in users:\n",
    "    for i in range (1,46):\n",
    "        sig = f'0{i}' if i < 10 else f'{i}'\n",
    "        with open(f'data/verification/{user}-{sig}.txt', 'r') as f:\n",
    "            signature = [np.asarray(line.split(), dtype=float).tolist() for line in f]\n",
    "            t = (user,sig)\n",
    "            sig_ver[t] = signature"
   ]
  },
  {
   "cell_type": "code",
   "execution_count": 8,
   "metadata": {},
   "outputs": [],
   "source": [
    "dtw_ver = {}\n",
    "for t in sig_ver.keys():\n",
    "        u, s = t\n",
    "        sig = sig_ver[t]\n",
    "        values = [compute_dtw(sig,sig_gt[(uj,sj)]) for uj,sj in sig_gt.keys() if uj==u and s!=sj]\n",
    "        dtw_ver[t] = thresh(values)"
   ]
  },
  {
   "cell_type": "code",
   "execution_count": 9,
   "metadata": {},
   "outputs": [],
   "source": [
    "assert(len(dtw_ver)==1350), 'expected length of 1350 was not reached'"
   ]
  },
  {
   "cell_type": "code",
   "execution_count": 26,
   "metadata": {},
   "outputs": [],
   "source": [
    "# ground truth computation\n",
    "# false -> forgery\n",
    "# true -> genuine\n",
    "with open('data/gt.txt') as file:\n",
    "    gt = {( line.split(' ')[0].split('-')[0], line.split(' ')[0].split('-')[1]) : True if line.split(' ')[-1][:-1]=='g' else False for line in file}"
   ]
  },
  {
   "cell_type": "code",
   "execution_count": null,
   "metadata": {},
   "outputs": [],
   "source": []
  }
 ],
 "metadata": {
  "interpreter": {
   "hash": "628b2da58f8e86f73a45f837b51b4cf84d420caac018c4a1f961f9cfce82deef"
  },
  "kernelspec": {
   "display_name": "Python 3 (ipykernel)",
   "language": "python",
   "name": "python3"
  },
  "language_info": {
   "codemirror_mode": {
    "name": "ipython",
    "version": 3
   },
   "file_extension": ".py",
   "mimetype": "text/x-python",
   "name": "python",
   "nbconvert_exporter": "python",
   "pygments_lexer": "ipython3",
   "version": "3.10.4"
  }
 },
 "nbformat": 4,
 "nbformat_minor": 2
}
