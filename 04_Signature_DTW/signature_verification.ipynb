{
 "cells": [
  {
   "cell_type": "code",
   "execution_count": 1,
   "metadata": {},
   "outputs": [],
   "source": [
    "import numpy as np\n",
    "import pandas as pd\n",
    "from sklearn.preprocessing import minmax_scale\n",
    "from scipy.spatial.distance import cdist\n",
    "from pyts.metrics import dtw\n",
    "from ipycanvas import Canvas"
   ]
  },
  {
   "cell_type": "markdown",
   "metadata": {},
   "source": [
    "## Features"
   ]
  },
  {
   "cell_type": "code",
   "execution_count": 2,
   "metadata": {},
   "outputs": [],
   "source": [
    "def x_value(line):\n",
    "    return line[1]\n",
    "\n",
    "\n",
    "def y_value(line):\n",
    "    return line[2]\n",
    " \n",
    "\n",
    "def pressure_value(line):\n",
    "    return line[3]\n",
    "\n",
    "\n",
    "def vx_value(prev_line, current_line):\n",
    "    x1 = prev_line[1]\n",
    "    x2 = current_line[1]\n",
    "    t1 = prev_line[0]\n",
    "    t2 = current_line[0]\n",
    "\n",
    "    if t2-t1 == 0:\n",
    "        return 0\n",
    "    return (x2-x1)/(t2-t1)\n",
    "\n",
    "\n",
    "def vy_value(prev_line, current_line):\n",
    "    y1 = prev_line[2]\n",
    "    y2 = current_line[2]\n",
    "    t1 = prev_line[0]\n",
    "    t2 = current_line[0]\n",
    "    if t2-t1 == 0:\n",
    "        return 0\n",
    "    return (y2-y1)/(t2-t1)\n",
    "\n",
    "\n",
    "# Compute the \"time serie\", the features for each line of the signature file\n",
    "def compute_features_vector(signature, normalize=True):\n",
    "    rep = []\n",
    "    first = True\n",
    "    for line in signature:\n",
    "        if first:\n",
    "            prev_line = line\n",
    "            first = False\n",
    "        feature_vector = [x_value(line), y_value(line), pressure_value(\n",
    "            line), vx_value(prev_line, line), vy_value(prev_line, line)]\n",
    "        rep.append(feature_vector)\n",
    "        prev_line = line\n",
    "\n",
    "    array = np.asarray(rep)\n",
    "\n",
    "    if normalize:\n",
    "        array = minmax_scale(array, feature_range=(0, 1), axis=0)\n",
    "\n",
    "    return array\n",
    "\n",
    "def compute_dtw(signature1, signature2, normalize=True):\n",
    "\n",
    "    feature_vector_1 = compute_features_vector(signature1, normalize)\n",
    "    feature_vector_2 = compute_features_vector(signature2, normalize)\n",
    "\n",
    "    dist_matrix = cdist(feature_vector_1, feature_vector_2)\n",
    "\n",
    "    dtw_cost = dtw(precomputed_cost=dist_matrix, dist=\"precomputed\",\n",
    "                   method=\"sakoechiba\")\n",
    "\n",
    "    return dtw_cost\n"
   ]
  },
  {
   "cell_type": "markdown",
   "metadata": {},
   "source": [
    "### Data preprocessing\n",
    "We take the data contained in the enrollment txt files and store them in a dict (_users_signatures_), such that we reduce I/O calls in the rest of the code."
   ]
  },
  {
   "cell_type": "code",
   "execution_count": 3,
   "metadata": {},
   "outputs": [],
   "source": [
    "sig_gt = {}\n",
    "n_users = 30\n",
    "\n",
    "with open('data/users.txt', 'r') as f:\n",
    "    users = [line[:-1] for line in f]\n",
    "    \n",
    "assert(len(users)==n_users), f'there should be {n_users} users'\n",
    "\n",
    "for user in users:\n",
    "    for i in range (1,6):\n",
    "        sig = f'0{i}' if i < 10 else f'{i}'\n",
    "        with open(f'data/verification/{user}-{sig}.txt', 'r') as f:\n",
    "            signature = [np.asarray(line.split(), dtype=float).tolist() for line in f]\n",
    "            t = (user,sig)\n",
    "            sig_gt[t] = signature\n"
   ]
  },
  {
   "cell_type": "code",
   "execution_count": null,
   "metadata": {},
   "outputs": [],
   "source": []
  },
  {
   "cell_type": "markdown",
   "metadata": {},
   "source": [
    "### Signature drawing\n",
    "\n",
    "We thought it could be cool to be able to redraw the signature from the given data"
   ]
  },
  {
   "cell_type": "code",
   "execution_count": 4,
   "metadata": {},
   "outputs": [
    {
     "data": {
      "text/html": [
       "<div>\n",
       "<style scoped>\n",
       "    .dataframe tbody tr th:only-of-type {\n",
       "        vertical-align: middle;\n",
       "    }\n",
       "\n",
       "    .dataframe tbody tr th {\n",
       "        vertical-align: top;\n",
       "    }\n",
       "\n",
       "    .dataframe thead th {\n",
       "        text-align: right;\n",
       "    }\n",
       "</style>\n",
       "<table border=\"1\" class=\"dataframe\">\n",
       "  <thead>\n",
       "    <tr style=\"text-align: right;\">\n",
       "      <th></th>\n",
       "      <th>timestamp</th>\n",
       "      <th>x</th>\n",
       "      <th>y</th>\n",
       "      <th>pressure</th>\n",
       "      <th>penup</th>\n",
       "      <th>azimuth</th>\n",
       "      <th>inclinaison</th>\n",
       "    </tr>\n",
       "  </thead>\n",
       "  <tbody>\n",
       "    <tr>\n",
       "      <th>0</th>\n",
       "      <td>0.00</td>\n",
       "      <td>49.64</td>\n",
       "      <td>32.36</td>\n",
       "      <td>239.0</td>\n",
       "      <td>1.0</td>\n",
       "      <td>350.0</td>\n",
       "      <td>54.0</td>\n",
       "    </tr>\n",
       "    <tr>\n",
       "      <th>1</th>\n",
       "      <td>0.01</td>\n",
       "      <td>50.31</td>\n",
       "      <td>33.16</td>\n",
       "      <td>359.0</td>\n",
       "      <td>0.0</td>\n",
       "      <td>349.0</td>\n",
       "      <td>53.0</td>\n",
       "    </tr>\n",
       "    <tr>\n",
       "      <th>2</th>\n",
       "      <td>0.02</td>\n",
       "      <td>50.58</td>\n",
       "      <td>32.98</td>\n",
       "      <td>361.0</td>\n",
       "      <td>0.0</td>\n",
       "      <td>347.0</td>\n",
       "      <td>54.0</td>\n",
       "    </tr>\n",
       "    <tr>\n",
       "      <th>3</th>\n",
       "      <td>0.03</td>\n",
       "      <td>50.79</td>\n",
       "      <td>32.65</td>\n",
       "      <td>361.0</td>\n",
       "      <td>0.0</td>\n",
       "      <td>347.0</td>\n",
       "      <td>54.0</td>\n",
       "    </tr>\n",
       "    <tr>\n",
       "      <th>4</th>\n",
       "      <td>0.04</td>\n",
       "      <td>50.79</td>\n",
       "      <td>32.21</td>\n",
       "      <td>377.0</td>\n",
       "      <td>0.0</td>\n",
       "      <td>346.0</td>\n",
       "      <td>54.0</td>\n",
       "    </tr>\n",
       "    <tr>\n",
       "      <th>...</th>\n",
       "      <td>...</td>\n",
       "      <td>...</td>\n",
       "      <td>...</td>\n",
       "      <td>...</td>\n",
       "      <td>...</td>\n",
       "      <td>...</td>\n",
       "      <td>...</td>\n",
       "    </tr>\n",
       "    <tr>\n",
       "      <th>452</th>\n",
       "      <td>4.52</td>\n",
       "      <td>59.27</td>\n",
       "      <td>30.04</td>\n",
       "      <td>806.0</td>\n",
       "      <td>0.0</td>\n",
       "      <td>336.0</td>\n",
       "      <td>55.0</td>\n",
       "    </tr>\n",
       "    <tr>\n",
       "      <th>453</th>\n",
       "      <td>4.53</td>\n",
       "      <td>58.89</td>\n",
       "      <td>29.69</td>\n",
       "      <td>796.0</td>\n",
       "      <td>0.0</td>\n",
       "      <td>336.0</td>\n",
       "      <td>55.0</td>\n",
       "    </tr>\n",
       "    <tr>\n",
       "      <th>454</th>\n",
       "      <td>4.54</td>\n",
       "      <td>59.17</td>\n",
       "      <td>29.90</td>\n",
       "      <td>785.0</td>\n",
       "      <td>0.0</td>\n",
       "      <td>335.0</td>\n",
       "      <td>54.0</td>\n",
       "    </tr>\n",
       "    <tr>\n",
       "      <th>455</th>\n",
       "      <td>4.55</td>\n",
       "      <td>59.89</td>\n",
       "      <td>30.61</td>\n",
       "      <td>748.0</td>\n",
       "      <td>0.0</td>\n",
       "      <td>336.0</td>\n",
       "      <td>55.0</td>\n",
       "    </tr>\n",
       "    <tr>\n",
       "      <th>456</th>\n",
       "      <td>4.56</td>\n",
       "      <td>61.83</td>\n",
       "      <td>32.14</td>\n",
       "      <td>560.0</td>\n",
       "      <td>0.0</td>\n",
       "      <td>336.0</td>\n",
       "      <td>55.0</td>\n",
       "    </tr>\n",
       "  </tbody>\n",
       "</table>\n",
       "<p>457 rows × 7 columns</p>\n",
       "</div>"
      ],
      "text/plain": [
       "     timestamp      x      y  pressure  penup  azimuth  inclinaison\n",
       "0         0.00  49.64  32.36     239.0    1.0    350.0         54.0\n",
       "1         0.01  50.31  33.16     359.0    0.0    349.0         53.0\n",
       "2         0.02  50.58  32.98     361.0    0.0    347.0         54.0\n",
       "3         0.03  50.79  32.65     361.0    0.0    347.0         54.0\n",
       "4         0.04  50.79  32.21     377.0    0.0    346.0         54.0\n",
       "..         ...    ...    ...       ...    ...      ...          ...\n",
       "452       4.52  59.27  30.04     806.0    0.0    336.0         55.0\n",
       "453       4.53  58.89  29.69     796.0    0.0    336.0         55.0\n",
       "454       4.54  59.17  29.90     785.0    0.0    335.0         54.0\n",
       "455       4.55  59.89  30.61     748.0    0.0    336.0         55.0\n",
       "456       4.56  61.83  32.14     560.0    0.0    336.0         55.0\n",
       "\n",
       "[457 rows x 7 columns]"
      ]
     },
     "execution_count": 4,
     "metadata": {},
     "output_type": "execute_result"
    }
   ],
   "source": [
    "df = pd.DataFrame(signature,columns=[\"timestamp\",\"x\",\"y\",\"pressure\",\"penup\",\"azimuth\",\"inclinaison\"])\n",
    "df"
   ]
  },
  {
   "cell_type": "code",
   "execution_count": 5,
   "metadata": {},
   "outputs": [
    {
     "data": {
      "application/vnd.jupyter.widget-view+json": {
       "model_id": "41f7a8b3424e4130843f84d8f27b606b",
       "version_major": 2,
       "version_minor": 0
      },
      "text/plain": [
       "Canvas(height=200, layout=Layout(width='100%'), width=500)"
      ]
     },
     "metadata": {},
     "output_type": "display_data"
    }
   ],
   "source": [
    "canvas = Canvas(width=500, height=200, layout=dict(width=\"100%\"))\n",
    "\n",
    "df[\"x\"] = df[\"x\"] - df[\"x\"].min()\n",
    "df[\"y\"] = df[\"y\"] - df[\"y\"].min()\n",
    "\n",
    "max_y = df[\"y\"].max() * 10 + 10\n",
    "old_x = df.iloc[0,1]*10 + 10\n",
    "old_y = max_y - df.iloc[0,2]*10\n",
    "\n",
    "counter = 0\n",
    "for i,row in enumerate(df.itertuples()):\n",
    "\n",
    "    canvas.stroke_style = \"white\" if row[4] == 0 else \"gray\"\n",
    "    canvas.line_width = row[4]/200\n",
    "    new_x = row[2]*10 + 10\n",
    "    new_y = max_y - row[3] * 10\n",
    "    #print(\"i {}, {}, {}, {}, {}\".format(i,old_x,old_y,row[2]*10,row[3]*10))\n",
    "    canvas.stroke_line(old_x,old_y,new_x,new_y)\n",
    "    old_x = new_x\n",
    "    old_y = new_y\n",
    "    \n",
    "canvas"
   ]
  },
  {
   "cell_type": "code",
   "execution_count": 6,
   "metadata": {},
   "outputs": [
    {
     "data": {
      "application/vnd.jupyter.widget-view+json": {
       "model_id": "4ab38b1513824db9af935604e84d9e72",
       "version_major": 2,
       "version_minor": 0
      },
      "text/plain": [
       "Canvas(height=3000, layout=Layout(width='100%'), width=500)"
      ]
     },
     "metadata": {},
     "output_type": "display_data"
    }
   ],
   "source": [
    "canvas = Canvas(width=500, height=3000, layout=dict(width=\"100%\"))\n",
    "\n",
    "for i,t in enumerate(sig_gt.keys()):\n",
    "        \n",
    "        df = pd.DataFrame(sig_gt[t],columns=[\"timestamp\",\"x\",\"y\",\"pressure\",\"penup\",\"azimuth\",\"inclinaison\"])\n",
    "\n",
    "        df[\"x\"] = df[\"x\"] - df[\"x\"].min()\n",
    "        df[\"y\"] = df[\"y\"] - df[\"y\"].min()\n",
    "        \n",
    "        x_offset = 10\n",
    "        y_offset = i * 300 + 10\n",
    "\n",
    "        max_y = df[\"y\"].max() * 10 + y_offset\n",
    "\n",
    "        old_x = df.iloc[0,1]*10 + x_offset\n",
    "        old_y = max_y - df.iloc[0,2]*10\n",
    "\n",
    "        for row in df.itertuples():\n",
    "\n",
    "                canvas.stroke_style = \"white\" if row[4] == 0 else \"gray\"\n",
    "                canvas.line_width = row[4]/200\n",
    "                new_x = row[2]*10 + x_offset\n",
    "                new_y = max_y - row[3] * 10\n",
    "                #print(\"i {}, {}, {}, {}, {}\".format(i,old_x,old_y,row[2]*10,row[3]*10))\n",
    "                canvas.stroke_line(old_x,old_y,new_x,new_y)\n",
    "                old_x = new_x\n",
    "                old_y = new_y\n",
    "\n",
    "        if i >= 10:\n",
    "                break\n",
    "\n",
    "\n",
    "\n",
    "canvas\n"
   ]
  },
  {
   "cell_type": "markdown",
   "metadata": {},
   "source": [
    "### DTW values for enrollment\n",
    "Here we compute the dtw value for each of the 5 signatures made by the users."
   ]
  },
  {
   "cell_type": "code",
   "execution_count": 7,
   "metadata": {},
   "outputs": [],
   "source": [
    "def thresh(values): return (9*np.mean(values) + max(values))/10"
   ]
  },
  {
   "cell_type": "code",
   "execution_count": 8,
   "metadata": {},
   "outputs": [],
   "source": [
    "dtw_gt = {}\n",
    "# Compute dtw values for the ground truth file (5 signatures/user)\n",
    "for t in sig_gt.keys():\n",
    "        u, s = t\n",
    "        sig = sig_gt[t]\n",
    "        values = [compute_dtw(sig,sig_gt[(uj,sj)]) for uj,sj in sig_gt.keys() if uj==u and s!=sj]\n",
    "        dtw_gt[t] = thresh(values)"
   ]
  },
  {
   "cell_type": "markdown",
   "metadata": {},
   "source": [
    "### Get signatures DTW"
   ]
  },
  {
   "cell_type": "code",
   "execution_count": 9,
   "metadata": {},
   "outputs": [],
   "source": [
    "sig_ver = {}\n",
    "for user in users:\n",
    "    for i in range (1,46):\n",
    "        sig = f'0{i}' if i < 10 else f'{i}'\n",
    "        with open(f'data/verification/{user}-{sig}.txt', 'r') as f:\n",
    "            signature = [np.asarray(line.split(), dtype=float).tolist() for line in f]\n",
    "            t = (user,sig)\n",
    "            sig_ver[t] = signature"
   ]
  },
  {
   "cell_type": "code",
   "execution_count": 10,
   "metadata": {},
   "outputs": [],
   "source": [
    "dtw_ver = {}\n",
    "for t in sig_ver.keys():\n",
    "        u, s = t\n",
    "        sig = sig_ver[t]\n",
    "        values = [compute_dtw(sig,sig_gt[(uj,sj)]) for uj,sj in sig_gt.keys() if uj==u and s!=sj]\n",
    "        dtw_ver[t] = thresh(values)"
   ]
  },
  {
   "cell_type": "code",
   "execution_count": 11,
   "metadata": {},
   "outputs": [],
   "source": [
    "assert(len(dtw_ver)==1350), 'expected length of 1350 was not reached'"
   ]
  },
  {
   "cell_type": "code",
   "execution_count": 12,
   "metadata": {},
   "outputs": [],
   "source": [
    "# ground truth computation\n",
    "# false -> forgery\n",
    "# true -> genuine\n",
    "with open('data/gt.txt') as file:\n",
    "    gt = {( line.split(' ')[0].split('-')[0], line.split(' ')[0].split('-')[1]) : True if line.split(' ')[-1][:-1]=='g' else False for line in file}"
   ]
  },
  {
   "cell_type": "code",
   "execution_count": null,
   "metadata": {},
   "outputs": [],
   "source": []
  }
 ],
 "metadata": {
  "interpreter": {
   "hash": "628b2da58f8e86f73a45f837b51b4cf84d420caac018c4a1f961f9cfce82deef"
  },
  "kernelspec": {
   "display_name": "Python 3 (ipykernel)",
   "language": "python",
   "name": "python3"
  },
  "language_info": {
   "codemirror_mode": {
    "name": "ipython",
    "version": 3
   },
   "file_extension": ".py",
   "mimetype": "text/x-python",
   "name": "python",
   "nbconvert_exporter": "python",
   "pygments_lexer": "ipython3",
   "version": "3.9.5"
  }
 },
 "nbformat": 4,
 "nbformat_minor": 2
}
