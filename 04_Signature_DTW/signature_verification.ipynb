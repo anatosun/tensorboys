{
 "cells": [
  {
   "cell_type": "code",
   "execution_count": 6,
   "metadata": {},
   "outputs": [],
   "source": [
    "import numpy as np\n",
    "from sklearn.preprocessing import minmax_scale\n",
    "from scipy.spatial.distance import cdist\n",
    "from pyts.metrics import dtw"
   ]
  },
  {
   "cell_type": "markdown",
   "metadata": {},
   "source": [
    "## Features"
   ]
  },
  {
   "cell_type": "code",
   "execution_count": 7,
   "metadata": {},
   "outputs": [],
   "source": [
    "def x_value(line):\n",
    "    return line[1]\n",
    "\n",
    "\n",
    "def y_value(line):\n",
    "    return line[2]\n",
    " \n",
    "\n",
    "def pressure_value(line):\n",
    "    return line[3]\n",
    "\n",
    "\n",
    "def vx_value(prev_line, current_line):\n",
    "    x1 = prev_line[1]\n",
    "    x2 = current_line[1]\n",
    "    t1 = prev_line[0]\n",
    "    t2 = current_line[0]\n",
    "\n",
    "    if t2-t1 == 0:\n",
    "        return 0\n",
    "    return (x2-x1)/(t2-t1)\n",
    "\n",
    "\n",
    "def vy_value(prev_line, current_line):\n",
    "    y1 = prev_line[2]\n",
    "    y2 = current_line[2]\n",
    "    t1 = prev_line[0]\n",
    "    t2 = current_line[0]\n",
    "    if t2-t1 == 0:\n",
    "        return 0\n",
    "    return (y2-y1)/(t2-t1)\n",
    "\n",
    "\n",
    "# Compute the \"time serie\", the features for each line of the signature file\n",
    "def compute_features_vector(signature, normalize=True):\n",
    "    rep = []\n",
    "    first = True\n",
    "    for line in signature:\n",
    "        if first:\n",
    "            prev_line = line\n",
    "            first = False\n",
    "        feature_vector = [x_value(line), y_value(line), pressure_value(\n",
    "            line), vx_value(prev_line, line), vy_value(prev_line, line)]\n",
    "        rep.append(feature_vector)\n",
    "        prev_line = line\n",
    "\n",
    "    array = np.asarray(rep)\n",
    "\n",
    "    if normalize:\n",
    "        array = minmax_scale(array, feature_range=(0, 1), axis=0)\n",
    "\n",
    "    return array\n",
    "\n",
    "def compute_dtw(signature1, signature2, normalize=True):\n",
    "\n",
    "    feature_vector_1 = compute_features_vector(signature1, normalize)\n",
    "    feature_vector_2 = compute_features_vector(signature2, normalize)\n",
    "\n",
    "    dist_matrix = cdist(feature_vector_1, feature_vector_2)\n",
    "\n",
    "    dtw_cost = dtw(precomputed_cost=dist_matrix, dist=\"precomputed\",\n",
    "                   method=\"sakoechiba\")\n",
    "\n",
    "    return dtw_cost\n"
   ]
  },
  {
   "cell_type": "markdown",
   "metadata": {},
   "source": [
    "### Data preprocessing\n",
    "We take the data contained in the enrollment txt files and store them in a dict (_users_signatures_), such that we reduce I/O calls in the rest of the code."
   ]
  },
  {
   "cell_type": "code",
   "execution_count": 8,
   "metadata": {},
   "outputs": [
    {
     "name": "stdout",
     "output_type": "stream",
     "text": [
      "Users:  ['001', '002', '003', '004', '005', '006', '007', '008', '009', '010', '011', '012', '013', '014', '015', '016', '017', '018', '019', '020', '021', '022', '023', '024', '025', '026', '027', '028', '029', '030']\n",
      "File treated: 150 (30 users)\n"
     ]
    }
   ],
   "source": [
    "f = open('data/users.txt', 'r')\n",
    "users = []\n",
    "users_signatures = {}\n",
    "counter = 0\n",
    "for line in f:\n",
    "    users.append(line[:-1])\n",
    "print('Users: ',users)\n",
    "for user in users:\n",
    "    users_signatures[user] = []\n",
    "    for i in range (1,6):\n",
    "        f = open(f'data/enrollment/{user}-g-0{i}.txt', 'r')\n",
    "        signature = []\n",
    "        for line in f:\n",
    "            values = np.asarray(line.split(),dtype=float)\n",
    "            np.around(values,2)\n",
    "            signature.append(values.tolist())\n",
    "        users_signatures[user] += [signature]\n",
    "        counter += 1\n",
    "\n",
    "print(f'File treated: {counter} ({len(users)} users)')\n",
    "#print(users_signatures['001'][1])"
   ]
  },
  {
   "cell_type": "markdown",
   "metadata": {},
   "source": [
    "### DTW values for enrollment\n",
    "Here we compute the dtw value for each of the 5 signatures made by the users."
   ]
  },
  {
   "cell_type": "code",
   "execution_count": 9,
   "metadata": {},
   "outputs": [
    {
     "name": "stdout",
     "output_type": "stream",
     "text": [
      "{'001': 21.337495710141404, '002': 33.65679285287044, '003': 129.43584711667938, '004': 33.91739676695248, '005': 34.81167033848683, '006': 85.77734897310388, '007': 71.40198389624479, '008': 53.05671849758842, '009': 108.82358515411798, '010': 52.31629575127263, '011': 109.22350119191545, '012': 60.33896784970525, '013': 75.86280723026269, '014': 147.73017296505637, '015': 61.84098520902129, '016': 12.219038209910456, '017': 15.846105308522146, '018': 97.32186583446762, '019': 44.566866085921575, '020': 98.54756449119023, '021': 24.748092358531725, '022': 14.741133472404226, '023': 16.14948615549175, '024': 41.10004465992968, '025': 101.8370005471259, '026': 94.57086261029885, '027': 30.724742338473, '028': 53.99562333056313, '029': 16.836255355950463, '030': 91.28967752481599}\n"
     ]
    }
   ],
   "source": [
    "n_user = len(users)\n",
    "dtw_values = {}\n",
    "# Compute dtw values for the ground truth file (5 signatures/user)\n",
    "for user in users_signatures:\n",
    "    dtw_values[user] = []\n",
    "    for i in range(1,6):\n",
    "        for j in range(i+1, 5):\n",
    "            f1 = users_signatures[user][i]\n",
    "            f2 = users_signatures[user][j]\n",
    "            dtw_values[user] += [compute_dtw(f1,f2)]\n",
    "\n",
    "# Treshold taken from previous task\n",
    "for key in dtw_values:\n",
    "    values = dtw_values[key]\n",
    "    mean = np.mean(values)\n",
    "    maxVal = max(values)\n",
    "    val = (9*mean + maxVal)/10\n",
    "    dtw_values[key] = val\n",
    "\n",
    "    \n",
    "print(dtw_values)"
   ]
  },
  {
   "cell_type": "markdown",
   "metadata": {},
   "source": [
    "### Evaluate signatures"
   ]
  },
  {
   "cell_type": "code",
   "execution_count": null,
   "metadata": {},
   "outputs": [],
   "source": []
  }
 ],
 "metadata": {
  "interpreter": {
   "hash": "628b2da58f8e86f73a45f837b51b4cf84d420caac018c4a1f961f9cfce82deef"
  },
  "kernelspec": {
   "display_name": "Python 3.9.5 64-bit",
   "language": "python",
   "name": "python3"
  },
  "language_info": {
   "codemirror_mode": {
    "name": "ipython",
    "version": 3
   },
   "file_extension": ".py",
   "mimetype": "text/x-python",
   "name": "python",
   "nbconvert_exporter": "python",
   "pygments_lexer": "ipython3",
   "version": "3.9.5"
  },
  "orig_nbformat": 4
 },
 "nbformat": 4,
 "nbformat_minor": 2
}
