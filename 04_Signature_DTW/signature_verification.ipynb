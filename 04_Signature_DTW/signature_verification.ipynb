{
 "cells": [
  {
   "cell_type": "code",
   "execution_count": 3,
   "metadata": {},
   "outputs": [],
   "source": [
    "import numpy as np\n",
    "from sklearn.preprocessing import minmax_scale\n",
    "from scipy.spatial.distance import cdist\n",
    "from pyts.metrics import dtw"
   ]
  },
  {
   "cell_type": "markdown",
   "metadata": {},
   "source": [
    "## Features"
   ]
  },
  {
   "cell_type": "code",
   "execution_count": 6,
   "metadata": {},
   "outputs": [],
   "source": [
    "def x_value(line):\n",
    "    line = line.split()\n",
    "    return float(line[1])\n",
    "\n",
    "\n",
    "def y_value(line):\n",
    "    line = line.split()\n",
    "    return float(line[2])\n",
    "\n",
    "\n",
    "def pressure_value(line):\n",
    "    line = line.split()\n",
    "    return float(line[3])\n",
    "\n",
    "\n",
    "def vx_value(prev_line, current_line):\n",
    "    prev_line = prev_line.split()\n",
    "    current_line = current_line.split()\n",
    "    x1 = float(prev_line[1])\n",
    "    x2 = float(current_line[1])\n",
    "    t1 = float(prev_line[0])\n",
    "    t2 = float(current_line[0])\n",
    "\n",
    "    if t2-t1 == 0:\n",
    "        return 0\n",
    "    return (x2-x1)/(t2-t1)\n",
    "\n",
    "\n",
    "def vy_value(prev_line, current_line):\n",
    "    prev_line = prev_line.split()\n",
    "    current_line = current_line.split()\n",
    "    y1 = float(prev_line[2])\n",
    "    y2 = float(current_line[2])\n",
    "    t1 = float(prev_line[0])\n",
    "    t2 = float(current_line[0])\n",
    "    if t2-t1 == 0:\n",
    "        return 0\n",
    "    return (y2-y1)/(t2-t1)\n",
    "\n",
    "\n",
    "# Compute the \"time serie\", the features for each line of the signature file\n",
    "def compute_features_vector(signature, normalize=True):\n",
    "    rep = []\n",
    "    first = True\n",
    "    for line in signature:\n",
    "        if first:\n",
    "            prev_line = line\n",
    "            first = False\n",
    "        feature_vector = [x_value(line), y_value(line), pressure_value(\n",
    "            line), vx_value(prev_line, line), vy_value(prev_line, line)]\n",
    "        rep.append(feature_vector)\n",
    "        prev_line = line\n",
    "\n",
    "    array = np.asarray(rep)\n",
    "\n",
    "    if normalize:\n",
    "        array = minmax_scale(array, feature_range=(0, 1), axis=0)\n",
    "\n",
    "    return array\n",
    "\n",
    "def compute_dtw(signature1, signature2, normalize=True):\n",
    "\n",
    "    feature_vector_1 = compute_features_vector(signature1, normalize)\n",
    "    feature_vector_2 = compute_features_vector(signature2, normalize)\n",
    "\n",
    "    dist_matrix = cdist(feature_vector_1, feature_vector_2)\n",
    "\n",
    "    dtw_cost = dtw(precomputed_cost=dist_matrix, dist=\"precomputed\",\n",
    "                   method=\"sakoechiba\")\n",
    "\n",
    "    return dtw_cost\n"
   ]
  },
  {
   "cell_type": "code",
   "execution_count": 7,
   "metadata": {},
   "outputs": [
    {
     "name": "stdout",
     "output_type": "stream",
     "text": [
      "18.37418347081205\n"
     ]
    }
   ],
   "source": [
    "f1 = open('data/enrollment/001-g-01.txt', 'r')\n",
    "f2 = open('data/enrollment/001-g-02.txt', 'r')\n",
    "print(compute_dtw(f1,f2))"
   ]
  },
  {
   "cell_type": "code",
   "execution_count": null,
   "metadata": {},
   "outputs": [],
   "source": []
  }
 ],
 "metadata": {
  "interpreter": {
   "hash": "628b2da58f8e86f73a45f837b51b4cf84d420caac018c4a1f961f9cfce82deef"
  },
  "kernelspec": {
   "display_name": "Python 3.9.5 64-bit",
   "language": "python",
   "name": "python3"
  },
  "language_info": {
   "codemirror_mode": {
    "name": "ipython",
    "version": 3
   },
   "file_extension": ".py",
   "mimetype": "text/x-python",
   "name": "python",
   "nbconvert_exporter": "python",
   "pygments_lexer": "ipython3",
   "version": "3.9.5"
  },
  "orig_nbformat": 4
 },
 "nbformat": 4,
 "nbformat_minor": 2
}
