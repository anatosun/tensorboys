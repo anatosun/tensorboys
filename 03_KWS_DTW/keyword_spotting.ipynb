{
 "cells": [
  {
   "cell_type": "code",
   "execution_count": 2,
   "metadata": {},
   "outputs": [],
   "source": [
    "import pandas as pd\n",
    "import numpy as np\n",
    "import seaborn as sns\n",
    "import matplotlib.pyplot as plt\n",
    "import bisect\n",
    "import statistics\n",
    "\n",
    "from helper import *"
   ]
  },
  {
   "cell_type": "markdown",
   "metadata": {},
   "source": [
    "# Project 3\n",
    "\n",
    "## Keyword Spotting in historical documents with dynamic time warping\n",
    "\n",
    "### Wicht François-Xavier, Demont Antoine, Mottet Boris, Poplawski Martin, Carrel Vincent"
   ]
  },
  {
   "cell_type": "markdown",
   "metadata": {},
   "source": [
    "## The DTW measure seems quite unreliable as it is now"
   ]
  },
  {
   "cell_type": "markdown",
   "metadata": {},
   "source": [
    "Train Validation"
   ]
  },
  {
   "cell_type": "code",
   "execution_count": 3,
   "metadata": {
    "scrolled": true
   },
   "outputs": [
    {
     "name": "stdout",
     "output_type": "stream",
     "text": [
      "Training docs: ['270', '271', '272', '273', '274', '275', '276', '277', '278', '279']\n",
      "Validation docs: ['300', '301', '302', '303', '304']\n"
     ]
    }
   ],
   "source": [
    "h = open(\"data/task/train.txt\", \"r\")\n",
    "trainDocs = []\n",
    "for line in h:\n",
    "    trainDocs.append(line.strip())\n",
    "h.close()\n",
    "print(f\"Training docs: {trainDocs}\")\n",
    "\n",
    "\n",
    "h = open(\"data/task/valid.txt\", \"r\")\n",
    "valDocs = []\n",
    "for line in h:\n",
    "    valDocs.append(line.strip())\n",
    "h.close()\n",
    "print(f\"Validation docs: {valDocs}\")"
   ]
  },
  {
   "cell_type": "markdown",
   "metadata": {},
   "source": [
    "## Getting words"
   ]
  },
  {
   "cell_type": "code",
   "execution_count": 4,
   "metadata": {
    "scrolled": false
   },
   "outputs": [],
   "source": [
    "words = {} \n",
    "\n",
    "#ids, frames = Slicer(images=(\"./data/images\", \".jpg\"),frames=(\"./data/ground-truth/locations\", \".svg\")).get_frames(save=True, savepath=\"./data/output/\")\n",
    "\n",
    "h = open(\"data/ground-truth/transcription.txt\", \"r\")\n",
    "for line in h: \n",
    "    for doc in trainDocs: \n",
    "        if not line.startswith(doc):\n",
    "            continue\n",
    "        image, word = line.split()\n",
    "        image = np.array(Image.open(\"data/output/\" + doc + \"/\" + image + \".png\"),dtype=float) \n",
    "        if not word in words:\n",
    "            words[word] = []\n",
    "        words[word] = words[word] + [image]\n",
    "# print(words)"
   ]
  },
  {
   "cell_type": "markdown",
   "metadata": {},
   "source": [
    "## Computing training dtw values"
   ]
  },
  {
   "cell_type": "code",
   "execution_count": 5,
   "metadata": {},
   "outputs": [
    {
     "name": "stdout",
     "output_type": "stream",
     "text": [
      "0 |1 |2 |3 |4 |5 |6 |7 |8 |9 |10 |11 |12 |13 |14 |15 |16 |17 |18 |19 |20 |\n",
      "21 |22 |23 |24 |25 |26 |27 |28 |29 |30 |31 |32 |33 |34 |35 |36 |37 |38 |39 |40 |\n",
      "41 |42 |43 |44 |45 |46 |47 |48 |49 |50 |51 |52 |53 |54 |55 |56 |57 |58 |59 |60 |\n",
      "61 |62 |63 |64 |65 |66 |67 |68 |69 |70 |71 |72 |73 |74 |75 |76 |77 |78 |79 |80 |\n",
      "81 |82 |83 |84 |85 |86 |87 |88 |89 |90 |91 |92 |93 |94 |95 |96 |97 |98 |99 |100 |\n",
      "101 |102 |103 |104 |105 |106 |107 |108 |109 |110 |111 |112 |113 |114 |115 |116 |117 |118 |119 |120 |\n",
      "121 |122 |123 |124 |125 |126 |127 |128 |129 |130 |131 |132 |133 |134 |135 |136 |137 |138 |139 |140 |\n",
      "141 |142 |143 |144 |145 |146 |147 |148 |149 |150 |151 |152 |153 |154 |155 |156 |157 |158 |159 |160 |\n",
      "161 |162 |163 |164 |165 |166 |167 |168 |169 |170 |171 |172 |173 |174 |175 |176 |177 |178 |179 |180 |\n",
      "181 |182 |183 |184 |185 |186 |187 |188 |189 |190 |191 |192 |193 |194 |195 |196 |197 |198 |199 |200 |\n",
      "201 |202 |203 |204 |205 |206 |207 |208 |209 |210 |211 |212 |213 |214 |215 |216 |217 |218 |219 |220 |\n",
      "221 |222 |223 |224 |225 |226 |227 |228 |229 |230 |231 |232 |233 |234 |235 |236 |237 |238 |239 |240 |\n",
      "241 |242 |243 |244 |245 |246 |247 |248 |249 |250 |251 |252 |253 |254 |255 |256 |257 |258 |259 |260 |\n",
      "261 |262 |263 |264 |265 |266 |267 |268 |269 |270 |271 |272 |273 |274 |275 |276 |277 |278 |279 |280 |\n",
      "281 |282 |283 |284 |285 |286 |287 |288 |289 |290 |291 |292 |293 |294 |295 |296 |297 |298 |299 |300 |\n",
      "301 |302 |303 |304 |305 |306 |307 |308 |309 |310 |311 |312 |313 |314 |315 |316 |317 |318 |319 |320 |\n",
      "321 |322 |323 |324 |325 |326 |327 |328 |329 |330 |331 |332 |333 |334 |335 |336 |337 |338 |339 |340 |\n",
      "341 |342 |343 |344 |345 |346 |347 |348 |349 |350 |351 |352 |353 |354 |355 |356 |357 |358 |359 |360 |\n",
      "361 |362 |363 |364 |365 |366 |367 |368 |369 |370 |371 |372 |373 |374 |375 |376 |377 |378 |379 |380 |\n",
      "381 |382 |383 |384 |385 |386 |387 |388 |389 |390 |391 |392 |393 |394 |395 |396 |397 |398 |399 |400 |\n",
      "401 |402 |403 |404 |405 |406 |407 |408 |409 |410 |411 |412 |413 |414 |415 |416 |417 |418 |419 |420 |\n",
      "421 |422 |423 |424 |425 |426 |427 |428 |429 |430 |431 |432 |433 |434 |435 |436 |437 |438 |439 |440 |\n",
      "441 |442 |443 |444 |445 |446 |447 |448 |449 |450 |451 |452 |453 |454 |455 |456 |457 |458 |459 |460 |\n",
      "461 |462 |463 |464 |465 |466 |467 |468 |469 |470 |471 |472 |473 |474 |475 |476 |477 |478 |479 |480 |\n",
      "481 |482 |483 |484 |485 |486 |487 |488 |489 |490 |491 |492 |493 |494 |495 |496 |497 |498 |499 |500 |\n",
      "501 |502 |503 |504 |505 |506 |507 |508 |509 |510 |511 |512 |513 |514 |515 |516 |517 |518 |519 |520 |\n",
      "521 |522 |523 |524 |525 |526 |527 |528 |529 |530 |531 |532 |533 |534 |535 |536 |537 |538 |539 |540 |\n",
      "541 |542 |543 |544 |545 |546 |547 |548 |549 |550 |551 |552 |553 |554 |555 |556 |557 |558 |559 |560 |\n",
      "561 |562 |563 |564 |565 |566 |567 |568 |569 |570 |571 |572 |573 |574 |575 |576 |577 |578 |579 |580 |\n",
      "581 |582 |583 |584 |585 |586 |587 |588 |589 |590 |591 |592 |593 |594 |595 |596 |597 |598 |599 |600 |\n",
      "601 |602 |603 |604 |605 |606 |607 |608 |609 |610 |611 |612 |613 |614 |615 |616 |617 |618 |619 |620 |\n",
      "621 |622 |623 |624 |625 |626 |627 |628 |629 |630 |631 |632 |633 |634 |635 |636 |637 |638 |639 |640 |\n",
      "641 |642 |643 |644 |645 |646 |647 |648 |649 |650 |651 |652 |653 |654 |655 |656 |657 |658 |659 |660 |\n",
      "661 |662 |663 |664 |665 |666 |667 |668 |669 |670 |671 |672 |673 |674 |675 |676 |677 |678 |679 |680 |\n",
      "681 |682 |683 |684 |685 |686 |687 |688 |689 |690 |691 |692 |693 |694 |695 |696 |697 |698 |699 |700 |\n",
      "701 |702 |703 |704 |705 |706 |707 |708 |709 |710 |711 |712 |713 |714 |715 |716 |717 |718 |719 |720 |\n",
      "721 |722 |723 |724 |725 |726 |727 |728 |729 |730 |731 |732 |733 |734 |735 |736 |737 |738 |739 |740 |\n",
      "741 |742 |743 |744 |745 |746 |747 |748 |749 |750 |751 |752 |753 |754 |755 |756 |757 |758 |759 |760 |\n",
      "761 |762 |763 |764 |765 |766 |767 |768 |769 |770 |771 |772 |773 |774 |775 |776 |777 |778 |779 |780 |\n",
      "781 |782 |783 |784 |785 |786 |787 |788 |789 |790 |791 |792 |793 |794 |795 |796 |797 |798 |799 |800 |\n",
      "801 |802 |803 |804 |805 |806 |807 |808 |809 |810 |811 |812 |813 |814 |815 |816 |817 |818 |819 |820 |\n",
      "821 |822 |823 |824 |825 |826 |827 |828 |829 |830 |831 |832 |833 |834 |{'s_2-s_7-s_0-s_pt': 150, 'L-e-t-t-e-r-s-s_cm': 185.3289714508341, 'O-r-d-e-r-s': 172.82250883660865, 'a-n-d': 235.22235104499313, 'I-n-s-t-r-u-c-t-i-o-n-s-s_pt': 201.47697757252706, 'O-c-t-o-b-e-r': 161.74019875942645, 's_1-s_7-s_5-s_5-s_pt': 138.30529124579547, 'o-n-l-y': 174.9427917377123, 'f-o-r': 126.22013040110686, 't-h-e': 130.43810507456814, 'p-u-b-l-i-c-k': 150, 'u-s-e-s_cm': 150, 'u-n-l-e-s_s-s': 154.8167282587764, 'b-y': 93.65070190995823, 'p-a-r-t-i-c-u-s_mi': 150, 'l-a-r': 150, 'f-r-o-m': 127.06044469856471, 'm-e-s_pt': 147.7611858142674, 'Y-o-u': 123.21682188560483, 'a-r-e': 141.90200689439703, 't-o': 97.12625063482807, 's-e-n-d': 130.76877023533672, 'd-o-w-n': 228.8969830815726, 'a': 102.31175310494703, 'B-a-r-r-e-l': 150, 'o-f': 73.57119739561904, 'F-l-i-n-t-s': 150, 'w-i-t-h': 205.65049494875714, 'A-r-m-s-s_cm': 98.41423265874829, 'W-i-n-c-h-e-s-t-e-r-s_cm': 204.82953371521373, 'a-b-o-u-t': 169.11773107829922, 't-w-o': 110.58909847058251, 't-h-o-u-s-a-n-d': 150, 'w-e-i-g-h-t': 150, 'F-l-o-u-r-s_cm': 150, 'C-o-m-p-a-n-i-e-s': 171.45046235429314, 'R-a-n-g-e-r-s-s_sq': 150, 't-w-e-l-v-e': 229.9240481621266, 'h-u-n-d-r-e-d': 150, 'w-h-i-c-h': 205.4379791108017, 'b-e': 109.25895843002138, 'd-e-l-i-v-e-r-e-d': 195.05781042245476, 'C-a-p-t-a-i-n': 150.5639382462873, 'A-s-h-b-y': 150, 'C-o-m-p-a-n-y-s_cm': 190.06291053060687, 'a-t': 132.84672485661383, 'P-l-a-n-t-a-t-i-o-n': 150, 'C-h-a-r-l-e-s': 150, 'S-e-l-l-a-r-s': 150, 's_mi': 174.82894570912697, 'r-e-s-t': 150, 'C-o-c-k-e-s-s_qt': 150, 'N-i-c-h-o-l-a-s': 150, 'R-e-a-s-m-e-r-s-s_pt': 150, 's_2-s_6th-s_pt': 223.20921279689267, 's_GW': 167.3312850596116, 's_2-s_8th': 150, 'W-i-n-c-h-e-s-t-e-r-s_qo': 150, 's_2-s_8th-s_cm': 150, 'P-a-r-o-l-e': 176.46590780175578, 'H-a-m-p-t-o-n-s_pt': 150, 'T-h-e': 194.07912126868302, 'O-f-f-i-c-e-r-s': 122.2515386541178, 'w-h-o': 192.56581036902702, 'c-a-m-e': 150, 'F-o-r-t': 217.1563819791212, 'C-u-m-b-e-r-l-a-n-d': 172.2860347393872, 'C-o-l-o-n-e-l': 173.23885232005853, 'W-a-s-h-i-n-g-t-o-n-s_cm': 150, 'i-m-m-e-d-i-a-t-e-l-y': 149.95936070906083, 'g-o': 174.61937172744092, 'R-e-c-r-u-i-s_mi': 161.71234318439838, 't-i-n-g-s_sq': 150, 't-h-e-y': 117.71136998313375, 'a-l-l-o-w-e-d': 185.61570469079504, 'u-n-t-i-l': 172.11559211882516, 's_1st-s_pt': 142.70228410160854, 'D-e-s_mi': 150, 'c-e-m-b-e-r-s_sq': 150, 't-i-m-e': 150.07418151183091, 'i-f': 130.44087742030788, 'd-o': 121.8691012220671, 'n-o-t': 156.60784056318636, 'p-u-n-c-t-u-a-l-l-y': 150, 'a-p-p-e-a-r': 150, 'p-l-a-c-e': 157.43816147290948, 'R-e-n-d-e-z-s_mi': 150, 'v-o-u-s': 150, 'a-s_s-s-i-g-n-e-d': 150, 't-h-e-m-s_cm': 178.18817756289505, 'w-i-l-l': 161.4031105244772, 't-r-i-e-d': 150, 'C-o-u-r-t': 160.85247302021557, 'M-a-r-t-i-a-l-s_cm': 150, 'd-i-s-o-b-e-d-i-e-n-c-e': 150, 'O-r-d-e-r-s-s_pt': 150, 'T-h-e-y': 169.6404664893148, 'w-a-i-t': 150, 'u-p-o-n': 114.2146607158059, 'A-i-d': 147.93427680732145, 'd-e': 71.1191744888449, 'c-a-m-p': 150, 'o-n-e': 147.4266555508784, 'C-l-o-c-k-s_cm': 150, 'r-e-c-e-i-v-e': 137.29535514761298, 't-h-e-i-r': 180.6045805127207, 't-i-n-g': 150, 'E-a-c-h': 150, 'O-f-f-i-c-e-r': 173.45645176321568, 'p-r-e-s-e-n-t-s_cm': 150, 'g-i-v-e': 196.2056966632649, 'i-n': 107.2165738493431, 'R-e-t-u-r-n': 154.8242330951908, 'n-u-m-b-e-r': 150, 'm-e-n': 168.33372763615057, 'h-e': 143.80090046264485, 'h-a-s': 138.92708751057862, 'e-n-l-i-s-t-e-d-s_pt': 150, 'O-n-e': 98.26193941919085, 'S-u-b-a-l-t-e-r-n-s_cm': 152.30321927958545, 'S-e-r-g-e-a-n-t-s_cm': 133.58530859169926, 'C-o-r-p-o-r-a-l-s_cm': 156.48600262370914, 'D-r-u-m-m-e-r-s_cm': 174.5573842994694, 't-w-e-n-t-y': 160.59291769284775, 'f-i-v-e': 143.38399320578222, 'p-r-i-v-a-t-e': 178.69387273232266, 'm-e-n-s_cm': 181.15395838692726, 'm-o-u-n-t': 150, 'G-u-a-r-d': 157.65725334645347, 'd-a-y-s_cm': 150, 'r-e-l-i-e-v-e-d': 150, 'm-o-r-r-o-w': 150, 't-e-n': 111.02482266994265, 'o-s_qt-c-l-o-c-k-s_pt': 150, 's_mi-s_pt': 150, 'A-l-l': 150, 'R-e-p-o-r-t-s': 150, 'R-e-t-u-r-n-s': 135.46402411980654, 'm-a-d-e': 124.65592796356856, 'C-a-m-p-s_pt': 150, 's_2-s_7-s_1-s_pt': 150, 's_2-s_8th-s_pt': 129.15887056172005, 'T-o': 241.43792687495275, 'E-n-s-i-g-n': 171.34568271742398, 'F-l-e-m-i-n-g-s_cm': 235.24477333131406, 'V-i-r-g-i-n-i-a': 195.72734108933057, 'R-e-g-i-m-e-n-t-s_pt': 213.0722836409122, 'h-e-r-e-b-y': 154.93811828300133, 'o-r-d-e-r-e-d': 165.26565638471257, 'r-e-p-a-i-r': 150, 'H-o-g-g-s_qt-s': 150, 'C-o-m-p-a-n-y': 142.10017264678473, 'D-i-n-w-i-d-d-i-e': 150, 'e-i-g-h-t': 179.45075657416152, 'g-o-o-d': 104.58539059489233, 'm-e-n-s_qo': 150, 'a-s': 90.35307710032055, 't-h-a-t': 110.78230365859257, 'i-s': 87.63266150968596, 'w-i-t-h-o-u-t': 150, 'S-u-r-g-e-o-n-s_cm': 117.35950943308663, 'y-o-u': 123.40552778723874, 'd-u-t-y-s_cm': 150, 'a-n': 136.5776780033869, 'a-l-l-o-w-a-n-c-e': 150, 'i-t-s_pt': 185.197520080596, 'p-r-o-v-i-d-e': 146.64839440289566, 'm-e-d-i-c-i-n-e-s-s_cm': 150, 's_et-c-s_pt': 90.49505281402776, 'b-e-s-t': 145.9811828609265, 't-e-r-m-s': 104.7540505921677, 'c-a-n-s_pt': 150, 'T-h-i-s': 150, 'O-r-d-e-r': 116.36747122151871, 'I': 141.68974047554156, 'e-x-p-e-c-t': 84.54779271491327, 'i-m-m-e-d-i-s_mi': 177.77608502271153, 'a-t-e-l-y': 159.30778389720714, 'c-o-m-p-l-i-e-d': 146.17628032394288, 'w-i-t-h-s_sq': 150, 'n-o': 79.00365024952575, 'D-e-l-a-y-s': 150, 'o-f-s_mi': 150, 'f-e-r-e-d-s_pt': 150, 'a-c-c-o-u-n-t': 155.89745635342823, 'B-e-l-l': 230.96555683891614, 'y-o-u-r': 154.56521177085398, 'r-e-c-r-u-i-t-i-n-g': 176.4369059395663, 'm-o-n-e-y-s_cm': 150, 'b-e-f-o-r-e': 142.6063930278031, 'l-e-a-v-e': 150, 'h-i-m-s_pt': 193.17225742228538, 'I-f': 128.5050405562522, 's-h-o-u-l-d': 177.02581060110927, 'a-r-r-i-v-e': 237.82832942746793, 'A-u-g-u-s-t-a': 150, 'H-o-u-s-e': 150, 'S-e-r-g-e-a-n-t': 157.13716493533818, 'W-i-l-p-e-r': 138.0851153831328, 'h-i-s': 158.04035643226112, 'P-a-r-t-y-s_cm': 150, 'h-a-l-t': 266.86879534535575, 't-h-e-r-e': 192.44456292756007, 'j-o-i-n-s-s_cm': 150, 'o-r-d-e-r': 184.31572147336814, 'e-s-c-o-r-t': 150, 'A-m-m-u-n-i-t-i-o-n-s_cm': 150, 'F-o-r-t-s_sq': 150, 'w-h-e-r-e': 203.41821180814438, 'C-l-o-t-h-e-s': 194.150767148133, 'A-r-m-s': 178.31383155014225, 'M-e-n-s_pt': 150, 'h-a-v-e': 180.51741020287, 'O-r-d-e-r-e-d': 114.96337766755327, 'F-l-e-m-i-n-g': 150, 'R-e-p-a-i-r': 150, 'H-o-g-g-s': 150.678672435609, 'm-e-n-s_sq': 150, 's-e-e': 161.5967468218829, 'w-i-t-h-s_pt': 185.10602466718825, 'H-e': 150.40456779993036, 'm-o-n-e-y': 144.2849213514763, 'l-e-a-v-e-s': 150, 'y-o-u-s_pt': 225.01497014619167, 'o-r-d-e-r-e-d-s_cm': 234.49115514934658, 'p-e-r-e-m-p-t-o-r-i-l-y-s_cm': 150, 't-h-i-s': 162.4826776322325, 'w-h-a-t': 180.34640522601998, 'h-a-v-e-s_cm': 150, 'o-r': 67.69838210195189, 'c-a-n': 145.3540680498308, 'e-n-s_mi': 150, 'l-i-s-t': 150, 'D-e-c-e-m-b-e-r-s_pt': 244.26816563649226, 'Y-o-u-r': 150, 'l-a-t-e': 150, 'd-i-s-o-b-e-d-i-s_mi': 150, 'e-n-c-e': 150, 'g-r-e-a-t-l-y': 150, 'd-i-s-p-l-e-a-s-e-d': 150, 'I-t': 80.33815200643893, 'i-m-p-o-s_s-s-i-b-l-e': 150, 'c-a-r-r-y': 176.4005917888624, 'o-n': 74.8742476373488, 'a-f-f-a-i-r-s': 150, 'o-u-g-h-t': 109.82347812162779, 'b-e-s_cm': 150, 'w-h-e-n': 134.28890438470847, 'p-a-y': 154.54568896944167, 's-o': 104.69263806732005, 'l-i-t-t-l-e': 150, 'r-e-g-a-r-d': 150, 'F-o-r-c-e': 150, 'M-i-l-i-t-a-r-y': 150, 'm-u-s-t': 154.70612898322307, 'c-o-n-s-c-i-o-u-s': 150, 'w-i-t-h-i-n': 150, 'y-o-u-r-s-e-l-f': 178.63054962672607, 's_bl-o-r': 150, 'l-e-a-s-t': 150, 'b-e-s_br': 150, 'C-r-i-m-e': 150, 's-u-f-f-i-c-i-e-n-t': 150, 'B-r-e-a-k': 150, 'e-v-e-r': 150, 'b-o-r-e': 150, 'C-o-m-m-i-s_s-s-i-o-n-s_pt': 150, 's_2-s_7-s_2-s_pt': 150, 'P-e-t-e-r': 150, 'H-o-g-g-s_cm': 150, 'S-i-r-s_cm': 222.8790468961413, 'r-e-c-e-i-v-e-d': 158.75357682654453, 'y-o-u-r-s': 150, 's_6th-s_pt': 150, 'O-c-t-o-s_mi': 150, 'b-e-r-s_cm': 150, 'i-n-c-l-o-s-i-n-g': 150, 'd-a-y-s_pt': 150, 'F-e-r-g-u-s-o-n': 150, 'w-a-s': 229.160400503172, 's-e-n-t': 164.7564564767891, 'a-f-t-e-r': 148.43659818861858, 'y-o-u-s_cm': 150, 'b-u-t': 129.33760527130573, 'f-a-l-l-i-n-g': 150, 'i-l-l-s_cm': 150, 'S-o-r-e': 150, 'a-r-m-s_cm': 150, 'h-e-r-e-s_cm': 159.93015800957727, 'n-o-w': 135.43294103499682, 'r-e-m-a-i-n-s': 227.66340198585806, 'u-n-f-i-t': 150, 'D-u-t-y-s_qo': 150, 't-h-e-r-e-f-o-r-e': 150, 'r-o-o-m-s_pt': 150, 'C-l-o-t-h-i-n-g': 136.94493108438672, 'c-o-m-p-l-e-t-e': 171.4948545761278, 'C-o-m-p-a-s_mi': 150, 'n-y': 150, 'E-s-t-a-b-l-i-s-h-m-e-n-t-s_pt': 150, 'e-n-l-i-s-t-e-d': 150, 't-h-r-e-e': 150, 'm-a-r-c-h-s_cm': 150, 'o-r-s_mi': 150, 'd-e-r-e-d': 150, 'o-t-h-e-r-s-s_cm': 109.17978668096859, 'j-o-i-n': 193.4278123644257, 'y-o-u-s_sq': 150, 'b-e-i-n-g': 130.68243547981996, 'd-e-s-i-r-e-d': 235.99086121374611, 't-a-k-e': 139.22366981773368, 'c-a-r-e': 150, 'C-o-m-p-a-n-y-s_sq': 169.1141826273282, 'a-l-l-o-w-e-d-s_pt': 150, 'u-s-e': 213.079056407342, 'e-n-d-e-a-v-o-u-r-s': 150, 's-e-c-u-r-e': 150, 'p-r-o-v-i-s-i-o-n-s-s_cm': 150, 'i-t': 134.07977646178423, 'm-o-s-t': 136.48938721939925, 'n-e-e-d-f-u-l': 150, 's_qo-s_mi': 150, 'i-m-p-o-s_s-s-i-s_mi': 150, 'b-l-e': 150, 'd-i-r-e-c-t': 150, 'd-i-s-t-a-n-c-e-s_cm': 150, 'p-r-o-p-e-r-l-y-s_pt': 150, 'A-s': 94.01754507734259, 'w-e': 150, 'c-o-n-t-r-a-c-t-e-d': 150, 'l-a-r-g-e': 150, 'q-u-a-n-t-i-t-y': 170.66324591519538, 'B-e-e-f': 150, 'a-l-r-e-a-d-y-s_cm': 150, 'e-n-g-a-g-e': 186.86710323673424, 'm-o-r-e': 145.5250865304984, 't-h-a-n': 154.6162229188093, 's-u-f-f-i-c-e': 150, 'o-w-n': 150, 'C-o-m-p-a-n-y-s_pt': 191.85083374661528, 's-h-a-l-l': 159.76469748005465, 'l-o-d-g-e-d': 150, 'M-r-s_pt': 172.78920629886613, 'D-i-c-k': 203.15525386594365, 'u-s-u-a-l': 150, 's-t-o-p-p-a-g-e-s': 150, 'm-e-n-s': 150, 'w-h-i-l-e': 150, 'H-o-s-p-i-t-a-l-s_cm': 150, 'a-n-s-w-e-r': 150, 'e-x-p-e-n-c-e': 150, 'N-u-r-s-e-s-s_cm': 150, 'v-e-r-y': 144.98371702121983, 'c-a-r-e-f-u-l': 152.0420040427768, 's-l-i-p': 150, 'o-p-p-o-r-t-u-n-i-t-y': 150, 'p-u-r-c-h-a-s-i-n-g': 152.274390092036, 'G-r-a-i-n': 150, 'd-e-p-e-n-d-a-n-c-e': 150, 's_2-s_7-s_3-s_pt': 150, 'B-r-e-a-d-s_sq': 150, 'C-o-m-m-i-s_s-s-a-r-y': 211.75670352605442, 'h-a-v-i-n-g': 159.65789641872158, 'm-a-k-e': 152.92041473607028, 'p-r-o-v-i-s-i-o-n-s': 150, 'a-n-y': 155.23085345118807, 'd-e-s-e-r-t': 150, 'd-i-e-s_cm': 122.03713111419633, 'R-e-c-r-u-i-t': 187.02374122998, 'k-e-e-p-i-n-g': 150, 'E-s-t-a-s_mi': 150, 'b-l-i-s-h-m-e-n-t-s_pt': 150, 'L-i-e-u-t-e-n-a-n-t': 222.93711806033858, 'B-a-c-o-n': 150, 'M-a-r-y-l-a-n-d': 150, 'I-n-d-e-p-e-n-d-a-n-t': 150, 't-h-o-s-e': 170.88780586176318, 'S-t-o-c-k-a-d-e-s': 150, 'P-a-t-t-e-r-s-o-n-s': 150, 'C-r-e-e-k-s_cm': 150, 'i-n-t-e-n-d-e-d': 150, 'w-a-y': 150, 'c-o-v-e-r': 150, 'R-a-n-g-e-r-s-s_cm': 150, 'R-e-c-e-p-t-a-c-l-e': 150, 't-h-e-n': 150, 'P-r-o-v-i-s-i-o-n-s-s_sq': 150, 'p-l-a-n': 150, 'w-o-r-k-s_cm': 150, 'r-e-q-u-i-r-e-s': 150, 'm-u-c-h': 259.02127007424946, 'e-x-e-c-u-t-e-s_pt': 150, 'W-e': 150, 'n-e-i-t-h-e-r': 150, 'M-e-n': 150, 'n-o-r': 150, 'T-o-o-l-s-s_cm': 150, 'u-n-d-e-r-t-a-k-i-n-g': 150, 'v-i-g-o-u-r-s_pt': 150, 'a-m': 84.80395554781241, 's_2-s_9th-s_pt': 165.9233724712206, 'A-d-a-m': 150, 'S-t-e-p-h-e-n-s_cm': 150, 'O-r-d-e-r-e-d-s_cm': 150, 's-o-o-n': 117.47110801185444, 'W-a-g-g-o-n-s': 150, 'A-l-e-x-a-n-d-r-i-a': 106.00014828425294, 'C-u-m-b-e-r-l-a-n-d-s_cm': 207.81558221792957, 'c-o-m-p-l-e-t-e-l-y': 150, 'f-u-r-n-i-s-h-e-d': 150, 'b-o-t-h-s_sq': 226.9865504274981, 'm-a-r-c-h': 245.06698745658016, 't-h-e-m': 178.4661037712166, 'C-u-m-b-e-r-l-a-n-d-s_sq': 150, 'o-b-s-e-r-v-i-n-g': 150, 'u-p': 103.81288034621463, 'a-l-l': 207.6895019818212, 'S-a-l-t': 150, 'w-a-g-g-o-n-s-s_cm': 150, 'p-r-o-v-i-d-e-d': 150, 'c-o-m-m-i-s_s-s-a-r-y-s_cm': 150, 'c-a-r-r-y-s_pt': 150, 'T-h-e-r-e': 245.9820588054331, 'c-o-m-e': 150, 's-o-m-e': 157.8786589207338, 'c-o-u-n-t-r-y': 150, 'w-a-g-s_mi': 150, 'g-o-n-s-s_cm': 150, 'a-l-s-o': 210.96465088818084, 'l-o-a-d-e-d': 150, 'S-a-l-t-s_pt': 150, 'c-l-o-t-h-i-n-g': 150, 'w-a-n-t-i-n-g': 150, 'p-u-r-p-o-s-e': 150, 'f-o-r-t-y': 150, 'C-o-a-t-s-s_cm': 174.86650373039328, 't-h-i-r-t-y': 164.05568925980782, 'n-i-n-e': 439.37940528460035, 'w-a-i-s-t-c-o-a-t-s-s_cm': 150, 'f-i-f-t-y': 150, 's-i-x': 105.63350051279417, 'p-a-i-r': 139.81414261897962, 'B-r-e-e-c-h-e-s-s_sq': 150, 'H-a-t-s': 150, 'e-i-g-h-t-y': 150, 'S-h-i-r-t-s-s_sq': 150, 's_2-s_7-s_4-s_pt': 150, 'o-u-t': 156.53535757186398, 'C-o-m-p-a-n-i-e-s-s_cm': 194.24976887379177, 'a-c-c-o-r-d-i-n-g': 150, 'm-e': 179.6926389502107, 'C-u-m-s_mi': 150, 'b-e-r-l-a-n-d-s_cm': 150, 'S-u-i-t-s': 150, 'n-e-c-e-s_s-s-a-r-y-s_cm': 150, 'c-a-s-e': 150, 'g-e-t-t-i-n-g': 150, 'L-o-d-g-i-n-g': 150, 'B-a-r-r-a-c-k-s': 150, 'f-u-l-l-s_pt': 150, 'W-i-l-s_mi': 150, 'p-e-r': 202.86127514015237, 'w-a-i-t-i-n-g': 150, 'r-e-t-u-r-n': 150, 'w-a-g-g-o-n-s': 150, 'F-o-r-t-s_cm': 150, 'n-e-c-e-s_s-s-a-r-i-e-s': 152.18983250308776, 'a-r-r-i-v-e-s_cm': 218.63305508674574, 'r-e-c-e-i-v-e-s': 150, 's-u-c-h': 170.7801282944888, 't-h-i-n-g-s': 150, 'o-r-d-e-r-s': 150, 'f-o-r-s_cm': 150, 'd-i-s-p-a-t-c-h': 191.37297152921735, 'h-i-m': 153.63023600893368, 'i-m-m-e-d-i-a-t-e-l-y-s_pt': 150, 'o-t-h-e-r': 122.17731057917528, 'H-o-r-s-e-s-s_cm': 150, 'b-e-l-o-n-g-s_mi': 150, 'i-n-g': 150, 'C-o-u-n-t-r-y-s_cm': 144.64073358514443, 'h-a-d': 150, 'C-o-u-n-t-r-y': 150, 'T-e-a-m-s': 150, 's-t-o-p-p-e-d-s_cm': 150, 'h-o-r-s-e-s': 150, 'g-i-v-e-n': 150, 'h-e-r-d-s-m-e-n': 150, 'r-e-m-a-i-n': 150, 'C-a-t-t-l-e-s_cm': 150, 'h-e-a-r': 150, 'C-o-m-s_mi': 193.92892021191236, 'm-i-s_s-s-a-r-y': 150, 'C-o-o-p-e-r-s': 214.65072360227214, 'B-a-r-r-e-l-s': 150, 'p-a-c-k-i-n-g': 150, 'B-e-e-f-s_sq': 150, 'S-o-l-d-i-e-r-s': 150, 'C-o-o-p-e-r-s-s_cm': 150, 's-e-t': 150, 'i-m-s_mi': 150, 'm-e-d-i-a-t-e-l-y': 150, 'w-o-r-k-s_pt': 150, 'S-t-o-r-e-s': 150, 'h-e-r-e': 220.76656828451422, 'p-o-u-n-d-s': 150, 'G-o-o-s-e': 150, 'd-e-l-i-v-e-r': 220.8274868636565, 'A-s-h-b-y-s_qt-s': 150, 'p-a-s_s-s': 150, 'b-y-s_cm': 150, 'd-i-r-e-c-t-i-n-g': 150, 'p-a-r-t-i-c-u-l-a-r-l-y': 150, 'c-a-r-e-s_mi': 150, 'f-u-l': 150, 'e-i-t-h-e-r': 150, 'C-a-p-t-a-i-n-s': 150, 'R-a-n-g-e-r-s': 150, 'a-p-p-l-y': 136.0371780656217, 'A-m-m-u-s_mi': 150, 'n-i-t-i-o-n-s_cm': 150, 's-u-p-p-l-y': 150, 'F-o-r-t-s_pt': 150, 'A': 150, 'D-r-u-m-s_cm': 150, 'W-i-l-p-e-r-s_cm': 216.1893759764743, 'r-o-o-m': 150, 'D-u-n-c-a-n': 150, 'F-e-r-g-u-s-o-n-s_cm': 150, 's_2-s_7-s_5-s_pt': 150, 'C-u-m-b-e-r-l-a-n-d-s_pt': 166.57158583049832, 'R-e-g-i-m-e-n-t': 150, 'e-x-e-r-s_mi': 150, 'c-i-s-e-d': 150, 'o-f-t-e-n': 150, 'e-v-e-r-y': 100.01440504291523, 'd-a-y': 125.70917277676843, 'd-u-t-y': 150, 'a-d-m-i-t-s_sq': 150, 'p-r-a-c-t-i-s-e-d': 150, 's-h-o-o-t-i-n-g': 150, 'T-a-r-s_mi': 150, 'g-e-t-s-s_sq': 150, 'r-e-m-a-r-k-a-b-l-y': 150, 'a-w-k-w-a-r-d-s_cm': 150, 'p-a-r-t-i-c-u-l-a-r': 147.20417788665878, 'p-a-i-n-s': 150, 't-a-k-e-n': 150, 't-h-e-m-s_pt': 150, 'o-b-s-e-r-v-e': 150, 'd-i-s-c-i-p-l-i-n-e-s_cm': 150, 'i-r-r-e-g-u-s_mi': 150, 'l-a-r-i-t-i-e-s': 150, 'h-a-p-p-e-n-s_sq': 150, 'p-i-l-l-a-g-e': 173.0537899973218, 'c-o-m-p-l-a-i-n-e-d': 150, 'l-a-s-t': 150, 'D-e-t-a-c-h-m-e-n-t-s_pt': 150, 'M-a-j-o-r': 185.58268292044167, 'L-e-w-i-s': 242.45168230236132, 'I-n-s_mi': 150, 's-t-r-u-c-t-i-o-n-s': 150, 'l-e-f-t': 134.32844079093758, 'h-i-m-s_cm': 172.99646599879387, 'o-b-s-e-r-v-e-d-s_pt': 150, 'G-i-v-e-n': 153.88313631854078, 'u-n-d-e-r': 239.28986852136381, 'm-y': 150, 'H-a-n-d': 150, 'a-r-e-s_cm': 150, 'd-i-r-e-c-t-i-o-n-s': 150, 'n-e-c-e-s_s-s-a-r-y': 172.84842503339937, 'd-r-i-v-i-n-g': 150, 'C-a-t-t-l-e': 154.19347201687182, 'D-o-c-t-o-r': 150, 'W-a-l-k-e-r-s_cm': 150, 't-h-e-r-e-s_cm': 150, 'k-i-l-l-e-d': 150, 'p-r-o-p-e-r-l-y': 150, 's-a-l-t-e-d-s_pt': 150, 'W-h-i-c-h-e-v-e-r': 150, 'p-u-r-c-h-a-s-e': 150, 'P-o-r-k': 150, 'i-m-a-g-i-n-e': 150, 'T-r-o-o-p-s-s_cm': 195.98729003584057, 'r-e-a-s-o-n-a-b-l-e': 150, 'c-a-n-s_sq': 150, 'o-b-l-i-g-e': 150, 'w-h-a-t-e-v-e-r': 115.29263450813963, 'j-u-d-g-e': 150, 'p-r-o-p-e-r-s_pt': 150, 'a-n-s-w-e-r-s_cm': 150, 'h-a-n-d-s-s_cm': 145.7606900237198, 'D-r-a-u-g-h-t-s': 150, 'H-o-g-g': 150, 'm-a-y': 124.36521298592326, 'd-r-a-w': 150, 's-u-b-s-i-s-t-a-n-c-e': 150, 't-i-m-e-s_pt': 247.783384465326, 'e-n-g-a-g-e-d': 150, 'B-e-r-r-e-l-s': 150, 'P-r-o-v-i-s-i-o-n-s-s_cm': 150, 's_2-s_7-s_6-s_pt': 150, 'L-e-t-t-e-r-s': 150, 'E-x-p-e-d-i-t-i-o-n-s_cm': 150, 'k-n-o-w': 150, 'w-a-n-t-e-d': 150, 's-e-v-e-r-a-l': 150, 'C-o-n-t-r-a-c-t-s': 150, 'n-e-x-t': 170.96127765915114, 'm-o-n-t-h-s_cm': 166.80771725242394, 'd-e-s-i-r-e': 150, 'u-p-s_mi': 150, 'a-c-c-o-u-n-t-s_cm': 150, 'i-m-m-e-d-i-a-t-e': 150, 'p-a-y-m-e-n-t-s_pt': 150, 'W-i-n-c-h-e-s-t-e-r': 177.77163762273395, 's_1-s_7-s_5-s_5': 150, 'W-i-l-l-i-a-m-s-b-u-r-g-h-s_pt': 150, 'D-r-u-m-m-e-r': 150, 'P-e-a-c-h-y': 150, 'c-o-m-m-a-n-d': 291.41635659274607, 'R-e-c-r-u-i-t-s': 170.182640467351, 'a-r-r-i-v-e-d': 106.09533379416624, 'H-a-l-l': 150, 'P-r-i-c-e-s_sq': 150, 'a-c-t': 150, 'f-u-r-t-h-e-r': 172.20993989153726, 'o-r-d-e-r-s-s_mi': 115.99783752498098, 'H-e-d-g-e-m-a-n-s_cm': 150, 'K-i-n-g-s_cm': 150, 'E-u-s-t-a-c-e-s_cm': 150, 's_bl-a-s': 150, 'C-u-m-b-e-r-l-a-n-d-s_br': 150, 'W-a-g-g-e-n-e-r': 150, 'c-o-m-m-a-n-d-s': 150, 'p-r-e-s-e-n-t-s_sq': 150, 'P-a-r-t-y': 150, 'S-h-a-w-s_cm': 150, 'r-e-s_mi': 150, 't-u-r-n': 150, 'r-e-s-p-e-c-t-i-v-e': 150, 'r-e-a-c-h': 150, 'M-a-g-a-z-i-n-e': 150, 's-e-c-u-r-e-d-s_cm': 150, 'f-a-s-t-e-n-i-n-g': 150, 'w-i-n-d-o-w-s': 150, 'b-e-t-t-e-r': 150, 'a-r-e-s_pt': 150, 'c-l-o-s_mi': 150, 's_2-s_7-s_7-s_pt': 150, 't-h-e-d': 150, 'm-o-r-r-o-w-s_cm': 150, 'A-c-c-o-u-n-t-s': 150, 'r-e-c-e-i-v-e-s_pt': 150, 'R-e-c-r-u-i-t-s-s_pt': 150, 'e-a-c-h': 172.7777648091375, 'm-a-n': 154.1222407505366, 'd-i-s-t-i-n-g-u-i-s-h-e-s': 150, 'F-i-r-e-l-o-c-k': 150, 'm-a-r-k-s_cm': 150, 'S-u-b-s_mi': 150, 'a-l-t-e-r-n-s': 150, 'e-n-t-e-r': 123.65133302530182, 'B-o-o-k-s_cm': 150, 'k-e-e-p': 150, 'p-u-r-p-o-s-e-s_pt': 150, 'E-v-e-r-y': 150, 'O-r-d-e-r-l-y': 150, 'B-o-o-k': 150, 'i-s_s-s-u-e': 150, 'r-e-g-u-l-a-r-l-y-s_cm': 150, 'e-x-a-m-i-n-e': 150, 'o-f-t-e-n-s_cm': 150, 'd-u-l-y': 150, 'B-r-o-n-a-u-g-h-s_cm': 150, 'S-t-e-w-a-r-t-s_cm': 150, 'B-l-e-g-g': 150, 'W-i-l-l-i-a-m-s-s_cm': 150, 'R-e-c-r-u-i-t-i-n-g-s_cm': 150, 'R-e-n-d-e-z-v-o-u-s': 185.9569784609489, 'A-l-e-x-a-n-d-r-i-s_mi': 150, 'a-s_cm': 150, 's_1st': 150, 's_3-s_1st-s_pt': 150, 'R-o-b-e-r-t': 150, 'S-p-o-t-s-w-o-o-d-s_cm': 150, 'f-u-r-n-i-s-h': 150, 'F-r-e-d-e-r-i-c-k-s-b-u-r-g-h-s_cm': 150, 'u-t-m-o-s-t': 150, 'r-e-i-n-f-o-r-c-e': 150, 'G-a-r-r-i-s-o-n-s_pt': 150, 'W-h-e-n': 150, 'C-a-r-s_mi': 150, 't-r-i-d-g-e-s-s_pt': 150, 'c-i-r-c-u-m-s_mi': 150, 's-p-e-c-t': 150, 'm-a-r-c-h-s_sq': 150, 'w-h-a-t-s-o-e-v-e-r-s_cm': 150, 'p-l-u-n-d-e-r': 150, 'H-o-u-s-e-s': 150, 'p-e-o-p-l-e': 150, 'd-e-s-e-r-t-e-d-s_cm': 150, 'P-l-a-n-t-a-t-i-o-n-s-s_pt': 150, 'F-r-a-s_mi': 150, 'z-i-e-r': 150, 'C-a-r-t-e-r-s_cm': 150, 'a-p-p-o-i-n-t-e-d': 150, 'm-a-n-d': 150, 's_2-s_7-s_8-s_pt': 150, 'J-o-h-n': 150, 'M-e-r-c-e-r': 150, 'R-e-n-s_mi': 150, 'd-e-z-v-o-u-s': 150, 'f-i-r-s-t': 150, 'D-a-y': 150, 'D-e-c-e-m-b-e-r-s_cm': 266.4977390819907, 'r-a-i-s-e': 150, 'F-r-e-d-e-r-i-c-k-s-b-u-r-g-s_cm': 150, 'N-o-v-e-m-b-e-r': 189.62470627781377, 'c-a-m-p-s_pt': 150, 'N-s_pt-B-s_pt': 289.33787334842276, 'J-o-s-h-u-a': 150, 'A-l-e-x-s_mi': 150, 'a-n-d-r-i-a-s_pt': 150, 'B-o-y-d-s_cm': 150, 'P-a-y-m-a-s-t-e-r-s_pt': 150, 'S-t-e-p-h-e-n': 145.064737929338, 'b-r-o-u-g-h-t': 150, 's_lb-s_1-s_0-s_0-s_0': 150, 'w-r-o-t-e': 150, 'o-f-f': 151.05681632341995, 's-a-v-e': 150, 'j-o-u-r-n-e-y': 150, 'W-i-l-l-i-a-m-s-s_mi': 150, 'b-u-r-g': 150, 't-i-m-e-s_qo': 150, 't-h-i-n-k': 150, 'a-b-s-o-l-u-t-e-l-y': 150, 's-h-o-u-l-d-s_cm': 150, 'p-a-y-i-n-g': 150, 'T-r-o-o-p-s': 150, 'G-a-r-r-i-s-o-n-s_cm': 150, 'i-n-t-o': 150, 'A-u-g-u-s-t-a-s_cm': 150, 'c-o-m-p-l-e-t-e-s_sq': 150, 'M-c-s_pt': 150, 'C-l-e-n-a-c-h-a-n-s_cm': 150, 's-a-f-e': 150, 'h-a-n-d': 150, 'h-e-n-c-e-s_pt': 150, 'p-a-i-d': 196.26264500907226, 'O-c-s_mi': 150, 't-o-b-e-r': 150, 'd-i-s-t-i-n-c-s_mi': 150, 't-i-o-n': 150, 'b-e-t-w-e-e-n': 150, 'S-e-r-g-e-a-n-t-s-s_cm': 150, 'n-o-n-e': 150, 'y-e-t': 150, 'b-e-e-n': 150, 'r-e-g-u-l-a-r-l-y': 150, 'a-p-p-o-i-n-t-e-d-s_pt': 150, 'a-c-s_mi': 150, 'c-o-u-n-t': 150, 'p-a-i-d-s_cm': 150, 'h-o-w': 150, 'S-e-r-g-e-a-n-t-s': 150, 'p-a-y-s_cm': 150, 'd-e-d-u-c-t-e-d': 150, 'p-a-y-m-e-n-t-s_qo': 150, 's_1-s_7-s_5-s_5-s_pt-s_2-s_7-s_9-s_pt': 150, 'p-e-n-c-e': 218.1594734221078, 'n-o-n': 150, 'c-o-m-m-i-s_s-s-i-o-n-e-d': 189.81785905100244, 'S-o-l-d-i-e-r': 204.01628273261417, 'm-e-d-i-c-i-n-e-s-s_sq': 150, 'S-u-r-g-e-o-n': 150, 'Q-u-a-r-t-e-r-l-y-s_pt': 150, 'm-o-n-t-h': 150, 's-t-o-p-p-e-d': 150, 'D-r-u-m-s_mi': 150, 'm-e-r-s-s_cm': 150, 'D-r-u-m': 150, 't-e-a-c-h-i-n-g': 150, 'r-e-p-a-i-r-i-n-g': 150, 'D-r-u-m-s-s_pt': 150, 'T-h-e-s-e': 150, 'd-e-d-u-c-t-i-o-n-s': 150, 'd-a-y-s_sq': 150, 'c-o-u-n-s_mi': 150, 't-e-r-m-a-n-d-e-d': 150, 'G-o-v-e-r-n-o-r': 150, 'm-y-s-e-l-f-s_pt': 150, 'n-o-n-s_mi': 150, 'h-a-p-p-e-n': 150, 'c-o-n-t-i-n-u-e-d': 150, 'r-o-l-l': 150, 'e-f-s_mi': 150, 'f-e-c-t-i-v-e': 150, 'd-a-y-s-s_cm': 150, 'C-o-f-f-i-n-s_cm': 150, 'J-o-n-e-s-s_cm': 150, 'O-r': 150, 'G-e-o-r-g-e': 150, 'C-o-n-w-a-y-s_pt': 150, 's_bl-t-a-k-i-n-g': 150, 'r-e-c-e-i-p-t': 150, 's-a-m-e-s_br': 150, 'R-e-g-i-m-e-n-t-a-l': 150, 'W-a-i-s-t-c-o-a-t-s-s_cm': 150, 'B-r-e-e-c-h-e-s-s_cm': 150, 'H-a-t-s-s_cm': 150, 'e-l-e-v-e-n': 150, 'S-h-i-r-t-s-s_cm': 150, 'm-a-n-y': 150, 'S-t-o-c-k-i-n-g-s-s_cm': 150, 's-a-m-e': 150, 'S-h-o-e-s-s_pt': 150, 's-a-i-d': 127.22781410514563, 'M-u-s-q-u-e-t-s-s_sq': 150, 'B-a-y-o-n-e-t-s-s_cm': 150, 'C-a-r-t-o-u-c-h-s_mi': 150, 'B-o-x-s_qt-s-s_cm': 150, 'S-t-o-r-e-s_pt': 150, 'B-a-y-o-n-e-t-s': 150, 'l-o-o-s-e': 150, 'o-n-e-s': 150, 'S-t-o-r-e-s_qo': 150, 'd-e-s_mi': 150, 'l-i-v-e-r': 150, 'B-l-a-n-k-e-t-s-s_pt': 150, 'O-c-t-o-s_pt': 150, 's_3-s_0th-s_pt': 150, 'D-a-v-i-d': 150}\n"
     ]
    }
   ],
   "source": [
    "# Find the threshhold where everything would be classified correctly in the training set. \n",
    "# This Threshhold is not well calculated \n",
    "\n",
    "# Calculated on the same word and only 5 times..\n",
    "# Then we take the mean and add half a std to it. \n",
    "\n",
    "dtw_values = {}\n",
    "counter = 0\n",
    "\n",
    "for images in words: \n",
    "    dtw_values[images] = []\n",
    "    print(counter, '|', end='')\n",
    "    if counter % 20 == 0 and counter > 1:\n",
    "        print('')\n",
    "    counter += 1\n",
    "    occurrences = 0\n",
    "    for i in range(len(words[images])):\n",
    "        for j in range(i + 1, len(words[images])):\n",
    "            if occurrences > 5:\n",
    "                break\n",
    "            dtw_values[images] = dtw_values[images] + [(compute_dtw(words[images][i], words[images][j]))]                                    \n",
    "            occurrences += 1\n",
    "            \n",
    "\n",
    "for key in dtw_values:\n",
    "    values = dtw_values[key]\n",
    "    if len(values) > 0:\n",
    "        #TODO Find a better threshhold\n",
    "        mean = statistics.mean(values)\n",
    "        dtw_values[key] = mean\n",
    "        \n",
    "        #Tried maxValue but it is to lenient\n",
    "        #maxVal = max(values)\n",
    "        #dtw_values[key] = maxVal\n",
    "    else: \n",
    "        \n",
    "        #TODO What to do with words that have only 1 image?\n",
    "        dtw_values[key] = 150\n",
    "    \n",
    "print(dtw_values)\n",
    "            \n",
    "#threshhold = np.array(dtw_values).mean() + np.array(dtw_values).std()/2\n",
    "#print(threshhold)\n",
    "#print(type(threshhold))"
   ]
  },
  {
   "cell_type": "markdown",
   "metadata": {},
   "source": [
    "## Validation"
   ]
  },
  {
   "cell_type": "code",
   "execution_count": 31,
   "metadata": {},
   "outputs": [],
   "source": [
    "#Check the closest images to the testing image\n",
    "#Everything is done only on the validation set here\n",
    "\n",
    "def validate(trained, valid, trainedLabels, validLabels, threshold):\n",
    "    total = len(valid)\n",
    "    counter = 0\n",
    "    stats = {}\n",
    "    for i in range(len(valid)):\n",
    "        print(f\"{counter}/{total}\")\n",
    "        counter += 1\n",
    "        results = [] \n",
    "        true_positive = 0\n",
    "        false_positive = 0\n",
    "        \n",
    "        results = [(compute_dtw(valid[i], trained[j]), trainedLabels[j]) for j in range(len(trained))]\n",
    "        results = sorted(results)\n",
    "        print(validLabels[i])\n",
    "        if validLabels[i] not in stats.keys():\n",
    "            stats[validLabels[i]] = [true_positive, false_positive]\n",
    "        if validLabels[i] in threshold.keys():\n",
    "            index = bisect.bisect([list(k) for k in zip(*results)][0], threshold[validLabels[i]])\n",
    "        else:\n",
    "            print(\"No matches\")\n",
    "            stats[validLabels[i]][0] += true_positive\n",
    "            stats[validLabels[i]][1] += false_positive\n",
    "            continue\n",
    "        print(f\"True label is: {validLabels[i]}\")\n",
    "        print(f\"Found following matches:\")\n",
    "        for idx in range(index):\n",
    "            _,noun = results[idx]\n",
    "            print(results[idx])\n",
    "            if noun == validLabels[i]:\n",
    "                true_positive += 1 \n",
    "            else:\n",
    "                false_positive += 1 \n",
    "        stats[validLabels[i]][0] += true_positive\n",
    "        stats[validLabels[i]][1] += false_positive\n",
    "    \n",
    "    return stats\n",
    "    "
   ]
  },
  {
   "cell_type": "code",
   "execution_count": 36,
   "metadata": {},
   "outputs": [
    {
     "name": "stdout",
     "output_type": "stream",
     "text": [
      "Training images: 325\t Validation images: 70\n",
      "Training labels: 325\t Validation labels: 70\n",
      "0/10\n",
      "O-r-d-e-r-s\n",
      "True label is: O-r-d-e-r-s\n",
      "Found following matches:\n",
      "(115.57747203714831, 'O-r-d-e-r-s')\n",
      "(123.35666086793559, 'O-r-d-e-r-s')\n",
      "(126.66392339948777, 'o-r-d-e-r-e-d')\n",
      "(128.86946663604655, 'O-r-d-e-r-s')\n",
      "(133.15294396414419, 'O-r-d-e-r-s')\n",
      "(148.90533378866158, 'O-r-d-e-r-s')\n",
      "(153.50260037549918, 'O-r-d-e-r-s')\n",
      "(154.50846737433758, 'O-r-d-e-r-s')\n",
      "(155.90150682049585, 'O-r-d-e-r-s')\n",
      "(160.34222458873205, 'O-r-d-e-r-s')\n",
      "(165.6513539844034, 'O-r-d-e-r-s')\n",
      "(166.17939680906903, 'O-r-d-e-r-s')\n",
      "(169.58306844247144, 't-w-e-l-v-e')\n",
      "1/10\n",
      "I-n-s-t-r-u-c-t-i-o-n-s-s_pt\n",
      "True label is: I-n-s-t-r-u-c-t-i-o-n-s-s_pt\n",
      "Found following matches:\n",
      "(162.57572458098008, 'I-n-s-t-r-u-c-t-i-o-n-s-s_pt')\n",
      "(170.74725791317934, 'I-n-s-t-r-u-c-t-i-o-n-s-s_pt')\n",
      "(192.49005226931493, 'I-n-s-t-r-u-c-t-i-o-n-s-s_pt')\n",
      "(193.56328102216182, 'I-n-s-t-r-u-c-t-i-o-n-s-s_pt')\n",
      "(197.61572552662602, 'I-n-s-t-r-u-c-t-i-o-n-s-s_pt')\n",
      "2/10\n",
      "o-p-p-o-r-t-u-n-i-t-y\n",
      "True label is: o-p-p-o-r-t-u-n-i-t-y\n",
      "Found following matches:\n",
      "3/10\n",
      "c-a-r-e-f-u-l\n",
      "True label is: c-a-r-e-f-u-l\n",
      "Found following matches:\n",
      "(121.19670556636584, 'c-a-r-e-f-u-l')\n",
      "4/10\n",
      "s_et-c-s_pt\n",
      "True label is: s_et-c-s_pt\n",
      "Found following matches:\n",
      "5/10\n",
      "s_GW\n",
      "True label is: s_GW\n",
      "Found following matches:\n",
      "(149.44157228879948, 's_GW')\n",
      "(156.21765147565503, 's_GW')\n",
      "6/10\n",
      "R-o-b-e-r-t\n",
      "True label is: R-o-b-e-r-t\n",
      "Found following matches:\n",
      "7/10\n",
      "J-o-h-n\n",
      "True label is: J-o-h-n\n",
      "Found following matches:\n",
      "8/10\n",
      "L-e-t-t-e-r-s\n",
      "True label is: L-e-t-t-e-r-s\n",
      "Found following matches:\n",
      "9/10\n",
      "w-a-n-t-i-n-g\n",
      "True label is: w-a-n-t-i-n-g\n",
      "Found following matches:\n"
     ]
    }
   ],
   "source": [
    "valImages = []\n",
    "valLabels = []\n",
    "trainImages = []\n",
    "trainLabels = []\n",
    "\n",
    "keywords = []\n",
    "h = open(\"data/task/keywords.txt\", \"r\")\n",
    "for line in h:\n",
    "    keywords.append(line[:-1])\n",
    "\n",
    "\n",
    "h = open(\"data/ground-truth/transcription.txt\", \"r\")\n",
    "for line in h: \n",
    "    for doc in valDocs: \n",
    "        if not line.startswith(doc):\n",
    "            continue\n",
    "        image, word = line.split()\n",
    "        if word in keywords:\n",
    "            image = np.array(Image.open(\"data/output/\" + doc + \"/\" + image + \".png\"),dtype=float) \n",
    "            valImages.append(image)\n",
    "            valLabels.append(word)\n",
    "        \n",
    "\n",
    "h = open(\"data/ground-truth/transcription.txt\", \"r\")\n",
    "for line in h: \n",
    "    for doc in trainDocs: \n",
    "        if not line.startswith(doc):\n",
    "            continue\n",
    "        image, word = line.split()\n",
    "        if word in keywords:\n",
    "            image = np.array(Image.open(\"data/output/\" + doc + \"/\" + image + \".png\"),dtype=float) \n",
    "            trainImages.append(image)\n",
    "            trainLabels.append(word)\n",
    "            \n",
    "\n",
    "print(f'Training images: {len(trainImages)}\\t Validation images: {len(valImages)}\\nTraining labels: {len(trainLabels)}\\t Validation labels: {len(valLabels)}')\n",
    "\n",
    "# Takes a lot of time ! [:10] to reduce it, REMOVE for final version\n",
    "stats = validate(trainImages, valImages[:10], trainLabels, valLabels, dtw_values)"
   ]
  },
  {
   "cell_type": "code",
   "execution_count": 37,
   "metadata": {},
   "outputs": [
    {
     "name": "stdout",
     "output_type": "stream",
     "text": [
      "Accuracy: 90.48 %\n"
     ]
    },
    {
     "data": {
      "image/png": "[encoded data removed]",
      "text/plain": [
       "<Figure size 1296x504 with 1 Axes>"
      ]
     },
     "metadata": {
      "needs_background": "light"
     },
     "output_type": "display_data"
    },
    {
     "name": "stdout",
     "output_type": "stream",
     "text": [
      "Recall: 35.85 %\n"
     ]
    },
    {
     "data": {
      "image/png": "[encoded data removed]",
      "text/plain": [
       "<Figure size 1296x504 with 1 Axes>"
      ]
     },
     "metadata": {
      "needs_background": "light"
     },
     "output_type": "display_data"
    }
   ],
   "source": [
    "#print(stats)\n",
    "true_positives = []\n",
    "false_positives = []\n",
    "relevent_elements = []\n",
    "for s in stats:\n",
    "    tp,fp = stats[s]\n",
    "    true_positives.append(tp)\n",
    "    false_positives.append(fp)\n",
    "    if s in words.keys():\n",
    "        # Add the number of images contained in the training set that correspond to the word\n",
    "        relevent_elements.append(len(words[s]))\n",
    "    else :\n",
    "        relevent_elements.append(0)\n",
    "        \n",
    "\n",
    "accuracy = sum(true_positives)/(sum(true_positives)+sum(false_positives))\n",
    "recall = sum(true_positives)/sum(relevent_elements)\n",
    "false_negatives = [relevent_elements[i] - true_positives[i] for i in range(len(relevent_elements))]\n",
    "print(f'Accuracy: {round(accuracy*100,2)} %')\n",
    "\n",
    "plt.figure(figsize=(18,7))\n",
    "plt.xticks(rotation=90)\n",
    "plt.bar(stats.keys(), true_positives, label='True positives', color='#90EE90')\n",
    "plt.bar(stats.keys(), false_positives, bottom=true_positives, label='False positives', color='#FB5616')\n",
    "plt.margins(x=0.001)\n",
    "plt.legend()\n",
    "plt.title('Repartition of true and false positives')\n",
    "plt.show()\n",
    "\n",
    "print(f'Recall: {round(recall*100,2)} %')\n",
    "\n",
    "plt.figure(figsize=(18,7))\n",
    "plt.xticks(rotation=90)\n",
    "plt.bar(stats.keys(), true_positives, label='True positives', color='#90EE90')\n",
    "plt.bar(stats.keys(), false_negatives, bottom=true_positives, label='False negatives', color='#4F7942')\n",
    "plt.margins(x=0.001)\n",
    "plt.legend()\n",
    "plt.title('Repartition of true positives and false negative')\n",
    "plt.show()\n"
   ]
  },
  {
   "cell_type": "markdown",
   "metadata": {},
   "source": [
    "### Observations\n",
    "We see that there is quite the number of missed finding for the words."
   ]
  },
  {
   "cell_type": "code",
   "execution_count": null,
   "metadata": {},
   "outputs": [],
   "source": []
  }
 ],
 "metadata": {
  "interpreter": {
   "hash": "628b2da58f8e86f73a45f837b51b4cf84d420caac018c4a1f961f9cfce82deef"
  },
  "kernelspec": {
   "display_name": "Python 3.9.5 64-bit",
   "language": "python",
   "name": "python3"
  },
  "language_info": {
   "codemirror_mode": {
    "name": "ipython",
    "version": 3
   },
   "file_extension": ".py",
   "mimetype": "text/x-python",
   "name": "python",
   "nbconvert_exporter": "python",
   "pygments_lexer": "ipython3",
   "version": "3.9.5"
  }
 },
 "nbformat": 4,
 "nbformat_minor": 2
}
