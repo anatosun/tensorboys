{
 "cells": [
  {
   "cell_type": "code",
   "execution_count": 1,
   "metadata": {},
   "outputs": [],
   "source": [
    "import pandas as pd\n",
    "import numpy as np\n",
    "import seaborn as sns\n",
    "import matplotlib.pyplot as plt\n",
    "import bisect\n",
    "import statistics\n",
    "\n",
    "from helper import *"
   ]
  },
  {
   "cell_type": "markdown",
   "metadata": {},
   "source": [
    "# Project 3\n",
    "\n",
    "## Keyword Spotting in historical documents with dynamic time warping\n",
    "\n",
    "### Wicht François-Xavier, Demont Antoine, Mottet Boris, Poplawski Martin, Carrel Vincent"
   ]
  },
  {
   "cell_type": "markdown",
   "metadata": {},
   "source": [
    "## The DTW measure seems quite unreliable as it is now"
   ]
  },
  {
   "cell_type": "markdown",
   "metadata": {},
   "source": [
    "Train Validation"
   ]
  },
  {
   "cell_type": "code",
   "execution_count": 2,
   "metadata": {
    "scrolled": true
   },
   "outputs": [
    {
     "name": "stdout",
     "output_type": "stream",
     "text": [
      "Training docs: ['270', '271', '272', '273', '274', '275', '276', '277', '278', '279']\n",
      "Validation docs: ['300', '301', '302', '303', '304']\n"
     ]
    }
   ],
   "source": [
    "h = open(\"data/task/train.txt\", \"r\")\n",
    "trainDocs = []\n",
    "for line in h:\n",
    "    trainDocs.append(line.strip())\n",
    "h.close()\n",
    "print(f\"Training docs: {trainDocs}\")\n",
    "\n",
    "\n",
    "h = open(\"data/task/valid.txt\", \"r\")\n",
    "valDocs = []\n",
    "for line in h:\n",
    "    valDocs.append(line.strip())\n",
    "h.close()\n",
    "print(f\"Validation docs: {valDocs}\")"
   ]
  },
  {
   "cell_type": "markdown",
   "metadata": {},
   "source": [
    "## Getting words"
   ]
  },
  {
   "cell_type": "code",
   "execution_count": 3,
   "metadata": {
    "scrolled": false
   },
   "outputs": [],
   "source": [
    "words = {} \n",
    "\n",
    "h = open(\"data/ground-truth/transcription.txt\", \"r\")\n",
    "for line in h: \n",
    "    for doc in trainDocs: \n",
    "        if not line.startswith(doc):\n",
    "            continue\n",
    "        image, word = line.split()\n",
    "        image = np.array(Image.open(\"data/output/\" + doc + \"/\" + image + \".png\"),dtype=float) \n",
    "        if not word in words:\n",
    "            words[word] = []\n",
    "        words[word] = words[word] + [image]\n",
    "# print(words)"
   ]
  },
  {
   "cell_type": "markdown",
   "metadata": {},
   "source": [
    "## Computing training dtw values"
   ]
  },
  {
   "cell_type": "code",
   "execution_count": 4,
   "metadata": {},
   "outputs": [
    {
     "name": "stdout",
     "output_type": "stream",
     "text": [
      "0 |1 |2 |3 |4 |5 |6 |7 |8 |9 |10 |11 |12 |13 |14 |15 |16 |17 |18 |19 |20 |\n",
      "21 |22 |23 |24 |25 |26 |27 |28 |29 |30 |31 |32 |33 |34 |35 |36 |37 |38 |39 |40 |\n",
      "41 |42 |43 |44 |45 |46 |47 |48 |49 |50 |51 |52 |53 |54 |55 |56 |57 |58 |59 |60 |\n",
      "61 |62 |63 |64 |65 |66 |67 |68 |69 |70 |71 |72 |73 |74 |75 |76 |77 |78 |79 |80 |\n",
      "81 |82 |83 |84 |85 |86 |87 |88 |89 |90 |91 |92 |93 |94 |95 |96 |97 |98 |99 |100 |\n",
      "101 |102 |103 |104 |105 |106 |107 |108 |109 |110 |111 |112 |113 |114 |115 |116 |117 |118 |119 |120 |\n",
      "121 |122 |123 |124 |125 |126 |127 |128 |129 |130 |131 |132 |133 |134 |135 |136 |137 |138 |139 |140 |\n",
      "141 |142 |143 |144 |145 |146 |147 |148 |149 |150 |151 |152 |153 |154 |155 |156 |157 |158 |159 |160 |\n",
      "161 |162 |163 |164 |165 |166 |167 |168 |169 |170 |171 |172 |173 |174 |175 |176 |177 |178 |179 |180 |\n",
      "181 |182 |183 |184 |185 |186 |187 |188 |189 |190 |191 |192 |193 |194 |195 |196 |197 |198 |199 |200 |\n",
      "201 |202 |203 |204 |205 |206 |207 |208 |209 |210 |211 |212 |213 |214 |215 |216 |217 |218 |219 |220 |\n",
      "221 |222 |223 |224 |225 |226 |227 |228 |229 |230 |231 |232 |233 |234 |235 |236 |237 |238 |239 |240 |\n",
      "241 |242 |243 |244 |245 |246 |247 |248 |249 |250 |251 |252 |253 |254 |255 |256 |257 |258 |259 |260 |\n",
      "261 |262 |263 |264 |265 |266 |267 |268 |269 |270 |271 |272 |273 |274 |275 |276 |277 |278 |279 |280 |\n",
      "281 |282 |283 |284 |285 |286 |287 |288 |289 |290 |291 |292 |293 |294 |295 |296 |297 |298 |299 |300 |\n",
      "301 |302 |303 |304 |305 |306 |307 |308 |309 |310 |311 |312 |313 |314 |315 |316 |317 |318 |319 |320 |\n",
      "321 |322 |323 |324 |325 |326 |327 |328 |329 |330 |331 |332 |333 |334 |335 |336 |337 |338 |339 |340 |\n",
      "341 |342 |343 |344 |345 |346 |347 |348 |349 |350 |351 |352 |353 |354 |355 |356 |357 |358 |359 |360 |\n",
      "361 |362 |363 |364 |365 |366 |367 |368 |369 |370 |371 |372 |373 |374 |375 |376 |377 |378 |379 |380 |\n",
      "381 |382 |383 |384 |385 |386 |387 |388 |389 |390 |391 |392 |393 |394 |395 |396 |397 |398 |399 |400 |\n",
      "401 |402 |403 |404 |405 |406 |407 |408 |409 |410 |411 |412 |413 |414 |415 |416 |417 |418 |419 |420 |\n",
      "421 |422 |423 |424 |425 |426 |427 |428 |429 |430 |431 |432 |433 |434 |435 |436 |437 |438 |439 |440 |\n",
      "441 |442 |443 |444 |445 |446 |447 |448 |449 |450 |451 |452 |453 |454 |455 |456 |457 |458 |459 |460 |\n",
      "461 |462 |463 |464 |465 |466 |467 |468 |469 |470 |471 |472 |473 |474 |475 |476 |477 |478 |479 |480 |\n",
      "481 |482 |483 |484 |485 |486 |487 |488 |489 |490 |491 |492 |493 |494 |495 |496 |497 |498 |499 |500 |\n",
      "501 |502 |503 |504 |505 |506 |507 |508 |509 |510 |511 |512 |513 |514 |515 |516 |517 |518 |519 |520 |\n",
      "521 |522 |523 |524 |525 |526 |527 |528 |529 |530 |531 |532 |533 |534 |535 |536 |537 |538 |539 |540 |\n",
      "541 |542 |543 |544 |545 |546 |547 |548 |549 |550 |551 |552 |553 |554 |555 |556 |557 |558 |559 |560 |\n",
      "561 |562 |563 |564 |565 |566 |567 |568 |569 |570 |571 |572 |573 |574 |575 |576 |577 |578 |579 |580 |\n",
      "581 |582 |583 |584 |585 |586 |587 |588 |589 |590 |591 |592 |593 |594 |595 |596 |597 |598 |599 |600 |\n",
      "601 |602 |603 |604 |605 |606 |607 |608 |609 |610 |611 |612 |613 |614 |615 |616 |617 |618 |619 |620 |\n",
      "621 |622 |623 |624 |625 |626 |627 |628 |629 |630 |631 |632 |633 |634 |635 |636 |637 |638 |639 |640 |\n",
      "641 |642 |643 |644 |645 |646 |647 |648 |649 |650 |651 |652 |653 |654 |655 |656 |657 |658 |659 |660 |\n",
      "661 |662 |663 |664 |665 |666 |667 |668 |669 |670 |671 |672 |673 |674 |675 |676 |677 |678 |679 |680 |\n",
      "681 |682 |683 |684 |685 |686 |687 |688 |689 |690 |691 |692 |693 |694 |695 |696 |697 |698 |699 |700 |\n",
      "701 |702 |703 |704 |705 |706 |707 |708 |709 |710 |711 |712 |713 |714 |715 |716 |717 |718 |719 |720 |\n",
      "721 |722 |723 |724 |725 |726 |727 |728 |729 |730 |731 |732 |733 |734 |735 |736 |737 |738 |739 |740 |\n",
      "741 |742 |743 |744 |745 |746 |747 |748 |749 |750 |751 |752 |753 |754 |755 |756 |757 |758 |759 |760 |\n",
      "761 |762 |763 |764 |765 |766 |767 |768 |769 |770 |771 |772 |773 |774 |775 |776 |777 |778 |779 |780 |\n",
      "781 |782 |783 |784 |785 |786 |787 |788 |789 |790 |791 |792 |793 |794 |795 |796 |797 |798 |799 |800 |\n",
      "801 |802 |803 |804 |805 |806 |807 |808 |809 |810 |811 |812 |813 |814 |815 |816 |817 |818 |819 |820 |\n",
      "821 |822 |823 |824 |825 |826 |827 |828 |829 |830 |831 |832 |833 |834 |{'s_2-s_7-s_0-s_pt': 175, 'L-e-t-t-e-r-s-s_cm': 188.27382927156629, 'O-r-d-e-r-s': 177.88241651369609, 'a-n-d': 241.02404048112686, 'I-n-s-t-r-u-c-t-i-o-n-s-s_pt': 205.1295948486899, 'O-c-t-o-b-e-r': 164.58063120162836, 's_1-s_7-s_5-s_5-s_pt': 146.21524362447218, 'o-n-l-y': 179.8234015779618, 'f-o-r': 130.27603625497997, 't-h-e': 135.27089236832887, 'p-u-b-l-i-c-k': 175, 'u-s-e-s_cm': 175, 'u-n-l-e-s_s-s': 158.4716957778108, 'b-y': 95.74758006379724, 'p-a-r-t-i-c-u-s_mi': 175, 'l-a-r': 175, 'f-r-o-m': 129.04729364192224, 'm-e-s_pt': 148.88609430706518, 'Y-o-u': 126.45830632174916, 'a-r-e': 146.8105585828939, 't-o': 101.03466515321846, 's-e-n-d': 134.3744043206247, 'd-o-w-n': 233.09960790578754, 'a': 106.43635896813582, 'B-a-r-r-e-l': 175, 'o-f': 75.02660299271133, 'F-l-i-n-t-s': 175, 'w-i-t-h': 213.01051707640985, 'A-r-m-s-s_cm': 98.41423265874828, 'W-i-n-c-h-e-s-t-e-r-s_cm': 208.86088973517477, 'a-b-o-u-t': 172.1571804367814, 't-w-o': 114.41005254307792, 't-h-o-u-s-a-n-d': 175, 'w-e-i-g-h-t': 175, 'F-l-o-u-r-s_cm': 175, 'C-o-m-p-a-n-i-e-s': 171.45046235429317, 'R-a-n-g-e-r-s-s_sq': 175, 't-w-e-l-v-e': 229.92404816212655, 'h-u-n-d-r-e-d': 175, 'w-h-i-c-h': 208.3031203579882, 'b-e': 110.41680306568014, 'd-e-l-i-v-e-r-e-d': 199.12922337769976, 'C-a-p-t-a-i-n': 157.53948643879616, 'A-s-h-b-y': 175, 'C-o-m-p-a-n-y-s_cm': 194.3011508614631, 'a-t': 138.53455169989127, 'P-l-a-n-t-a-t-i-o-n': 175, 'C-h-a-r-l-e-s': 175, 'S-e-l-l-a-r-s': 175, 's_mi': 191.8472773400171, 'r-e-s-t': 175, 'C-o-c-k-e-s-s_qt': 175, 'N-i-c-h-o-l-a-s': 175, 'R-e-a-s-m-e-r-s-s_pt': 175, 's_2-s_6th-s_pt': 223.2092127968927, 's_GW': 169.7581236604862, 's_2-s_8th': 175, 'W-i-n-c-h-e-s-t-e-r-s_qo': 175, 's_2-s_8th-s_cm': 175, 'P-a-r-o-l-e': 176.46590780175578, 'H-a-m-p-t-o-n-s_pt': 175, 'T-h-e': 198.6815036683924, 'O-f-f-i-c-e-r-s': 122.25153865411781, 'w-h-o': 199.2730016251784, 'c-a-m-e': 175, 'F-o-r-t': 219.43518257048578, 'C-u-m-b-e-r-l-a-n-d': 176.32651173703047, 'C-o-l-o-n-e-l': 177.22207045896585, 'W-a-s-h-i-n-g-t-o-n-s_cm': 175, 'i-m-m-e-d-i-a-t-e-l-y': 161.56193844075537, 'g-o': 178.8006016512155, 'R-e-c-r-u-i-s_mi': 161.71234318439838, 't-i-n-g-s_sq': 175, 't-h-e-y': 119.36276560692895, 'a-l-l-o-w-e-d': 189.2867858811003, 'u-n-t-i-l': 179.33495174237453, 's_1st-s_pt': 148.4405225709541, 'D-e-s_mi': 175, 'c-e-m-b-e-r-s_sq': 175, 't-i-m-e': 155.43295327094, 'i-f': 132.55785299155735, 'd-o': 126.86948857860321, 'n-o-t': 159.9865350996933, 'p-u-n-c-t-u-a-l-l-y': 175, 'a-p-p-e-a-r': 175, 'p-l-a-c-e': 160.68974027486925, 'R-e-n-d-e-z-s_mi': 175, 'v-o-u-s': 175, 'a-s_s-s-i-g-n-e-d': 175, 't-h-e-m-s_cm': 178.18817756289508, 'w-i-l-l': 166.2471039719225, 't-r-i-e-d': 175, 'C-o-u-r-t': 160.85247302021554, 'M-a-r-t-i-a-l-s_cm': 175, 'd-i-s-o-b-e-d-i-e-n-c-e': 175, 'O-r-d-e-r-s-s_pt': 175, 'T-h-e-y': 171.0253078625663, 'w-a-i-t': 175, 'u-p-o-n': 117.8715453141098, 'A-i-d': 152.5028042633619, 'd-e': 71.6436277128181, 'c-a-m-p': 175, 'o-n-e': 156.07579325707405, 'C-l-o-c-k-s_cm': 175, 'r-e-c-e-i-v-e': 138.7443398220276, 't-h-e-i-r': 184.4153071319186, 't-i-n-g': 175, 'E-a-c-h': 175, 'O-f-f-i-c-e-r': 175.52390095063672, 'p-r-e-s-e-n-t-s_cm': 175, 'g-i-v-e': 200.49348316220156, 'i-n': 113.53224573921644, 'R-e-t-u-r-n': 154.82423309519078, 'n-u-m-b-e-r': 175, 'm-e-n': 175.8780698367823, 'h-e': 148.33004019087926, 'h-a-s': 144.96080322598579, 'e-n-l-i-s-t-e-d-s_pt': 175, 'O-n-e': 98.26193941919085, 'S-u-b-a-l-t-e-r-n-s_cm': 152.30321927958545, 'S-e-r-g-e-a-n-t-s_cm': 133.58530859169926, 'C-o-r-p-o-r-a-l-s_cm': 156.4860026237091, 'D-r-u-m-m-e-r-s_cm': 174.55738429946942, 't-w-e-n-t-y': 165.64024942888457, 'f-i-v-e': 143.38399320578222, 'p-r-i-v-a-t-e': 180.3414419775252, 'm-e-n-s_cm': 189.36702089850246, 'm-o-u-n-t': 175, 'G-u-a-r-d': 157.65725334645347, 'd-a-y-s_cm': 175, 'r-e-l-i-e-v-e-d': 175, 'm-o-r-r-o-w': 175, 't-e-n': 114.80926398282054, 'o-s_qt-c-l-o-c-k-s_pt': 175, 's_mi-s_pt': 175, 'A-l-l': 175, 'R-e-p-o-r-t-s': 175, 'R-e-t-u-r-n-s': 135.46402411980654, 'm-a-d-e': 126.85741130849127, 'C-a-m-p-s_pt': 175, 's_2-s_7-s_1-s_pt': 175, 's_2-s_8th-s_pt': 132.10088529975815, 'T-o': 246.6021182227697, 'E-n-s-i-g-n': 179.85963311155587, 'F-l-e-m-i-n-g-s_cm': 235.2447733313141, 'V-i-r-g-i-n-i-a': 198.98297065825514, 'R-e-g-i-m-e-n-t-s_pt': 218.2097159681845, 'h-e-r-e-b-y': 157.06982719897434, 'o-r-d-e-r-e-d': 170.78386731065874, 'r-e-p-a-i-r': 175, 'H-o-g-g-s_qt-s': 175, 'C-o-m-p-a-n-y': 145.67745232810438, 'D-i-n-w-i-d-d-i-e': 175, 'e-i-g-h-t': 183.5262413178345, 'g-o-o-d': 105.71222798131734, 'm-e-n-s_qo': 175, 'a-s': 92.3043509789693, 't-h-a-t': 114.22419823402666, 'i-s': 92.66671994315922, 'w-i-t-h-o-u-t': 175, 'S-u-r-g-e-o-n-s_cm': 117.35950943308664, 'y-o-u': 126.02993022704183, 'd-u-t-y-s_cm': 175, 'a-n': 140.34000688877225, 'a-l-l-o-w-a-n-c-e': 175, 'i-t-s_pt': 185.197520080596, 'p-r-o-v-i-d-e': 152.76121894793434, 'm-e-d-i-c-i-n-e-s-s_cm': 175, 's_et-c-s_pt': 93.36370695399445, 'b-e-s-t': 149.2154625427503, 't-e-r-m-s': 104.75405059216772, 'c-a-n-s_pt': 175, 'T-h-i-s': 175, 'O-r-d-e-r': 116.36747122151874, 'I': 147.07644142609814, 'e-x-p-e-c-t': 84.54779271491327, 'i-m-m-e-d-i-s_mi': 177.7760850227115, 'a-t-e-l-y': 159.30778389720714, 'c-o-m-p-l-i-e-d': 149.1855769191198, 'w-i-t-h-s_sq': 175, 'n-o': 81.42975169028006, 'D-e-l-a-y-s': 175, 'o-f-s_mi': 175, 'f-e-r-e-d-s_pt': 175, 'a-c-c-o-u-n-t': 156.90379748473805, 'B-e-l-l': 230.96555683891614, 'y-o-u-r': 156.07036113468953, 'r-e-c-r-u-i-t-i-n-g': 176.4369059395663, 'm-o-n-e-y-s_cm': 175, 'b-e-f-o-r-e': 145.5558685021706, 'l-e-a-v-e': 175, 'h-i-m-s_pt': 199.3713134022453, 'I-f': 132.7249606377033, 's-h-o-u-l-d': 179.43659213427776, 'a-r-r-i-v-e': 243.96101460229556, 'A-u-g-u-s-t-a': 175, 'H-o-u-s-e': 175, 'S-e-r-g-e-a-n-t': 160.4162668182287, 'W-i-l-p-e-r': 140.28443336857484, 'h-i-s': 163.36800600176733, 'P-a-r-t-y-s_cm': 175, 'h-a-l-t': 266.8687953453558, 't-h-e-r-e': 199.14692852478984, 'j-o-i-n-s-s_cm': 175, 'o-r-d-e-r': 184.31572147336811, 'e-s-c-o-r-t': 175, 'A-m-m-u-n-i-t-i-o-n-s_cm': 175, 'F-o-r-t-s_sq': 175, 'w-h-e-r-e': 203.41821180814438, 'C-l-o-t-h-e-s': 194.15076714813304, 'A-r-m-s': 185.4848757203213, 'M-e-n-s_pt': 175, 'h-a-v-e': 189.72180241239062, 'O-r-d-e-r-e-d': 114.96337766755327, 'F-l-e-m-i-n-g': 175, 'R-e-p-a-i-r': 175, 'H-o-g-g-s': 153.4731126958173, 'm-e-n-s_sq': 175, 's-e-e': 165.97050781851303, 'w-i-t-h-s_pt': 185.10602466718825, 'H-e': 150.40456779993036, 'm-o-n-e-y': 147.44592356317986, 'l-e-a-v-e-s': 175, 'y-o-u-s_pt': 225.01497014619167, 'o-r-d-e-r-e-d-s_cm': 234.49115514934655, 'p-e-r-e-m-p-t-o-r-i-l-y-s_cm': 175, 't-h-i-s': 165.61971040996582, 'w-h-a-t': 181.68281462330057, 'h-a-v-e-s_cm': 175, 'o-r': 71.37667304902779, 'c-a-n': 149.75424483592838, 'e-n-s_mi': 175, 'l-i-s-t': 175, 'D-e-c-e-m-b-e-r-s_pt': 244.26816563649223, 'Y-o-u-r': 175, 'l-a-t-e': 175, 'd-i-s-o-b-e-d-i-s_mi': 175, 'e-n-c-e': 175, 'g-r-e-a-t-l-y': 175, 'd-i-s-p-l-e-a-s-e-d': 175, 'I-t': 80.33815200643893, 'i-m-p-o-s_s-s-i-b-l-e': 175, 'c-a-r-r-y': 176.4005917888624, 'o-n': 77.04129215829285, 'a-f-f-a-i-r-s': 175, 'o-u-g-h-t': 109.8234781216278, 'b-e-s_cm': 175, 'w-h-e-n': 134.28890438470847, 'p-a-y': 159.78061286577253, 's-o': 108.47628138003105, 'l-i-t-t-l-e': 175, 'r-e-g-a-r-d': 175, 'F-o-r-c-e': 175, 'M-i-l-i-t-a-r-y': 175, 'm-u-s-t': 162.25140392805912, 'c-o-n-s-c-i-o-u-s': 175, 'w-i-t-h-i-n': 175, 'y-o-u-r-s-e-l-f': 178.63054962672604, 's_bl-o-r': 175, 'l-e-a-s-t': 175, 'b-e-s_br': 175, 'C-r-i-m-e': 175, 's-u-f-f-i-c-i-e-n-t': 175, 'B-r-e-a-k': 175, 'e-v-e-r': 175, 'b-o-r-e': 175, 'C-o-m-m-i-s_s-s-i-o-n-s_pt': 175, 's_2-s_7-s_2-s_pt': 175, 'P-e-t-e-r': 175, 'H-o-g-g-s_cm': 175, 'S-i-r-s_cm': 222.8790468961413, 'r-e-c-e-i-v-e-d': 159.9154341559105, 'y-o-u-r-s': 175, 's_6th-s_pt': 175, 'O-c-t-o-s_mi': 175, 'b-e-r-s_cm': 175, 'i-n-c-l-o-s-i-n-g': 175, 'd-a-y-s_pt': 175, 'F-e-r-g-u-s-o-n': 175, 'w-a-s': 234.804504094822, 's-e-n-t': 169.3240817384732, 'a-f-t-e-r': 148.43659818861858, 'y-o-u-s_cm': 175, 'b-u-t': 129.3376052713057, 'f-a-l-l-i-n-g': 175, 'i-l-l-s_cm': 175, 'S-o-r-e': 175, 'a-r-m-s_cm': 175, 'h-e-r-e-s_cm': 162.36391651640477, 'n-o-w': 140.32629512931032, 'r-e-m-a-i-n-s': 227.66340198585803, 'u-n-f-i-t': 175, 'D-u-t-y-s_qo': 175, 't-h-e-r-e-f-o-r-e': 175, 'r-o-o-m-s_pt': 175, 'C-l-o-t-h-i-n-g': 136.94493108438672, 'c-o-m-p-l-e-t-e': 172.94719032437354, 'C-o-m-p-a-s_mi': 175, 'n-y': 175, 'E-s-t-a-b-l-i-s-h-m-e-n-t-s_pt': 175, 'e-n-l-i-s-t-e-d': 175, 't-h-r-e-e': 175, 'm-a-r-c-h-s_cm': 175, 'o-r-s_mi': 175, 'd-e-r-e-d': 175, 'o-t-h-e-r-s-s_cm': 111.70680458824938, 'j-o-i-n': 195.3529062233809, 'y-o-u-s_sq': 175, 'b-e-i-n-g': 132.97553668358685, 'd-e-s-i-r-e-d': 238.7515400286308, 't-a-k-e': 145.95957533466472, 'c-a-r-e': 175, 'C-o-m-p-a-n-y-s_sq': 169.11418262732823, 'a-l-l-o-w-e-d-s_pt': 175, 'u-s-e': 222.45832624489776, 'e-n-d-e-a-v-o-u-r-s': 175, 's-e-c-u-r-e': 175, 'p-r-o-v-i-s-i-o-n-s-s_cm': 175, 'i-t': 137.88922572385889, 'm-o-s-t': 138.95683896962808, 'n-e-e-d-f-u-l': 175, 's_qo-s_mi': 175, 'i-m-p-o-s_s-s-i-s_mi': 175, 'b-l-e': 175, 'd-i-r-e-c-t': 175, 'd-i-s-t-a-n-c-e-s_cm': 175, 'p-r-o-p-e-r-l-y-s_pt': 175, 'A-s': 97.46366852098836, 'w-e': 175, 'c-o-n-t-r-a-c-t-e-d': 175, 'l-a-r-g-e': 175, 'q-u-a-n-t-i-t-y': 174.20997266967174, 'B-e-e-f': 175, 'a-l-r-e-a-d-y-s_cm': 175, 'e-n-g-a-g-e': 189.3074629072255, 'm-o-r-e': 145.5250865304984, 't-h-a-n': 157.75036640323594, 's-u-f-f-i-c-e': 175, 'o-w-n': 175, 'C-o-m-p-a-n-y-s_pt': 191.85083374661528, 's-h-a-l-l': 161.47363940189, 'l-o-d-g-e-d': 175, 'M-r-s_pt': 176.38649800743457, 'D-i-c-k': 203.15525386594365, 'u-s-u-a-l': 175, 's-t-o-p-p-a-g-e-s': 175, 'm-e-n-s': 175, 'w-h-i-l-e': 175, 'H-o-s-p-i-t-a-l-s_cm': 175, 'a-n-s-w-e-r': 175, 'e-x-p-e-n-c-e': 175, 'N-u-r-s-e-s-s_cm': 175, 'v-e-r-y': 148.87506093728297, 'c-a-r-e-f-u-l': 152.0420040427768, 's-l-i-p': 175, 'o-p-p-o-r-t-u-n-i-t-y': 175, 'p-u-r-c-h-a-s-i-n-g': 152.27439009203596, 'G-r-a-i-n': 175, 'd-e-p-e-n-d-a-n-c-e': 175, 's_2-s_7-s_3-s_pt': 175, 'B-r-e-a-d-s_sq': 175, 'C-o-m-m-i-s_s-s-a-r-y': 217.42761473770793, 'h-a-v-i-n-g': 159.65789641872158, 'm-a-k-e': 156.1495483859054, 'p-r-o-v-i-s-i-o-n-s': 175, 'a-n-y': 161.74720211120217, 'd-e-s-e-r-t': 175, 'd-i-e-s_cm': 122.03713111419634, 'R-e-c-r-u-i-t': 187.02374122998, 'k-e-e-p-i-n-g': 175, 'E-s-t-a-s_mi': 175, 'b-l-i-s-h-m-e-n-t-s_pt': 175, 'L-i-e-u-t-e-n-a-n-t': 230.74789071962215, 'B-a-c-o-n': 175, 'M-a-r-y-l-a-n-d': 175, 'I-n-d-e-p-e-n-d-a-n-t': 175, 't-h-o-s-e': 173.79551564286115, 'S-t-o-c-k-a-d-e-s': 175, 'P-a-t-t-e-r-s-o-n-s': 175, 'C-r-e-e-k-s_cm': 175, 'i-n-t-e-n-d-e-d': 175, 'w-a-y': 175, 'c-o-v-e-r': 175, 'R-a-n-g-e-r-s-s_cm': 175, 'R-e-c-e-p-t-a-c-l-e': 175, 't-h-e-n': 175, 'P-r-o-v-i-s-i-o-n-s-s_sq': 175, 'p-l-a-n': 175, 'w-o-r-k-s_cm': 175, 'r-e-q-u-i-r-e-s': 175, 'm-u-c-h': 259.02127007424946, 'e-x-e-c-u-t-e-s_pt': 175, 'W-e': 175, 'n-e-i-t-h-e-r': 175, 'M-e-n': 175, 'n-o-r': 175, 'T-o-o-l-s-s_cm': 175, 'u-n-d-e-r-t-a-k-i-n-g': 175, 'v-i-g-o-u-r-s_pt': 175, 'a-m': 84.80395554781241, 's_2-s_9th-s_pt': 169.29412962601666, 'A-d-a-m': 175, 'S-t-e-p-h-e-n-s_cm': 175, 'O-r-d-e-r-e-d-s_cm': 175, 's-o-o-n': 120.5265495680432, 'W-a-g-g-o-n-s': 175, 'A-l-e-x-a-n-d-r-i-a': 106.00014828425294, 'C-u-m-b-e-r-l-a-n-d-s_cm': 213.71019238785817, 'c-o-m-p-l-e-t-e-l-y': 175, 'f-u-r-n-i-s-h-e-d': 175, 'b-o-t-h-s_sq': 226.98655042749812, 'm-a-r-c-h': 248.06802395985042, 't-h-e-m': 182.3346116788224, 'C-u-m-b-e-r-l-a-n-d-s_sq': 175, 'o-b-s-e-r-v-i-n-g': 175, 'u-p': 105.87984763859959, 'a-l-l': 212.5538217554335, 'S-a-l-t': 175, 'w-a-g-g-o-n-s-s_cm': 175, 'p-r-o-v-i-d-e-d': 175, 'c-o-m-m-i-s_s-s-a-r-y-s_cm': 175, 'c-a-r-r-y-s_pt': 175, 'T-h-e-r-e': 245.9820588054331, 'c-o-m-e': 175, 's-o-m-e': 162.03469357367817, 'c-o-u-n-t-r-y': 175, 'w-a-g-s_mi': 175, 'g-o-n-s-s_cm': 175, 'a-l-s-o': 214.0774016684858, 'l-o-a-d-e-d': 175, 'S-a-l-t-s_pt': 175, 'c-l-o-t-h-i-n-g': 175, 'w-a-n-t-i-n-g': 175, 'p-u-r-p-o-s-e': 175, 'f-o-r-t-y': 175, 'C-o-a-t-s-s_cm': 174.86650373039328, 't-h-i-r-t-y': 166.3155335873547, 'n-i-n-e': 439.3794052846004, 'w-a-i-s-t-c-o-a-t-s-s_cm': 175, 'f-i-f-t-y': 175, 's-i-x': 105.63350051279417, 'p-a-i-r': 141.72985946472383, 'B-r-e-e-c-h-e-s-s_sq': 175, 'H-a-t-s': 175, 'e-i-g-h-t-y': 175, 'S-h-i-r-t-s-s_sq': 175, 's_2-s_7-s_4-s_pt': 175, 'o-u-t': 163.133552551539, 'C-o-m-p-a-n-i-e-s-s_cm': 194.24976887379177, 'a-c-c-o-r-d-i-n-g': 175, 'm-e': 179.6926389502107, 'C-u-m-s_mi': 175, 'b-e-r-l-a-n-d-s_cm': 175, 'S-u-i-t-s': 175, 'n-e-c-e-s_s-s-a-r-y-s_cm': 175, 'c-a-s-e': 175, 'g-e-t-t-i-n-g': 175, 'L-o-d-g-i-n-g': 175, 'B-a-r-r-a-c-k-s': 175, 'f-u-l-l-s_pt': 175, 'W-i-l-s_mi': 175, 'p-e-r': 204.29034452756127, 'w-a-i-t-i-n-g': 175, 'r-e-t-u-r-n': 175, 'w-a-g-g-o-n-s': 175, 'F-o-r-t-s_cm': 175, 'n-e-c-e-s_s-s-a-r-i-e-s': 152.18983250308776, 'a-r-r-i-v-e-s_cm': 218.63305508674574, 'r-e-c-e-i-v-e-s': 175, 's-u-c-h': 173.06335889762215, 't-h-i-n-g-s': 175, 'o-r-d-e-r-s': 175, 'f-o-r-s_cm': 175, 'd-i-s-p-a-t-c-h': 191.37297152921738, 'h-i-m': 158.00843535710763, 'i-m-m-e-d-i-a-t-e-l-y-s_pt': 175, 'o-t-h-e-r': 122.17731057917528, 'H-o-r-s-e-s-s_cm': 175, 'b-e-l-o-n-g-s_mi': 175, 'i-n-g': 175, 'C-o-u-n-t-r-y-s_cm': 144.64073358514446, 'h-a-d': 175, 'C-o-u-n-t-r-y': 175, 'T-e-a-m-s': 175, 's-t-o-p-p-e-d-s_cm': 175, 'h-o-r-s-e-s': 175, 'g-i-v-e-n': 175, 'h-e-r-d-s-m-e-n': 175, 'r-e-m-a-i-n': 175, 'C-a-t-t-l-e-s_cm': 175, 'h-e-a-r': 175, 'C-o-m-s_mi': 193.92892021191236, 'm-i-s_s-s-a-r-y': 175, 'C-o-o-p-e-r-s': 214.65072360227214, 'B-a-r-r-e-l-s': 175, 'p-a-c-k-i-n-g': 175, 'B-e-e-f-s_sq': 175, 'S-o-l-d-i-e-r-s': 175, 'C-o-o-p-e-r-s-s_cm': 175, 's-e-t': 175, 'i-m-s_mi': 175, 'm-e-d-i-a-t-e-l-y': 175, 'w-o-r-k-s_pt': 175, 'S-t-o-r-e-s': 175, 'h-e-r-e': 230.0178236157943, 'p-o-u-n-d-s': 175, 'G-o-o-s-e': 175, 'd-e-l-i-v-e-r': 229.56576640298908, 'A-s-h-b-y-s_qt-s': 175, 'p-a-s_s-s': 175, 'b-y-s_cm': 175, 'd-i-r-e-c-t-i-n-g': 175, 'p-a-r-t-i-c-u-l-a-r-l-y': 175, 'c-a-r-e-s_mi': 175, 'f-u-l': 175, 'e-i-t-h-e-r': 175, 'C-a-p-t-a-i-n-s': 175, 'R-a-n-g-e-r-s': 175, 'a-p-p-l-y': 136.0371780656217, 'A-m-m-u-s_mi': 175, 'n-i-t-i-o-n-s_cm': 175, 's-u-p-p-l-y': 175, 'F-o-r-t-s_pt': 175, 'A': 175, 'D-r-u-m-s_cm': 175, 'W-i-l-p-e-r-s_cm': 219.6408146783528, 'r-o-o-m': 175, 'D-u-n-c-a-n': 175, 'F-e-r-g-u-s-o-n-s_cm': 175, 's_2-s_7-s_5-s_pt': 175, 'C-u-m-b-e-r-l-a-n-d-s_pt': 166.57158583049835, 'R-e-g-i-m-e-n-t': 175, 'e-x-e-r-s_mi': 175, 'c-i-s-e-d': 175, 'o-f-t-e-n': 175, 'e-v-e-r-y': 100.01440504291523, 'd-a-y': 125.7520112147934, 'd-u-t-y': 175, 'a-d-m-i-t-s_sq': 175, 'p-r-a-c-t-i-s-e-d': 175, 's-h-o-o-t-i-n-g': 175, 'T-a-r-s_mi': 175, 'g-e-t-s-s_sq': 175, 'r-e-m-a-r-k-a-b-l-y': 175, 'a-w-k-w-a-r-d-s_cm': 175, 'p-a-r-t-i-c-u-l-a-r': 148.80428658689547, 'p-a-i-n-s': 175, 't-a-k-e-n': 175, 't-h-e-m-s_pt': 175, 'o-b-s-e-r-v-e': 175, 'd-i-s-c-i-p-l-i-n-e-s_cm': 175, 'i-r-r-e-g-u-s_mi': 175, 'l-a-r-i-t-i-e-s': 175, 'h-a-p-p-e-n-s_sq': 175, 'p-i-l-l-a-g-e': 173.05378999732176, 'c-o-m-p-l-a-i-n-e-d': 175, 'l-a-s-t': 175, 'D-e-t-a-c-h-m-e-n-t-s_pt': 175, 'M-a-j-o-r': 185.58268292044164, 'L-e-w-i-s': 242.45168230236132, 'I-n-s_mi': 175, 's-t-r-u-c-t-i-o-n-s': 175, 'l-e-f-t': 134.32844079093758, 'h-i-m-s_cm': 176.60894303320526, 'o-b-s-e-r-v-e-d-s_pt': 175, 'G-i-v-e-n': 156.9623109137543, 'u-n-d-e-r': 242.51169882422755, 'm-y': 175, 'H-a-n-d': 175, 'a-r-e-s_cm': 175, 'd-i-r-e-c-t-i-o-n-s': 175, 'n-e-c-e-s_s-s-a-r-y': 175.9597827701311, 'd-r-i-v-i-n-g': 175, 'C-a-t-t-l-e': 154.1934720168718, 'D-o-c-t-o-r': 175, 'W-a-l-k-e-r-s_cm': 175, 't-h-e-r-e-s_cm': 175, 'k-i-l-l-e-d': 175, 'p-r-o-p-e-r-l-y': 175, 's-a-l-t-e-d-s_pt': 175, 'W-h-i-c-h-e-v-e-r': 175, 'p-u-r-c-h-a-s-e': 175, 'P-o-r-k': 175, 'i-m-a-g-i-n-e': 175, 'T-r-o-o-p-s-s_cm': 195.98729003584054, 'r-e-a-s-o-n-a-b-l-e': 175, 'c-a-n-s_sq': 175, 'o-b-l-i-g-e': 175, 'w-h-a-t-e-v-e-r': 115.29263450813963, 'j-u-d-g-e': 175, 'p-r-o-p-e-r-s_pt': 175, 'a-n-s-w-e-r-s_cm': 175, 'h-a-n-d-s-s_cm': 145.76069002371977, 'D-r-a-u-g-h-t-s': 175, 'H-o-g-g': 175, 'm-a-y': 124.36521298592326, 'd-r-a-w': 175, 's-u-b-s-i-s-t-a-n-c-e': 175, 't-i-m-e-s_pt': 247.78338446532604, 'e-n-g-a-g-e-d': 175, 'B-e-r-r-e-l-s': 175, 'P-r-o-v-i-s-i-o-n-s-s_cm': 175, 's_2-s_7-s_6-s_pt': 175, 'L-e-t-t-e-r-s': 175, 'E-x-p-e-d-i-t-i-o-n-s_cm': 175, 'k-n-o-w': 175, 'w-a-n-t-e-d': 175, 's-e-v-e-r-a-l': 175, 'C-o-n-t-r-a-c-t-s': 175, 'n-e-x-t': 170.96127765915114, 'm-o-n-t-h-s_cm': 166.80771725242397, 'd-e-s-i-r-e': 175, 'u-p-s_mi': 175, 'a-c-c-o-u-n-t-s_cm': 175, 'i-m-m-e-d-i-a-t-e': 175, 'p-a-y-m-e-n-t-s_pt': 175, 'W-i-n-c-h-e-s-t-e-r': 177.77163762273398, 's_1-s_7-s_5-s_5': 175, 'W-i-l-l-i-a-m-s-b-u-r-g-h-s_pt': 175, 'D-r-u-m-m-e-r': 175, 'P-e-a-c-h-y': 175, 'c-o-m-m-a-n-d': 291.41635659274607, 'R-e-c-r-u-i-t-s': 172.65891312332766, 'a-r-r-i-v-e-d': 106.09533379416624, 'H-a-l-l': 175, 'P-r-i-c-e-s_sq': 175, 'a-c-t': 175, 'f-u-r-t-h-e-r': 172.20993989153726, 'o-r-d-e-r-s-s_mi': 115.99783752498097, 'H-e-d-g-e-m-a-n-s_cm': 175, 'K-i-n-g-s_cm': 175, 'E-u-s-t-a-c-e-s_cm': 175, 's_bl-a-s': 175, 'C-u-m-b-e-r-l-a-n-d-s_br': 175, 'W-a-g-g-e-n-e-r': 175, 'c-o-m-m-a-n-d-s': 175, 'p-r-e-s-e-n-t-s_sq': 175, 'P-a-r-t-y': 175, 'S-h-a-w-s_cm': 175, 'r-e-s_mi': 175, 't-u-r-n': 175, 'r-e-s-p-e-c-t-i-v-e': 175, 'r-e-a-c-h': 175, 'M-a-g-a-z-i-n-e': 175, 's-e-c-u-r-e-d-s_cm': 175, 'f-a-s-t-e-n-i-n-g': 175, 'w-i-n-d-o-w-s': 175, 'b-e-t-t-e-r': 175, 'a-r-e-s_pt': 175, 'c-l-o-s_mi': 175, 's_2-s_7-s_7-s_pt': 175, 't-h-e-d': 175, 'm-o-r-r-o-w-s_cm': 175, 'A-c-c-o-u-n-t-s': 175, 'r-e-c-e-i-v-e-s_pt': 175, 'R-e-c-r-u-i-t-s-s_pt': 175, 'e-a-c-h': 174.73937311071623, 'm-a-n': 154.1222407505366, 'd-i-s-t-i-n-g-u-i-s-h-e-s': 175, 'F-i-r-e-l-o-c-k': 175, 'm-a-r-k-s_cm': 175, 'S-u-b-s_mi': 175, 'a-l-t-e-r-n-s': 175, 'e-n-t-e-r': 123.65133302530185, 'B-o-o-k-s_cm': 175, 'k-e-e-p': 175, 'p-u-r-p-o-s-e-s_pt': 175, 'E-v-e-r-y': 175, 'O-r-d-e-r-l-y': 175, 'B-o-o-k': 175, 'i-s_s-s-u-e': 175, 'r-e-g-u-l-a-r-l-y-s_cm': 175, 'e-x-a-m-i-n-e': 175, 'o-f-t-e-n-s_cm': 175, 'd-u-l-y': 175, 'B-r-o-n-a-u-g-h-s_cm': 175, 'S-t-e-w-a-r-t-s_cm': 175, 'B-l-e-g-g': 175, 'W-i-l-l-i-a-m-s-s_cm': 175, 'R-e-c-r-u-i-t-i-n-g-s_cm': 175, 'R-e-n-d-e-z-v-o-u-s': 191.03454510208462, 'A-l-e-x-a-n-d-r-i-s_mi': 175, 'a-s_cm': 175, 's_1st': 175, 's_3-s_1st-s_pt': 175, 'R-o-b-e-r-t': 175, 'S-p-o-t-s-w-o-o-d-s_cm': 175, 'f-u-r-n-i-s-h': 175, 'F-r-e-d-e-r-i-c-k-s-b-u-r-g-h-s_cm': 175, 'u-t-m-o-s-t': 175, 'r-e-i-n-f-o-r-c-e': 175, 'G-a-r-r-i-s-o-n-s_pt': 175, 'W-h-e-n': 175, 'C-a-r-s_mi': 175, 't-r-i-d-g-e-s-s_pt': 175, 'c-i-r-c-u-m-s_mi': 175, 's-p-e-c-t': 175, 'm-a-r-c-h-s_sq': 175, 'w-h-a-t-s-o-e-v-e-r-s_cm': 175, 'p-l-u-n-d-e-r': 175, 'H-o-u-s-e-s': 175, 'p-e-o-p-l-e': 175, 'd-e-s-e-r-t-e-d-s_cm': 175, 'P-l-a-n-t-a-t-i-o-n-s-s_pt': 175, 'F-r-a-s_mi': 175, 'z-i-e-r': 175, 'C-a-r-t-e-r-s_cm': 175, 'a-p-p-o-i-n-t-e-d': 175, 'm-a-n-d': 175, 's_2-s_7-s_8-s_pt': 175, 'J-o-h-n': 175, 'M-e-r-c-e-r': 175, 'R-e-n-s_mi': 175, 'd-e-z-v-o-u-s': 175, 'f-i-r-s-t': 175, 'D-a-y': 175, 'D-e-c-e-m-b-e-r-s_cm': 266.49773908199074, 'r-a-i-s-e': 175, 'F-r-e-d-e-r-i-c-k-s-b-u-r-g-s_cm': 175, 'N-o-v-e-m-b-e-r': 189.6247062778138, 'c-a-m-p-s_pt': 175, 'N-s_pt-B-s_pt': 289.33787334842276, 'J-o-s-h-u-a': 175, 'A-l-e-x-s_mi': 175, 'a-n-d-r-i-a-s_pt': 175, 'B-o-y-d-s_cm': 175, 'P-a-y-m-a-s-t-e-r-s_pt': 175, 'S-t-e-p-h-e-n': 145.064737929338, 'b-r-o-u-g-h-t': 175, 's_lb-s_1-s_0-s_0-s_0': 175, 'w-r-o-t-e': 175, 'o-f-f': 154.35166878314354, 's-a-v-e': 175, 'j-o-u-r-n-e-y': 175, 'W-i-l-l-i-a-m-s-s_mi': 175, 'b-u-r-g': 175, 't-i-m-e-s_qo': 175, 't-h-i-n-k': 175, 'a-b-s-o-l-u-t-e-l-y': 175, 's-h-o-u-l-d-s_cm': 175, 'p-a-y-i-n-g': 175, 'T-r-o-o-p-s': 175, 'G-a-r-r-i-s-o-n-s_cm': 175, 'i-n-t-o': 175, 'A-u-g-u-s-t-a-s_cm': 175, 'c-o-m-p-l-e-t-e-s_sq': 175, 'M-c-s_pt': 175, 'C-l-e-n-a-c-h-a-n-s_cm': 175, 's-a-f-e': 175, 'h-a-n-d': 175, 'h-e-n-c-e-s_pt': 175, 'p-a-i-d': 199.23814973607415, 'O-c-s_mi': 175, 't-o-b-e-r': 175, 'd-i-s-t-i-n-c-s_mi': 175, 't-i-o-n': 175, 'b-e-t-w-e-e-n': 175, 'S-e-r-g-e-a-n-t-s-s_cm': 175, 'n-o-n-e': 175, 'y-e-t': 175, 'b-e-e-n': 175, 'r-e-g-u-l-a-r-l-y': 175, 'a-p-p-o-i-n-t-e-d-s_pt': 175, 'a-c-s_mi': 175, 'c-o-u-n-t': 175, 'p-a-i-d-s_cm': 175, 'h-o-w': 175, 'S-e-r-g-e-a-n-t-s': 175, 'p-a-y-s_cm': 175, 'd-e-d-u-c-t-e-d': 175, 'p-a-y-m-e-n-t-s_qo': 175, 's_1-s_7-s_5-s_5-s_pt-s_2-s_7-s_9-s_pt': 175, 'p-e-n-c-e': 218.1594734221078, 'n-o-n': 175, 'c-o-m-m-i-s_s-s-i-o-n-e-d': 189.81785905100244, 'S-o-l-d-i-e-r': 204.01628273261417, 'm-e-d-i-c-i-n-e-s-s_sq': 175, 'S-u-r-g-e-o-n': 175, 'Q-u-a-r-t-e-r-l-y-s_pt': 175, 'm-o-n-t-h': 175, 's-t-o-p-p-e-d': 175, 'D-r-u-m-s_mi': 175, 'm-e-r-s-s_cm': 175, 'D-r-u-m': 175, 't-e-a-c-h-i-n-g': 175, 'r-e-p-a-i-r-i-n-g': 175, 'D-r-u-m-s-s_pt': 175, 'T-h-e-s-e': 175, 'd-e-d-u-c-t-i-o-n-s': 175, 'd-a-y-s_sq': 175, 'c-o-u-n-s_mi': 175, 't-e-r-m-a-n-d-e-d': 175, 'G-o-v-e-r-n-o-r': 175, 'm-y-s-e-l-f-s_pt': 175, 'n-o-n-s_mi': 175, 'h-a-p-p-e-n': 175, 'c-o-n-t-i-n-u-e-d': 175, 'r-o-l-l': 175, 'e-f-s_mi': 175, 'f-e-c-t-i-v-e': 175, 'd-a-y-s-s_cm': 175, 'C-o-f-f-i-n-s_cm': 175, 'J-o-n-e-s-s_cm': 175, 'O-r': 175, 'G-e-o-r-g-e': 175, 'C-o-n-w-a-y-s_pt': 175, 's_bl-t-a-k-i-n-g': 175, 'r-e-c-e-i-p-t': 175, 's-a-m-e-s_br': 175, 'R-e-g-i-m-e-n-t-a-l': 175, 'W-a-i-s-t-c-o-a-t-s-s_cm': 175, 'B-r-e-e-c-h-e-s-s_cm': 175, 'H-a-t-s-s_cm': 175, 'e-l-e-v-e-n': 175, 'S-h-i-r-t-s-s_cm': 175, 'm-a-n-y': 175, 'S-t-o-c-k-i-n-g-s-s_cm': 175, 's-a-m-e': 175, 'S-h-o-e-s-s_pt': 175, 's-a-i-d': 127.22781410514563, 'M-u-s-q-u-e-t-s-s_sq': 175, 'B-a-y-o-n-e-t-s-s_cm': 175, 'C-a-r-t-o-u-c-h-s_mi': 175, 'B-o-x-s_qt-s-s_cm': 175, 'S-t-o-r-e-s_pt': 175, 'B-a-y-o-n-e-t-s': 175, 'l-o-o-s-e': 175, 'o-n-e-s': 175, 'S-t-o-r-e-s_qo': 175, 'd-e-s_mi': 175, 'l-i-v-e-r': 175, 'B-l-a-n-k-e-t-s-s_pt': 175, 'O-c-t-o-s_pt': 175, 's_3-s_0th-s_pt': 175, 'D-a-v-i-d': 175}\n"
     ]
    }
   ],
   "source": [
    "# Find the threshhold where everything would be classified correctly in the training set. \n",
    "\n",
    "dtw_values = {}\n",
    "counter = 0\n",
    "\n",
    "for images in words: \n",
    "    dtw_values[images] = []\n",
    "    print(counter, '|', end='')\n",
    "    if counter % 20 == 0 and counter > 1:\n",
    "        print('')\n",
    "    counter += 1\n",
    "    occurrences = 0\n",
    "    for i in range(len(words[images])):\n",
    "        for j in range(i + 1, len(words[images])):\n",
    "            if occurrences > 5:\n",
    "                break\n",
    "            dtw_values[images] = dtw_values[images] + [(compute_dtw(words[images][i], words[images][j]))]                                    \n",
    "            occurrences += 1\n",
    "            \n",
    "\n",
    "\n",
    "for key in dtw_values:\n",
    "    values = dtw_values[key]\n",
    "    if len(values) > 0:\n",
    "        mean = statistics.mean(values)\n",
    "        maxVal = max(values)\n",
    "        val = (9*mean + maxVal)/10\n",
    "        dtw_values[key] = val\n",
    "    else: \n",
    "        dtw_values[key] = 175\n",
    "    \n",
    "print(dtw_values)"
   ]
  },
  {
   "cell_type": "markdown",
   "metadata": {},
   "source": [
    "## Validation"
   ]
  },
  {
   "cell_type": "code",
   "execution_count": 5,
   "metadata": {},
   "outputs": [],
   "source": [
    "#Check the closest images to the testing image\n",
    "#Everything is done only on the validation set here\n",
    "\n",
    "def validate(trained, valid, trainedLabels, validLabels, threshold):\n",
    "    total = len(valid)\n",
    "    counter = 0\n",
    "    stats = {}\n",
    "    for i in range(len(valid)):\n",
    "        print(f\"{counter}/{total}\")\n",
    "        counter += 1\n",
    "        results = [] \n",
    "        true_positive = 0\n",
    "        false_positive = 0\n",
    "        \n",
    "        results = [(compute_dtw(valid[i], trained[j]), trainedLabels[j]) for j in range(len(trained))]\n",
    "        results = sorted(results)\n",
    "        print(validLabels[i])\n",
    "        if validLabels[i] not in stats.keys():\n",
    "            stats[validLabels[i]] = [true_positive, false_positive]\n",
    "        if validLabels[i] in threshold.keys():\n",
    "            index = bisect.bisect([list(k) for k in zip(*results)][0], threshold[validLabels[i]])\n",
    "        else:\n",
    "            print(\"No matches\")\n",
    "            stats[validLabels[i]][0] += true_positive\n",
    "            stats[validLabels[i]][1] += false_positive\n",
    "            continue\n",
    "        print(f\"True label is: {validLabels[i]}\")\n",
    "        print(f\"Found following matches:\")\n",
    "        for idx in range(index):\n",
    "            _,noun = results[idx]\n",
    "            print(results[idx])\n",
    "            if noun == validLabels[i]:\n",
    "                true_positive += 1 \n",
    "            else:\n",
    "                false_positive += 1 \n",
    "        stats[validLabels[i]][0] += true_positive\n",
    "        stats[validLabels[i]][1] += false_positive\n",
    "    \n",
    "    return stats\n",
    "    "
   ]
  },
  {
   "cell_type": "code",
   "execution_count": 6,
   "metadata": {},
   "outputs": [
    {
     "name": "stdout",
     "output_type": "stream",
     "text": [
      "Training images: 325\t Validation images: 70\n",
      "Training labels: 325\t Validation labels: 70\n",
      "0/70\n",
      "O-r-d-e-r-s\n",
      "True label is: O-r-d-e-r-s\n",
      "Found following matches:\n",
      "(115.57747203714831, 'O-r-d-e-r-s')\n",
      "(123.35666086793559, 'O-r-d-e-r-s')\n",
      "(126.66392339948777, 'o-r-d-e-r-e-d')\n",
      "(128.86946663604655, 'O-r-d-e-r-s')\n",
      "(133.15294396414419, 'O-r-d-e-r-s')\n",
      "(148.90533378866158, 'O-r-d-e-r-s')\n",
      "(153.50260037549918, 'O-r-d-e-r-s')\n",
      "(154.50846737433758, 'O-r-d-e-r-s')\n",
      "(155.90150682049585, 'O-r-d-e-r-s')\n",
      "(160.34222458873205, 'O-r-d-e-r-s')\n",
      "(165.6513539844034, 'O-r-d-e-r-s')\n",
      "(166.17939680906903, 'O-r-d-e-r-s')\n",
      "(169.58306844247144, 't-w-e-l-v-e')\n",
      "(173.68658772320535, 'F-o-r-t')\n",
      "(177.4400381311212, 'o-r-d-e-r-e-d')\n",
      "1/70\n",
      "I-n-s-t-r-u-c-t-i-o-n-s-s_pt\n",
      "True label is: I-n-s-t-r-u-c-t-i-o-n-s-s_pt\n",
      "Found following matches:\n",
      "(162.57572458098008, 'I-n-s-t-r-u-c-t-i-o-n-s-s_pt')\n",
      "(170.74725791317934, 'I-n-s-t-r-u-c-t-i-o-n-s-s_pt')\n",
      "(192.49005226931493, 'I-n-s-t-r-u-c-t-i-o-n-s-s_pt')\n",
      "(193.56328102216182, 'I-n-s-t-r-u-c-t-i-o-n-s-s_pt')\n",
      "(197.61572552662602, 'I-n-s-t-r-u-c-t-i-o-n-s-s_pt')\n",
      "(204.90282013454075, 'I-n-s-t-r-u-c-t-i-o-n-s-s_pt')\n",
      "2/70\n",
      "o-p-p-o-r-t-u-n-i-t-y\n",
      "True label is: o-p-p-o-r-t-u-n-i-t-y\n",
      "Found following matches:\n",
      "(157.28891237432373, 'o-p-p-o-r-t-u-n-i-t-y')\n",
      "(171.13651124688502, 'i-m-m-e-d-i-a-t-e-l-y')\n",
      "3/70\n",
      "c-a-r-e-f-u-l\n",
      "True label is: c-a-r-e-f-u-l\n",
      "Found following matches:\n",
      "(121.19670556636584, 'c-a-r-e-f-u-l')\n",
      "4/70\n",
      "s_et-c-s_pt\n",
      "True label is: s_et-c-s_pt\n",
      "Found following matches:\n",
      "5/70\n",
      "s_GW\n",
      "True label is: s_GW\n",
      "Found following matches:\n",
      "(149.44157228879948, 's_GW')\n",
      "(156.21765147565503, 's_GW')\n",
      "6/70\n",
      "R-o-b-e-r-t\n",
      "True label is: R-o-b-e-r-t\n",
      "Found following matches:\n",
      "(154.31304131880418, 'R-o-b-e-r-t')\n",
      "(171.3702252450519, 'P-a-r-o-l-e')\n",
      "7/70\n",
      "J-o-h-n\n",
      "True label is: J-o-h-n\n",
      "Found following matches:\n",
      "8/70\n",
      "L-e-t-t-e-r-s\n",
      "True label is: L-e-t-t-e-r-s\n",
      "Found following matches:\n",
      "9/70\n"
     ]
    },
    {
     "ename": "KeyboardInterrupt",
     "evalue": "",
     "output_type": "error",
     "traceback": [
      "\u001b[1;31m---------------------------------------------------------------------------\u001b[0m",
      "\u001b[1;31mKeyboardInterrupt\u001b[0m                         Traceback (most recent call last)",
      "\u001b[1;32m<ipython-input-6-f0fdb566835f>\u001b[0m in \u001b[0;36m<module>\u001b[1;34m\u001b[0m\n\u001b[0;32m     37\u001b[0m \u001b[1;33m\u001b[0m\u001b[0m\n\u001b[0;32m     38\u001b[0m \u001b[1;31m# Takes a lot of time !\u001b[0m\u001b[1;33m\u001b[0m\u001b[1;33m\u001b[0m\u001b[1;33m\u001b[0m\u001b[0m\n\u001b[1;32m---> 39\u001b[1;33m \u001b[0mstats\u001b[0m \u001b[1;33m=\u001b[0m \u001b[0mvalidate\u001b[0m\u001b[1;33m(\u001b[0m\u001b[0mtrainImages\u001b[0m\u001b[1;33m,\u001b[0m \u001b[0mvalImages\u001b[0m\u001b[1;33m,\u001b[0m \u001b[0mtrainLabels\u001b[0m\u001b[1;33m,\u001b[0m \u001b[0mvalLabels\u001b[0m\u001b[1;33m,\u001b[0m \u001b[0mdtw_values\u001b[0m\u001b[1;33m)\u001b[0m\u001b[1;33m\u001b[0m\u001b[1;33m\u001b[0m\u001b[0m\n\u001b[0m",
      "\u001b[1;32m<ipython-input-5-d37d4b00dc98>\u001b[0m in \u001b[0;36mvalidate\u001b[1;34m(trained, valid, trainedLabels, validLabels, threshold)\u001b[0m\n\u001b[0;32m     13\u001b[0m         \u001b[0mfalse_positive\u001b[0m \u001b[1;33m=\u001b[0m \u001b[1;36m0\u001b[0m\u001b[1;33m\u001b[0m\u001b[1;33m\u001b[0m\u001b[0m\n\u001b[0;32m     14\u001b[0m \u001b[1;33m\u001b[0m\u001b[0m\n\u001b[1;32m---> 15\u001b[1;33m         \u001b[0mresults\u001b[0m \u001b[1;33m=\u001b[0m \u001b[1;33m[\u001b[0m\u001b[1;33m(\u001b[0m\u001b[0mcompute_dtw\u001b[0m\u001b[1;33m(\u001b[0m\u001b[0mvalid\u001b[0m\u001b[1;33m[\u001b[0m\u001b[0mi\u001b[0m\u001b[1;33m]\u001b[0m\u001b[1;33m,\u001b[0m \u001b[0mtrained\u001b[0m\u001b[1;33m[\u001b[0m\u001b[0mj\u001b[0m\u001b[1;33m]\u001b[0m\u001b[1;33m)\u001b[0m\u001b[1;33m,\u001b[0m \u001b[0mtrainedLabels\u001b[0m\u001b[1;33m[\u001b[0m\u001b[0mj\u001b[0m\u001b[1;33m]\u001b[0m\u001b[1;33m)\u001b[0m \u001b[1;32mfor\u001b[0m \u001b[0mj\u001b[0m \u001b[1;32min\u001b[0m \u001b[0mrange\u001b[0m\u001b[1;33m(\u001b[0m\u001b[0mlen\u001b[0m\u001b[1;33m(\u001b[0m\u001b[0mtrained\u001b[0m\u001b[1;33m)\u001b[0m\u001b[1;33m)\u001b[0m\u001b[1;33m]\u001b[0m\u001b[1;33m\u001b[0m\u001b[1;33m\u001b[0m\u001b[0m\n\u001b[0m\u001b[0;32m     16\u001b[0m         \u001b[0mresults\u001b[0m \u001b[1;33m=\u001b[0m \u001b[0msorted\u001b[0m\u001b[1;33m(\u001b[0m\u001b[0mresults\u001b[0m\u001b[1;33m)\u001b[0m\u001b[1;33m\u001b[0m\u001b[1;33m\u001b[0m\u001b[0m\n\u001b[0;32m     17\u001b[0m         \u001b[0mprint\u001b[0m\u001b[1;33m(\u001b[0m\u001b[0mvalidLabels\u001b[0m\u001b[1;33m[\u001b[0m\u001b[0mi\u001b[0m\u001b[1;33m]\u001b[0m\u001b[1;33m)\u001b[0m\u001b[1;33m\u001b[0m\u001b[1;33m\u001b[0m\u001b[0m\n",
      "\u001b[1;32m<ipython-input-5-d37d4b00dc98>\u001b[0m in \u001b[0;36m<listcomp>\u001b[1;34m(.0)\u001b[0m\n\u001b[0;32m     13\u001b[0m         \u001b[0mfalse_positive\u001b[0m \u001b[1;33m=\u001b[0m \u001b[1;36m0\u001b[0m\u001b[1;33m\u001b[0m\u001b[1;33m\u001b[0m\u001b[0m\n\u001b[0;32m     14\u001b[0m \u001b[1;33m\u001b[0m\u001b[0m\n\u001b[1;32m---> 15\u001b[1;33m         \u001b[0mresults\u001b[0m \u001b[1;33m=\u001b[0m \u001b[1;33m[\u001b[0m\u001b[1;33m(\u001b[0m\u001b[0mcompute_dtw\u001b[0m\u001b[1;33m(\u001b[0m\u001b[0mvalid\u001b[0m\u001b[1;33m[\u001b[0m\u001b[0mi\u001b[0m\u001b[1;33m]\u001b[0m\u001b[1;33m,\u001b[0m \u001b[0mtrained\u001b[0m\u001b[1;33m[\u001b[0m\u001b[0mj\u001b[0m\u001b[1;33m]\u001b[0m\u001b[1;33m)\u001b[0m\u001b[1;33m,\u001b[0m \u001b[0mtrainedLabels\u001b[0m\u001b[1;33m[\u001b[0m\u001b[0mj\u001b[0m\u001b[1;33m]\u001b[0m\u001b[1;33m)\u001b[0m \u001b[1;32mfor\u001b[0m \u001b[0mj\u001b[0m \u001b[1;32min\u001b[0m \u001b[0mrange\u001b[0m\u001b[1;33m(\u001b[0m\u001b[0mlen\u001b[0m\u001b[1;33m(\u001b[0m\u001b[0mtrained\u001b[0m\u001b[1;33m)\u001b[0m\u001b[1;33m)\u001b[0m\u001b[1;33m]\u001b[0m\u001b[1;33m\u001b[0m\u001b[1;33m\u001b[0m\u001b[0m\n\u001b[0m\u001b[0;32m     16\u001b[0m         \u001b[0mresults\u001b[0m \u001b[1;33m=\u001b[0m \u001b[0msorted\u001b[0m\u001b[1;33m(\u001b[0m\u001b[0mresults\u001b[0m\u001b[1;33m)\u001b[0m\u001b[1;33m\u001b[0m\u001b[1;33m\u001b[0m\u001b[0m\n\u001b[0;32m     17\u001b[0m         \u001b[0mprint\u001b[0m\u001b[1;33m(\u001b[0m\u001b[0mvalidLabels\u001b[0m\u001b[1;33m[\u001b[0m\u001b[0mi\u001b[0m\u001b[1;33m]\u001b[0m\u001b[1;33m)\u001b[0m\u001b[1;33m\u001b[0m\u001b[1;33m\u001b[0m\u001b[0m\n",
      "\u001b[1;32mc:\\Users\\antoi\\OneDrive\\Documents\\Uni\\1e - SP22\\PatternRecognition\\Exercices\\tensorboys\\03_KWS_DTW\\helper.py\u001b[0m in \u001b[0;36mcompute_dtw\u001b[1;34m(image1, image2, windows_size, normalize)\u001b[0m\n\u001b[0;32m    150\u001b[0m \u001b[1;33m\u001b[0m\u001b[0m\n\u001b[0;32m    151\u001b[0m     \u001b[0mfeature_vector_1\u001b[0m \u001b[1;33m=\u001b[0m \u001b[0mcompute_features_vector\u001b[0m\u001b[1;33m(\u001b[0m\u001b[0mimage1\u001b[0m\u001b[1;33m,\u001b[0m \u001b[0mnormalize\u001b[0m\u001b[1;33m)\u001b[0m\u001b[1;33m\u001b[0m\u001b[1;33m\u001b[0m\u001b[0m\n\u001b[1;32m--> 152\u001b[1;33m     \u001b[0mfeature_vector_2\u001b[0m \u001b[1;33m=\u001b[0m \u001b[0mcompute_features_vector\u001b[0m\u001b[1;33m(\u001b[0m\u001b[0mimage2\u001b[0m\u001b[1;33m,\u001b[0m \u001b[0mnormalize\u001b[0m\u001b[1;33m)\u001b[0m\u001b[1;33m\u001b[0m\u001b[1;33m\u001b[0m\u001b[0m\n\u001b[0m\u001b[0;32m    153\u001b[0m \u001b[1;33m\u001b[0m\u001b[0m\n\u001b[0;32m    154\u001b[0m     \u001b[0mdist_matrix\u001b[0m \u001b[1;33m=\u001b[0m \u001b[0mcdist\u001b[0m\u001b[1;33m(\u001b[0m\u001b[0mfeature_vector_1\u001b[0m\u001b[1;33m,\u001b[0m \u001b[0mfeature_vector_2\u001b[0m\u001b[1;33m)\u001b[0m\u001b[1;33m\u001b[0m\u001b[1;33m\u001b[0m\u001b[0m\n",
      "\u001b[1;32mc:\\Users\\antoi\\OneDrive\\Documents\\Uni\\1e - SP22\\PatternRecognition\\Exercices\\tensorboys\\03_KWS_DTW\\helper.py\u001b[0m in \u001b[0;36mcompute_features_vector\u001b[1;34m(image, normalize)\u001b[0m\n\u001b[0;32m    136\u001b[0m     \u001b[1;32mfor\u001b[0m \u001b[0mi\u001b[0m \u001b[1;32min\u001b[0m \u001b[0mrange\u001b[0m\u001b[1;33m(\u001b[0m\u001b[0mimage\u001b[0m\u001b[1;33m.\u001b[0m\u001b[0mshape\u001b[0m\u001b[1;33m[\u001b[0m\u001b[1;36m1\u001b[0m\u001b[1;33m]\u001b[0m\u001b[1;33m)\u001b[0m\u001b[1;33m:\u001b[0m\u001b[1;33m\u001b[0m\u001b[1;33m\u001b[0m\u001b[0m\n\u001b[0;32m    137\u001b[0m         feature_vector = [lower_contour(image[:, i]), upper_contour(image[:, i]), fraction_black(\n\u001b[1;32m--> 138\u001b[1;33m             image[:, i]), fraction_black_between(image[:, i]), transition_black_white(image[:, i])]\n\u001b[0m\u001b[0;32m    139\u001b[0m         \u001b[0mrep\u001b[0m\u001b[1;33m.\u001b[0m\u001b[0mappend\u001b[0m\u001b[1;33m(\u001b[0m\u001b[0mfeature_vector\u001b[0m\u001b[1;33m)\u001b[0m\u001b[1;33m\u001b[0m\u001b[1;33m\u001b[0m\u001b[0m\n\u001b[0;32m    140\u001b[0m \u001b[1;33m\u001b[0m\u001b[0m\n",
      "\u001b[1;32mc:\\Users\\antoi\\OneDrive\\Documents\\Uni\\1e - SP22\\PatternRecognition\\Exercices\\tensorboys\\03_KWS_DTW\\helper.py\u001b[0m in \u001b[0;36mfraction_black_between\u001b[1;34m(slice)\u001b[0m\n\u001b[0;32m    108\u001b[0m \u001b[1;33m\u001b[0m\u001b[0m\n\u001b[0;32m    109\u001b[0m         \u001b[0mindex_min\u001b[0m \u001b[1;33m=\u001b[0m \u001b[0mnp\u001b[0m\u001b[1;33m.\u001b[0m\u001b[0mmin\u001b[0m\u001b[1;33m(\u001b[0m\u001b[0mnp\u001b[0m\u001b[1;33m.\u001b[0m\u001b[0mwhere\u001b[0m\u001b[1;33m(\u001b[0m\u001b[0mslice\u001b[0m \u001b[1;33m<=\u001b[0m \u001b[1;36m0.5\u001b[0m\u001b[1;33m)\u001b[0m\u001b[1;33m)\u001b[0m\u001b[1;33m\u001b[0m\u001b[1;33m\u001b[0m\u001b[0m\n\u001b[1;32m--> 110\u001b[1;33m         \u001b[0mindex_max\u001b[0m \u001b[1;33m=\u001b[0m \u001b[0mnp\u001b[0m\u001b[1;33m.\u001b[0m\u001b[0mmax\u001b[0m\u001b[1;33m(\u001b[0m\u001b[0mnp\u001b[0m\u001b[1;33m.\u001b[0m\u001b[0mwhere\u001b[0m\u001b[1;33m(\u001b[0m\u001b[0mslice\u001b[0m \u001b[1;33m<=\u001b[0m \u001b[1;36m0.5\u001b[0m\u001b[1;33m)\u001b[0m\u001b[1;33m)\u001b[0m\u001b[1;33m\u001b[0m\u001b[1;33m\u001b[0m\u001b[0m\n\u001b[0m\u001b[0;32m    111\u001b[0m \u001b[1;33m\u001b[0m\u001b[0m\n\u001b[0;32m    112\u001b[0m         \u001b[1;32mreturn\u001b[0m \u001b[0mfraction_black\u001b[0m\u001b[1;33m(\u001b[0m\u001b[0mslice\u001b[0m\u001b[1;33m[\u001b[0m\u001b[0mindex_min\u001b[0m\u001b[1;33m:\u001b[0m\u001b[0mindex_max\u001b[0m\u001b[1;33m+\u001b[0m\u001b[1;36m1\u001b[0m\u001b[1;33m]\u001b[0m\u001b[1;33m)\u001b[0m\u001b[1;33m\u001b[0m\u001b[1;33m\u001b[0m\u001b[0m\n",
      "\u001b[1;32m<__array_function__ internals>\u001b[0m in \u001b[0;36mamax\u001b[1;34m(*args, **kwargs)\u001b[0m\n",
      "\u001b[1;32mc:\\Users\\antoi\\AppData\\Local\\Programs\\Python\\Python39\\lib\\site-packages\\numpy\\core\\fromnumeric.py\u001b[0m in \u001b[0;36mamax\u001b[1;34m(a, axis, out, keepdims, initial, where)\u001b[0m\n\u001b[0;32m   2731\u001b[0m     \u001b[1;36m5\u001b[0m\u001b[1;33m\u001b[0m\u001b[1;33m\u001b[0m\u001b[0m\n\u001b[0;32m   2732\u001b[0m     \"\"\"\n\u001b[1;32m-> 2733\u001b[1;33m     return _wrapreduction(a, np.maximum, 'max', axis, None, out,\n\u001b[0m\u001b[0;32m   2734\u001b[0m                           keepdims=keepdims, initial=initial, where=where)\n\u001b[0;32m   2735\u001b[0m \u001b[1;33m\u001b[0m\u001b[0m\n",
      "\u001b[1;32mc:\\Users\\antoi\\AppData\\Local\\Programs\\Python\\Python39\\lib\\site-packages\\numpy\\core\\fromnumeric.py\u001b[0m in \u001b[0;36m_wrapreduction\u001b[1;34m(obj, ufunc, method, axis, dtype, out, **kwargs)\u001b[0m\n\u001b[0;32m     85\u001b[0m                 \u001b[1;32mreturn\u001b[0m \u001b[0mreduction\u001b[0m\u001b[1;33m(\u001b[0m\u001b[0maxis\u001b[0m\u001b[1;33m=\u001b[0m\u001b[0maxis\u001b[0m\u001b[1;33m,\u001b[0m \u001b[0mout\u001b[0m\u001b[1;33m=\u001b[0m\u001b[0mout\u001b[0m\u001b[1;33m,\u001b[0m \u001b[1;33m**\u001b[0m\u001b[0mpasskwargs\u001b[0m\u001b[1;33m)\u001b[0m\u001b[1;33m\u001b[0m\u001b[1;33m\u001b[0m\u001b[0m\n\u001b[0;32m     86\u001b[0m \u001b[1;33m\u001b[0m\u001b[0m\n\u001b[1;32m---> 87\u001b[1;33m     \u001b[1;32mreturn\u001b[0m \u001b[0mufunc\u001b[0m\u001b[1;33m.\u001b[0m\u001b[0mreduce\u001b[0m\u001b[1;33m(\u001b[0m\u001b[0mobj\u001b[0m\u001b[1;33m,\u001b[0m \u001b[0maxis\u001b[0m\u001b[1;33m,\u001b[0m \u001b[0mdtype\u001b[0m\u001b[1;33m,\u001b[0m \u001b[0mout\u001b[0m\u001b[1;33m,\u001b[0m \u001b[1;33m**\u001b[0m\u001b[0mpasskwargs\u001b[0m\u001b[1;33m)\u001b[0m\u001b[1;33m\u001b[0m\u001b[1;33m\u001b[0m\u001b[0m\n\u001b[0m\u001b[0;32m     88\u001b[0m \u001b[1;33m\u001b[0m\u001b[0m\n\u001b[0;32m     89\u001b[0m \u001b[1;33m\u001b[0m\u001b[0m\n",
      "\u001b[1;31mKeyboardInterrupt\u001b[0m: "
     ]
    }
   ],
   "source": [
    "valImages = []\n",
    "valLabels = []\n",
    "trainImages = []\n",
    "trainLabels = []\n",
    "\n",
    "keywords = []\n",
    "h = open(\"data/task/keywords.txt\", \"r\")\n",
    "for line in h:\n",
    "    keywords.append(line[:-1])\n",
    "\n",
    "\n",
    "h = open(\"data/ground-truth/transcription.txt\", \"r\")\n",
    "for line in h: \n",
    "    for doc in valDocs: \n",
    "        if not line.startswith(doc):\n",
    "            continue\n",
    "        image, word = line.split()\n",
    "        if word in keywords:\n",
    "            image = np.array(Image.open(\"data/output/\" + doc + \"/\" + image + \".png\"),dtype=float) \n",
    "            valImages.append(image)\n",
    "            valLabels.append(word)\n",
    "        \n",
    "\n",
    "h = open(\"data/ground-truth/transcription.txt\", \"r\")\n",
    "for line in h: \n",
    "    for doc in trainDocs: \n",
    "        if not line.startswith(doc):\n",
    "            continue\n",
    "        image, word = line.split()\n",
    "        if word in keywords:\n",
    "            image = np.array(Image.open(\"data/output/\" + doc + \"/\" + image + \".png\"),dtype=float) \n",
    "            trainImages.append(image)\n",
    "            trainLabels.append(word)\n",
    "\n",
    "\n",
    "print(f'Training images: {len(trainImages)}\\t Validation images: {len(valImages)}\\nTraining labels: {len(trainLabels)}\\t Validation labels: {len(valLabels)}')\n",
    "\n",
    "# Takes a lot of time ! \n",
    "stats = validate(trainImages, valImages, trainLabels, valLabels, dtw_values)"
   ]
  },
  {
   "cell_type": "code",
   "execution_count": 7,
   "metadata": {},
   "outputs": [
    {
     "ename": "NameError",
     "evalue": "name 'stats' is not defined",
     "output_type": "error",
     "traceback": [
      "\u001b[1;31m---------------------------------------------------------------------------\u001b[0m",
      "\u001b[1;31mNameError\u001b[0m                                 Traceback (most recent call last)",
      "\u001b[1;32m<ipython-input-7-158e6a1d6da2>\u001b[0m in \u001b[0;36m<module>\u001b[1;34m\u001b[0m\n\u001b[0;32m      5\u001b[0m \u001b[0mfalse_positives\u001b[0m \u001b[1;33m=\u001b[0m \u001b[1;33m[\u001b[0m\u001b[1;33m]\u001b[0m\u001b[1;33m\u001b[0m\u001b[1;33m\u001b[0m\u001b[0m\n\u001b[0;32m      6\u001b[0m \u001b[0mrelevant_elements\u001b[0m \u001b[1;33m=\u001b[0m \u001b[1;33m[\u001b[0m\u001b[1;33m]\u001b[0m\u001b[1;33m\u001b[0m\u001b[1;33m\u001b[0m\u001b[0m\n\u001b[1;32m----> 7\u001b[1;33m \u001b[1;32mfor\u001b[0m \u001b[0ms\u001b[0m \u001b[1;32min\u001b[0m \u001b[0mstats\u001b[0m\u001b[1;33m:\u001b[0m\u001b[1;33m\u001b[0m\u001b[1;33m\u001b[0m\u001b[0m\n\u001b[0m\u001b[0;32m      8\u001b[0m     \u001b[0mtp\u001b[0m\u001b[1;33m,\u001b[0m\u001b[0mfp\u001b[0m \u001b[1;33m=\u001b[0m \u001b[0mstats\u001b[0m\u001b[1;33m[\u001b[0m\u001b[0ms\u001b[0m\u001b[1;33m]\u001b[0m\u001b[1;33m\u001b[0m\u001b[1;33m\u001b[0m\u001b[0m\n\u001b[0;32m      9\u001b[0m     \u001b[0mtrue_positives\u001b[0m\u001b[1;33m.\u001b[0m\u001b[0mappend\u001b[0m\u001b[1;33m(\u001b[0m\u001b[0mtp\u001b[0m\u001b[1;33m)\u001b[0m\u001b[1;33m\u001b[0m\u001b[1;33m\u001b[0m\u001b[0m\n",
      "\u001b[1;31mNameError\u001b[0m: name 'stats' is not defined"
     ]
    }
   ],
   "source": [
    "#print(stats)\n",
    "true_positives = []\n",
    "#To avoid words coming up many times in the list, giving recall > 1\n",
    "bounded_tp = []\n",
    "false_positives = []\n",
    "relevant_elements = []\n",
    "for s in stats:\n",
    "    tp,fp = stats[s]\n",
    "    true_positives.append(tp)\n",
    "    false_positives.append(fp)\n",
    "    # Add the number of images contained in the training set that correspond to the word\n",
    "    relevant_elements.append(len(words[s]))\n",
    "    if(tp > len(words[s])):\n",
    "        bounded_tp.append(len(words[s]))\n",
    "    else:\n",
    "        bounded_tp.append(tp)\n",
    "        \n",
    "\n",
    "accuracy = sum(true_positives)/(sum(true_positives)+sum(false_positives))\n",
    "recall = sum(bounded_tp)/sum(relevant_elements)\n",
    "false_negatives = [relevant_elements[i] - bounded_tp[i] for i in range(len(relevant_elements))]\n",
    "\n",
    "print(f'Accuracy: {round(accuracy*100,2)} %')\n",
    "\n",
    "plt.figure(figsize=(18,7))\n",
    "plt.xticks(rotation=90)\n",
    "plt.bar(stats.keys(), true_positives, label='True positives', color='#90EE90')\n",
    "plt.bar(stats.keys(), false_positives, bottom=true_positives, label='False positives', color='#FB5616')\n",
    "plt.margins(x=0.001)\n",
    "plt.legend()\n",
    "plt.title('Repartition of true and false positives')\n",
    "plt.show()\n",
    "\n",
    "print(f'Recall: {round(recall*100,2)} %')\n",
    "\n",
    "plt.figure(figsize=(18,7))\n",
    "plt.xticks(rotation=90)\n",
    "plt.bar(stats.keys(), true_positives, label='True positives', color='#90EE90')\n",
    "plt.bar(stats.keys(), false_negatives, bottom=true_positives, label='False negatives', color='#4F7942')\n",
    "plt.margins(x=0.001)\n",
    "plt.legend()\n",
    "plt.title('Repartition of true positives and false negative')\n",
    "plt.show()\n"
   ]
  },
  {
   "cell_type": "markdown",
   "metadata": {},
   "source": [
    "## Observations\n",
    "In this exercise, we could clearly see the realtion between accuracy and recall. A goal of high accuracy will always lead to a lower recall, as some words will be skipped to avoid false positives."
   ]
  },
  {
   "cell_type": "markdown",
   "metadata": {},
   "source": [
    "## Competition"
   ]
  },
  {
   "cell_type": "code",
   "execution_count": 32,
   "metadata": {},
   "outputs": [
    {
     "name": "stdout",
     "output_type": "stream",
     "text": [
      "['305', '306', '307', '308', '309']\n",
      "{'V-i-r-g-i-n-i-a': '271-04-07', 'o-r-d-e-r': '271-17-07', 'w-i-l-l': '272-21-01', 'D-e-c-e-m-b-e-r': '300-02-06', 'y-o-u': '271-08-05', 'w-h-i-c-h': '271-24-03', 't-h-e-m': '273-26-02', 'h-a-v-e': '273-35-10', 'f-o-r': '274-11-04', 'R-e-c-r-u-i-t-s': '276-21-03'}\n"
     ]
    }
   ],
   "source": [
    "with open('compet/task/test.txt','r') as h:\n",
    "    test_docs = [line.strip()for line in h]\n",
    "\n",
    "print(test_docs)\n",
    "\n",
    "with open('compet/task/keywords.txt','r') as h:\n",
    "    keywords = {line.split(',')[0] : line.split(',')[-1][:-1]for line in h}\n",
    "\n",
    "print(keywords)\n",
    "\n",
    "#Slicer(images=(\"./compet/images\", \".jpg\"), frames=(\"./compet/ground-truth\", \".svg\")).get_frames(save=True, savepath=\"./data/output/\")"
   ]
  },
  {
   "cell_type": "code",
   "execution_count": 34,
   "metadata": {},
   "outputs": [
    {
     "ename": "FileNotFoundError",
     "evalue": "[Errno 2] No such file or directory: 'data/output/305/270-01-01.png'",
     "output_type": "error",
     "traceback": [
      "\u001b[1;31m---------------------------------------------------------------------------\u001b[0m",
      "\u001b[1;31mFileNotFoundError\u001b[0m                         Traceback (most recent call last)",
      "\u001b[1;32m<ipython-input-34-6c1cb1a32a43>\u001b[0m in \u001b[0;36m<module>\u001b[1;34m\u001b[0m\n\u001b[0;32m      5\u001b[0m         \u001b[1;32mfor\u001b[0m \u001b[0mdoc\u001b[0m \u001b[1;32min\u001b[0m \u001b[0mtest_docs\u001b[0m\u001b[1;33m:\u001b[0m\u001b[1;33m\u001b[0m\u001b[1;33m\u001b[0m\u001b[0m\n\u001b[0;32m      6\u001b[0m             \u001b[0mimage\u001b[0m\u001b[1;33m,\u001b[0m \u001b[0mword\u001b[0m \u001b[1;33m=\u001b[0m \u001b[0mline\u001b[0m\u001b[1;33m.\u001b[0m\u001b[0msplit\u001b[0m\u001b[1;33m(\u001b[0m\u001b[1;33m)\u001b[0m\u001b[1;33m\u001b[0m\u001b[1;33m\u001b[0m\u001b[0m\n\u001b[1;32m----> 7\u001b[1;33m             \u001b[0mimage\u001b[0m \u001b[1;33m=\u001b[0m \u001b[0mnp\u001b[0m\u001b[1;33m.\u001b[0m\u001b[0marray\u001b[0m\u001b[1;33m(\u001b[0m\u001b[0mImage\u001b[0m\u001b[1;33m.\u001b[0m\u001b[0mopen\u001b[0m\u001b[1;33m(\u001b[0m\u001b[1;34m\"data/output/\"\u001b[0m \u001b[1;33m+\u001b[0m \u001b[0mdoc\u001b[0m \u001b[1;33m+\u001b[0m \u001b[1;34m\"/\"\u001b[0m \u001b[1;33m+\u001b[0m \u001b[0mimage\u001b[0m \u001b[1;33m+\u001b[0m \u001b[1;34m\".png\"\u001b[0m\u001b[1;33m)\u001b[0m\u001b[1;33m,\u001b[0m\u001b[0mdtype\u001b[0m\u001b[1;33m=\u001b[0m\u001b[0mfloat\u001b[0m\u001b[1;33m)\u001b[0m\u001b[1;33m\u001b[0m\u001b[1;33m\u001b[0m\u001b[0m\n\u001b[0m\u001b[0;32m      8\u001b[0m             \u001b[1;32mif\u001b[0m \u001b[1;32mnot\u001b[0m \u001b[0mword\u001b[0m \u001b[1;32min\u001b[0m \u001b[0mwords\u001b[0m\u001b[1;33m:\u001b[0m\u001b[1;33m\u001b[0m\u001b[1;33m\u001b[0m\u001b[0m\n\u001b[0;32m      9\u001b[0m                 \u001b[0mwords\u001b[0m\u001b[1;33m[\u001b[0m\u001b[0mword\u001b[0m\u001b[1;33m]\u001b[0m \u001b[1;33m=\u001b[0m \u001b[1;33m[\u001b[0m\u001b[1;33m]\u001b[0m\u001b[1;33m\u001b[0m\u001b[1;33m\u001b[0m\u001b[0m\n",
      "\u001b[1;32mc:\\Users\\antoi\\AppData\\Local\\Programs\\Python\\Python39\\lib\\site-packages\\PIL\\Image.py\u001b[0m in \u001b[0;36mopen\u001b[1;34m(fp, mode, formats)\u001b[0m\n\u001b[0;32m   3066\u001b[0m \u001b[1;33m\u001b[0m\u001b[0m\n\u001b[0;32m   3067\u001b[0m     \u001b[1;32mif\u001b[0m \u001b[0mfilename\u001b[0m\u001b[1;33m:\u001b[0m\u001b[1;33m\u001b[0m\u001b[1;33m\u001b[0m\u001b[0m\n\u001b[1;32m-> 3068\u001b[1;33m         \u001b[0mfp\u001b[0m \u001b[1;33m=\u001b[0m \u001b[0mbuiltins\u001b[0m\u001b[1;33m.\u001b[0m\u001b[0mopen\u001b[0m\u001b[1;33m(\u001b[0m\u001b[0mfilename\u001b[0m\u001b[1;33m,\u001b[0m \u001b[1;34m\"rb\"\u001b[0m\u001b[1;33m)\u001b[0m\u001b[1;33m\u001b[0m\u001b[1;33m\u001b[0m\u001b[0m\n\u001b[0m\u001b[0;32m   3069\u001b[0m         \u001b[0mexclusive_fp\u001b[0m \u001b[1;33m=\u001b[0m \u001b[1;32mTrue\u001b[0m\u001b[1;33m\u001b[0m\u001b[1;33m\u001b[0m\u001b[0m\n\u001b[0;32m   3070\u001b[0m \u001b[1;33m\u001b[0m\u001b[0m\n",
      "\u001b[1;31mFileNotFoundError\u001b[0m: [Errno 2] No such file or directory: 'data/output/305/270-01-01.png'"
     ]
    }
   ],
   "source": [
    "words = {} \n",
    "\n",
    "with open(\"data/ground-truth/transcription.txt\", \"r\") as h:\n",
    "    for line in h: \n",
    "        for doc in test_docs: \n",
    "            image, word = line.split()\n",
    "            image = np.array(Image.open(\"data/output/\" + doc + \"/\" + image + \".png\"),dtype=float) \n",
    "            if not word in words:\n",
    "                words[word] = []\n",
    "            words[word] = words[word] + [image]\n",
    "print(words)"
   ]
  },
  {
   "cell_type": "code",
   "execution_count": 35,
   "metadata": {},
   "outputs": [
    {
     "name": "stdout",
     "output_type": "stream",
     "text": [
      "10\n"
     ]
    }
   ],
   "source": [
    "test_images = [np.array(Image.open(\"data/output/\" + x.split('-')[0] + \"/\" +  x + \".png\"),dtype=float)  for x in keywords.values()]\n",
    "train_labels = []\n",
    "train_images = []\n",
    "with open(\"data/ground-truth/transcription.txt\", \"r\") as h:\n",
    "    for line in h: \n",
    "        for doc in test_docs: \n",
    "            if not line.startswith(doc):\n",
    "                continue\n",
    "            image, word = line.split()\n",
    "            if word in keywords.keys():\n",
    "                image = np.array(Image.open(\"data/output/\" + doc + \"/\" + image + \".png\"),dtype=float) \n",
    "                train_images.append(image)\n",
    "                train_labels.append(word)\n"
   ]
  },
  {
   "cell_type": "code",
   "execution_count": 24,
   "metadata": {},
   "outputs": [
    {
     "name": "stdout",
     "output_type": "stream",
     "text": [
      "0/10\n"
     ]
    },
    {
     "ename": "KeyboardInterrupt",
     "evalue": "",
     "output_type": "error",
     "traceback": [
      "\u001b[1;31m---------------------------------------------------------------------------\u001b[0m",
      "\u001b[1;31mKeyboardInterrupt\u001b[0m                         Traceback (most recent call last)",
      "\u001b[1;32m<ipython-input-24-99b7c50dfd1e>\u001b[0m in \u001b[0;36m<module>\u001b[1;34m\u001b[0m\n\u001b[1;32m----> 1\u001b[1;33m \u001b[0mvalidate\u001b[0m\u001b[1;33m(\u001b[0m\u001b[0mtrainImages\u001b[0m\u001b[1;33m,\u001b[0m \u001b[0mtest_images\u001b[0m\u001b[1;33m,\u001b[0m \u001b[0mtrainLabels\u001b[0m\u001b[1;33m,\u001b[0m \u001b[0mkeywords\u001b[0m\u001b[1;33m.\u001b[0m\u001b[0mkeys\u001b[0m\u001b[1;33m(\u001b[0m\u001b[1;33m)\u001b[0m\u001b[1;33m,\u001b[0m \u001b[0mdtw_values\u001b[0m\u001b[1;33m)\u001b[0m\u001b[1;33m\u001b[0m\u001b[1;33m\u001b[0m\u001b[0m\n\u001b[0m",
      "\u001b[1;32m<ipython-input-5-d37d4b00dc98>\u001b[0m in \u001b[0;36mvalidate\u001b[1;34m(trained, valid, trainedLabels, validLabels, threshold)\u001b[0m\n\u001b[0;32m     13\u001b[0m         \u001b[0mfalse_positive\u001b[0m \u001b[1;33m=\u001b[0m \u001b[1;36m0\u001b[0m\u001b[1;33m\u001b[0m\u001b[1;33m\u001b[0m\u001b[0m\n\u001b[0;32m     14\u001b[0m \u001b[1;33m\u001b[0m\u001b[0m\n\u001b[1;32m---> 15\u001b[1;33m         \u001b[0mresults\u001b[0m \u001b[1;33m=\u001b[0m \u001b[1;33m[\u001b[0m\u001b[1;33m(\u001b[0m\u001b[0mcompute_dtw\u001b[0m\u001b[1;33m(\u001b[0m\u001b[0mvalid\u001b[0m\u001b[1;33m[\u001b[0m\u001b[0mi\u001b[0m\u001b[1;33m]\u001b[0m\u001b[1;33m,\u001b[0m \u001b[0mtrained\u001b[0m\u001b[1;33m[\u001b[0m\u001b[0mj\u001b[0m\u001b[1;33m]\u001b[0m\u001b[1;33m)\u001b[0m\u001b[1;33m,\u001b[0m \u001b[0mtrainedLabels\u001b[0m\u001b[1;33m[\u001b[0m\u001b[0mj\u001b[0m\u001b[1;33m]\u001b[0m\u001b[1;33m)\u001b[0m \u001b[1;32mfor\u001b[0m \u001b[0mj\u001b[0m \u001b[1;32min\u001b[0m \u001b[0mrange\u001b[0m\u001b[1;33m(\u001b[0m\u001b[0mlen\u001b[0m\u001b[1;33m(\u001b[0m\u001b[0mtrained\u001b[0m\u001b[1;33m)\u001b[0m\u001b[1;33m)\u001b[0m\u001b[1;33m]\u001b[0m\u001b[1;33m\u001b[0m\u001b[1;33m\u001b[0m\u001b[0m\n\u001b[0m\u001b[0;32m     16\u001b[0m         \u001b[0mresults\u001b[0m \u001b[1;33m=\u001b[0m \u001b[0msorted\u001b[0m\u001b[1;33m(\u001b[0m\u001b[0mresults\u001b[0m\u001b[1;33m)\u001b[0m\u001b[1;33m\u001b[0m\u001b[1;33m\u001b[0m\u001b[0m\n\u001b[0;32m     17\u001b[0m         \u001b[0mprint\u001b[0m\u001b[1;33m(\u001b[0m\u001b[0mvalidLabels\u001b[0m\u001b[1;33m[\u001b[0m\u001b[0mi\u001b[0m\u001b[1;33m]\u001b[0m\u001b[1;33m)\u001b[0m\u001b[1;33m\u001b[0m\u001b[1;33m\u001b[0m\u001b[0m\n",
      "\u001b[1;32m<ipython-input-5-d37d4b00dc98>\u001b[0m in \u001b[0;36m<listcomp>\u001b[1;34m(.0)\u001b[0m\n\u001b[0;32m     13\u001b[0m         \u001b[0mfalse_positive\u001b[0m \u001b[1;33m=\u001b[0m \u001b[1;36m0\u001b[0m\u001b[1;33m\u001b[0m\u001b[1;33m\u001b[0m\u001b[0m\n\u001b[0;32m     14\u001b[0m \u001b[1;33m\u001b[0m\u001b[0m\n\u001b[1;32m---> 15\u001b[1;33m         \u001b[0mresults\u001b[0m \u001b[1;33m=\u001b[0m \u001b[1;33m[\u001b[0m\u001b[1;33m(\u001b[0m\u001b[0mcompute_dtw\u001b[0m\u001b[1;33m(\u001b[0m\u001b[0mvalid\u001b[0m\u001b[1;33m[\u001b[0m\u001b[0mi\u001b[0m\u001b[1;33m]\u001b[0m\u001b[1;33m,\u001b[0m \u001b[0mtrained\u001b[0m\u001b[1;33m[\u001b[0m\u001b[0mj\u001b[0m\u001b[1;33m]\u001b[0m\u001b[1;33m)\u001b[0m\u001b[1;33m,\u001b[0m \u001b[0mtrainedLabels\u001b[0m\u001b[1;33m[\u001b[0m\u001b[0mj\u001b[0m\u001b[1;33m]\u001b[0m\u001b[1;33m)\u001b[0m \u001b[1;32mfor\u001b[0m \u001b[0mj\u001b[0m \u001b[1;32min\u001b[0m \u001b[0mrange\u001b[0m\u001b[1;33m(\u001b[0m\u001b[0mlen\u001b[0m\u001b[1;33m(\u001b[0m\u001b[0mtrained\u001b[0m\u001b[1;33m)\u001b[0m\u001b[1;33m)\u001b[0m\u001b[1;33m]\u001b[0m\u001b[1;33m\u001b[0m\u001b[1;33m\u001b[0m\u001b[0m\n\u001b[0m\u001b[0;32m     16\u001b[0m         \u001b[0mresults\u001b[0m \u001b[1;33m=\u001b[0m \u001b[0msorted\u001b[0m\u001b[1;33m(\u001b[0m\u001b[0mresults\u001b[0m\u001b[1;33m)\u001b[0m\u001b[1;33m\u001b[0m\u001b[1;33m\u001b[0m\u001b[0m\n\u001b[0;32m     17\u001b[0m         \u001b[0mprint\u001b[0m\u001b[1;33m(\u001b[0m\u001b[0mvalidLabels\u001b[0m\u001b[1;33m[\u001b[0m\u001b[0mi\u001b[0m\u001b[1;33m]\u001b[0m\u001b[1;33m)\u001b[0m\u001b[1;33m\u001b[0m\u001b[1;33m\u001b[0m\u001b[0m\n",
      "\u001b[1;32mc:\\Users\\antoi\\OneDrive\\Documents\\Uni\\1e - SP22\\PatternRecognition\\Exercices\\tensorboys\\03_KWS_DTW\\helper.py\u001b[0m in \u001b[0;36mcompute_dtw\u001b[1;34m(image1, image2, windows_size, normalize)\u001b[0m\n\u001b[0;32m    150\u001b[0m \u001b[1;33m\u001b[0m\u001b[0m\n\u001b[0;32m    151\u001b[0m     \u001b[0mfeature_vector_1\u001b[0m \u001b[1;33m=\u001b[0m \u001b[0mcompute_features_vector\u001b[0m\u001b[1;33m(\u001b[0m\u001b[0mimage1\u001b[0m\u001b[1;33m,\u001b[0m \u001b[0mnormalize\u001b[0m\u001b[1;33m)\u001b[0m\u001b[1;33m\u001b[0m\u001b[1;33m\u001b[0m\u001b[0m\n\u001b[1;32m--> 152\u001b[1;33m     \u001b[0mfeature_vector_2\u001b[0m \u001b[1;33m=\u001b[0m \u001b[0mcompute_features_vector\u001b[0m\u001b[1;33m(\u001b[0m\u001b[0mimage2\u001b[0m\u001b[1;33m,\u001b[0m \u001b[0mnormalize\u001b[0m\u001b[1;33m)\u001b[0m\u001b[1;33m\u001b[0m\u001b[1;33m\u001b[0m\u001b[0m\n\u001b[0m\u001b[0;32m    153\u001b[0m \u001b[1;33m\u001b[0m\u001b[0m\n\u001b[0;32m    154\u001b[0m     \u001b[0mdist_matrix\u001b[0m \u001b[1;33m=\u001b[0m \u001b[0mcdist\u001b[0m\u001b[1;33m(\u001b[0m\u001b[0mfeature_vector_1\u001b[0m\u001b[1;33m,\u001b[0m \u001b[0mfeature_vector_2\u001b[0m\u001b[1;33m)\u001b[0m\u001b[1;33m\u001b[0m\u001b[1;33m\u001b[0m\u001b[0m\n",
      "\u001b[1;32mc:\\Users\\antoi\\OneDrive\\Documents\\Uni\\1e - SP22\\PatternRecognition\\Exercices\\tensorboys\\03_KWS_DTW\\helper.py\u001b[0m in \u001b[0;36mcompute_features_vector\u001b[1;34m(image, normalize)\u001b[0m\n\u001b[0;32m    136\u001b[0m     \u001b[1;32mfor\u001b[0m \u001b[0mi\u001b[0m \u001b[1;32min\u001b[0m \u001b[0mrange\u001b[0m\u001b[1;33m(\u001b[0m\u001b[0mimage\u001b[0m\u001b[1;33m.\u001b[0m\u001b[0mshape\u001b[0m\u001b[1;33m[\u001b[0m\u001b[1;36m1\u001b[0m\u001b[1;33m]\u001b[0m\u001b[1;33m)\u001b[0m\u001b[1;33m:\u001b[0m\u001b[1;33m\u001b[0m\u001b[1;33m\u001b[0m\u001b[0m\n\u001b[0;32m    137\u001b[0m         feature_vector = [lower_contour(image[:, i]), upper_contour(image[:, i]), fraction_black(\n\u001b[1;32m--> 138\u001b[1;33m             image[:, i]), fraction_black_between(image[:, i]), transition_black_white(image[:, i])]\n\u001b[0m\u001b[0;32m    139\u001b[0m         \u001b[0mrep\u001b[0m\u001b[1;33m.\u001b[0m\u001b[0mappend\u001b[0m\u001b[1;33m(\u001b[0m\u001b[0mfeature_vector\u001b[0m\u001b[1;33m)\u001b[0m\u001b[1;33m\u001b[0m\u001b[1;33m\u001b[0m\u001b[0m\n\u001b[0;32m    140\u001b[0m \u001b[1;33m\u001b[0m\u001b[0m\n",
      "\u001b[1;32mc:\\Users\\antoi\\OneDrive\\Documents\\Uni\\1e - SP22\\PatternRecognition\\Exercices\\tensorboys\\03_KWS_DTW\\helper.py\u001b[0m in \u001b[0;36mfraction_black_between\u001b[1;34m(slice)\u001b[0m\n\u001b[0;32m    108\u001b[0m \u001b[1;33m\u001b[0m\u001b[0m\n\u001b[0;32m    109\u001b[0m         \u001b[0mindex_min\u001b[0m \u001b[1;33m=\u001b[0m \u001b[0mnp\u001b[0m\u001b[1;33m.\u001b[0m\u001b[0mmin\u001b[0m\u001b[1;33m(\u001b[0m\u001b[0mnp\u001b[0m\u001b[1;33m.\u001b[0m\u001b[0mwhere\u001b[0m\u001b[1;33m(\u001b[0m\u001b[0mslice\u001b[0m \u001b[1;33m<=\u001b[0m \u001b[1;36m0.5\u001b[0m\u001b[1;33m)\u001b[0m\u001b[1;33m)\u001b[0m\u001b[1;33m\u001b[0m\u001b[1;33m\u001b[0m\u001b[0m\n\u001b[1;32m--> 110\u001b[1;33m         \u001b[0mindex_max\u001b[0m \u001b[1;33m=\u001b[0m \u001b[0mnp\u001b[0m\u001b[1;33m.\u001b[0m\u001b[0mmax\u001b[0m\u001b[1;33m(\u001b[0m\u001b[0mnp\u001b[0m\u001b[1;33m.\u001b[0m\u001b[0mwhere\u001b[0m\u001b[1;33m(\u001b[0m\u001b[0mslice\u001b[0m \u001b[1;33m<=\u001b[0m \u001b[1;36m0.5\u001b[0m\u001b[1;33m)\u001b[0m\u001b[1;33m)\u001b[0m\u001b[1;33m\u001b[0m\u001b[1;33m\u001b[0m\u001b[0m\n\u001b[0m\u001b[0;32m    111\u001b[0m \u001b[1;33m\u001b[0m\u001b[0m\n\u001b[0;32m    112\u001b[0m         \u001b[1;32mreturn\u001b[0m \u001b[0mfraction_black\u001b[0m\u001b[1;33m(\u001b[0m\u001b[0mslice\u001b[0m\u001b[1;33m[\u001b[0m\u001b[0mindex_min\u001b[0m\u001b[1;33m:\u001b[0m\u001b[0mindex_max\u001b[0m\u001b[1;33m+\u001b[0m\u001b[1;36m1\u001b[0m\u001b[1;33m]\u001b[0m\u001b[1;33m)\u001b[0m\u001b[1;33m\u001b[0m\u001b[1;33m\u001b[0m\u001b[0m\n",
      "\u001b[1;32m<__array_function__ internals>\u001b[0m in \u001b[0;36mamax\u001b[1;34m(*args, **kwargs)\u001b[0m\n",
      "\u001b[1;32mc:\\Users\\antoi\\AppData\\Local\\Programs\\Python\\Python39\\lib\\site-packages\\numpy\\core\\fromnumeric.py\u001b[0m in \u001b[0;36mamax\u001b[1;34m(a, axis, out, keepdims, initial, where)\u001b[0m\n\u001b[0;32m   2731\u001b[0m     \u001b[1;36m5\u001b[0m\u001b[1;33m\u001b[0m\u001b[1;33m\u001b[0m\u001b[0m\n\u001b[0;32m   2732\u001b[0m     \"\"\"\n\u001b[1;32m-> 2733\u001b[1;33m     return _wrapreduction(a, np.maximum, 'max', axis, None, out,\n\u001b[0m\u001b[0;32m   2734\u001b[0m                           keepdims=keepdims, initial=initial, where=where)\n\u001b[0;32m   2735\u001b[0m \u001b[1;33m\u001b[0m\u001b[0m\n",
      "\u001b[1;32mc:\\Users\\antoi\\AppData\\Local\\Programs\\Python\\Python39\\lib\\site-packages\\numpy\\core\\fromnumeric.py\u001b[0m in \u001b[0;36m_wrapreduction\u001b[1;34m(obj, ufunc, method, axis, dtype, out, **kwargs)\u001b[0m\n\u001b[0;32m     85\u001b[0m                 \u001b[1;32mreturn\u001b[0m \u001b[0mreduction\u001b[0m\u001b[1;33m(\u001b[0m\u001b[0maxis\u001b[0m\u001b[1;33m=\u001b[0m\u001b[0maxis\u001b[0m\u001b[1;33m,\u001b[0m \u001b[0mout\u001b[0m\u001b[1;33m=\u001b[0m\u001b[0mout\u001b[0m\u001b[1;33m,\u001b[0m \u001b[1;33m**\u001b[0m\u001b[0mpasskwargs\u001b[0m\u001b[1;33m)\u001b[0m\u001b[1;33m\u001b[0m\u001b[1;33m\u001b[0m\u001b[0m\n\u001b[0;32m     86\u001b[0m \u001b[1;33m\u001b[0m\u001b[0m\n\u001b[1;32m---> 87\u001b[1;33m     \u001b[1;32mreturn\u001b[0m \u001b[0mufunc\u001b[0m\u001b[1;33m.\u001b[0m\u001b[0mreduce\u001b[0m\u001b[1;33m(\u001b[0m\u001b[0mobj\u001b[0m\u001b[1;33m,\u001b[0m \u001b[0maxis\u001b[0m\u001b[1;33m,\u001b[0m \u001b[0mdtype\u001b[0m\u001b[1;33m,\u001b[0m \u001b[0mout\u001b[0m\u001b[1;33m,\u001b[0m \u001b[1;33m**\u001b[0m\u001b[0mpasskwargs\u001b[0m\u001b[1;33m)\u001b[0m\u001b[1;33m\u001b[0m\u001b[1;33m\u001b[0m\u001b[0m\n\u001b[0m\u001b[0;32m     88\u001b[0m \u001b[1;33m\u001b[0m\u001b[0m\n\u001b[0;32m     89\u001b[0m \u001b[1;33m\u001b[0m\u001b[0m\n",
      "\u001b[1;31mKeyboardInterrupt\u001b[0m: "
     ]
    }
   ],
   "source": [
    "\n",
    "validate(trainImages, test_images, train_labels, keywords.keys(), dtw_values)"
   ]
  },
  {
   "cell_type": "code",
   "execution_count": null,
   "metadata": {},
   "outputs": [],
   "source": []
  }
 ],
 "metadata": {
  "interpreter": {
   "hash": "628b2da58f8e86f73a45f837b51b4cf84d420caac018c4a1f961f9cfce82deef"
  },
  "kernelspec": {
   "display_name": "Python 3.9.5 64-bit",
   "language": "python",
   "name": "python3"
  },
  "language_info": {
   "codemirror_mode": {
    "name": "ipython",
    "version": 3
   },
   "file_extension": ".py",
   "mimetype": "text/x-python",
   "name": "python",
   "nbconvert_exporter": "python",
   "pygments_lexer": "ipython3",
   "version": "3.9.5"
  }
 },
 "nbformat": 4,
 "nbformat_minor": 2
}
