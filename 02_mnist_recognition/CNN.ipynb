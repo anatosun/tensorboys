{
  "cells": [
    {
      "cell_type": "code",
      "execution_count": 5,
      "id": "9ae4083e",
      "metadata": {
        "id": "9ae4083e"
      },
      "outputs": [],
      "source": [
        "import pandas as pd\n",
        "import numpy as np\n",
        "import seaborn as sns\n",
        "import matplotlib.pyplot as plt\n",
        "import tensorflow as tf\n",
        "\n",
        "from tensorflow.keras.models import Sequential\n",
        "from tensorflow.keras.layers import Conv2D,MaxPooling2D,Flatten,Dense,Dropout\n",
        "from tensorflow.keras.utils import to_categorical\n",
        "from tensorflow.keras.optimizers import Adam\n",
        "\n",
        "\n",
        "#from sklearn.model_selection import train_test_split\n",
        "#from tensorflow.python.client import device_lib"
      ]
    },
    {
      "cell_type": "code",
      "execution_count": 6,
      "id": "e534c088",
      "metadata": {
        "colab": {
          "base_uri": "https://localhost:8080/"
        },
        "id": "e534c088",
        "outputId": "089c5e52-6c44-4f5e-eb7e-eb17f0efb694"
      },
      "outputs": [
        {
          "name": "stdout",
          "output_type": "stream",
          "text": [
            "CUDA available:  False\n",
            "GPU available:  [PhysicalDevice(name='/physical_device:CPU:0', device_type='CPU')]\n"
          ]
        }
      ],
      "source": [
        "print(\"CUDA available: \",tf.test.is_built_with_cuda() )\n",
        "print(\"GPU available: \",tf.config.list_physical_devices() )"
      ]
    },
    {
      "cell_type": "code",
      "execution_count": 7,
      "id": "1b6abc44",
      "metadata": {
        "colab": {
          "base_uri": "https://localhost:8080/",
          "height": 236
        },
        "id": "1b6abc44",
        "outputId": "5f1fe15a-3f07-40c4-b984-46a8c7602df2"
      },
      "outputs": [
        {
          "data": {
            "text/html": [
              "<div>\n",
              "<style scoped>\n",
              "    .dataframe tbody tr th:only-of-type {\n",
              "        vertical-align: middle;\n",
              "    }\n",
              "\n",
              "    .dataframe tbody tr th {\n",
              "        vertical-align: top;\n",
              "    }\n",
              "\n",
              "    .dataframe thead th {\n",
              "        text-align: right;\n",
              "    }\n",
              "</style>\n",
              "<table border=\"1\" class=\"dataframe\">\n",
              "  <thead>\n",
              "    <tr style=\"text-align: right;\">\n",
              "      <th></th>\n",
              "      <th>label</th>\n",
              "      <th>1</th>\n",
              "      <th>2</th>\n",
              "      <th>3</th>\n",
              "      <th>4</th>\n",
              "      <th>5</th>\n",
              "      <th>6</th>\n",
              "      <th>7</th>\n",
              "      <th>8</th>\n",
              "      <th>9</th>\n",
              "      <th>...</th>\n",
              "      <th>775</th>\n",
              "      <th>776</th>\n",
              "      <th>777</th>\n",
              "      <th>778</th>\n",
              "      <th>779</th>\n",
              "      <th>780</th>\n",
              "      <th>781</th>\n",
              "      <th>782</th>\n",
              "      <th>783</th>\n",
              "      <th>784</th>\n",
              "    </tr>\n",
              "  </thead>\n",
              "  <tbody>\n",
              "    <tr>\n",
              "      <th>0</th>\n",
              "      <td>5</td>\n",
              "      <td>0</td>\n",
              "      <td>0</td>\n",
              "      <td>0</td>\n",
              "      <td>0</td>\n",
              "      <td>0</td>\n",
              "      <td>0</td>\n",
              "      <td>0</td>\n",
              "      <td>0</td>\n",
              "      <td>0</td>\n",
              "      <td>...</td>\n",
              "      <td>0</td>\n",
              "      <td>0</td>\n",
              "      <td>0</td>\n",
              "      <td>0</td>\n",
              "      <td>0</td>\n",
              "      <td>0</td>\n",
              "      <td>0</td>\n",
              "      <td>0</td>\n",
              "      <td>0</td>\n",
              "      <td>0</td>\n",
              "    </tr>\n",
              "    <tr>\n",
              "      <th>1</th>\n",
              "      <td>0</td>\n",
              "      <td>0</td>\n",
              "      <td>0</td>\n",
              "      <td>0</td>\n",
              "      <td>0</td>\n",
              "      <td>0</td>\n",
              "      <td>0</td>\n",
              "      <td>0</td>\n",
              "      <td>0</td>\n",
              "      <td>0</td>\n",
              "      <td>...</td>\n",
              "      <td>0</td>\n",
              "      <td>0</td>\n",
              "      <td>0</td>\n",
              "      <td>0</td>\n",
              "      <td>0</td>\n",
              "      <td>0</td>\n",
              "      <td>0</td>\n",
              "      <td>0</td>\n",
              "      <td>0</td>\n",
              "      <td>0</td>\n",
              "    </tr>\n",
              "    <tr>\n",
              "      <th>2</th>\n",
              "      <td>4</td>\n",
              "      <td>0</td>\n",
              "      <td>0</td>\n",
              "      <td>0</td>\n",
              "      <td>0</td>\n",
              "      <td>0</td>\n",
              "      <td>0</td>\n",
              "      <td>0</td>\n",
              "      <td>0</td>\n",
              "      <td>0</td>\n",
              "      <td>...</td>\n",
              "      <td>0</td>\n",
              "      <td>0</td>\n",
              "      <td>0</td>\n",
              "      <td>0</td>\n",
              "      <td>0</td>\n",
              "      <td>0</td>\n",
              "      <td>0</td>\n",
              "      <td>0</td>\n",
              "      <td>0</td>\n",
              "      <td>0</td>\n",
              "    </tr>\n",
              "    <tr>\n",
              "      <th>3</th>\n",
              "      <td>1</td>\n",
              "      <td>0</td>\n",
              "      <td>0</td>\n",
              "      <td>0</td>\n",
              "      <td>0</td>\n",
              "      <td>0</td>\n",
              "      <td>0</td>\n",
              "      <td>0</td>\n",
              "      <td>0</td>\n",
              "      <td>0</td>\n",
              "      <td>...</td>\n",
              "      <td>0</td>\n",
              "      <td>0</td>\n",
              "      <td>0</td>\n",
              "      <td>0</td>\n",
              "      <td>0</td>\n",
              "      <td>0</td>\n",
              "      <td>0</td>\n",
              "      <td>0</td>\n",
              "      <td>0</td>\n",
              "      <td>0</td>\n",
              "    </tr>\n",
              "    <tr>\n",
              "      <th>4</th>\n",
              "      <td>9</td>\n",
              "      <td>0</td>\n",
              "      <td>0</td>\n",
              "      <td>0</td>\n",
              "      <td>0</td>\n",
              "      <td>0</td>\n",
              "      <td>0</td>\n",
              "      <td>0</td>\n",
              "      <td>0</td>\n",
              "      <td>0</td>\n",
              "      <td>...</td>\n",
              "      <td>0</td>\n",
              "      <td>0</td>\n",
              "      <td>0</td>\n",
              "      <td>0</td>\n",
              "      <td>0</td>\n",
              "      <td>0</td>\n",
              "      <td>0</td>\n",
              "      <td>0</td>\n",
              "      <td>0</td>\n",
              "      <td>0</td>\n",
              "    </tr>\n",
              "  </tbody>\n",
              "</table>\n",
              "<p>5 rows × 785 columns</p>\n",
              "</div>"
            ],
            "text/plain": [
              "   label  1  2  3  4  5  6  7  8  9  ...  775  776  777  778  779  780  781  \\\n",
              "0      5  0  0  0  0  0  0  0  0  0  ...    0    0    0    0    0    0    0   \n",
              "1      0  0  0  0  0  0  0  0  0  0  ...    0    0    0    0    0    0    0   \n",
              "2      4  0  0  0  0  0  0  0  0  0  ...    0    0    0    0    0    0    0   \n",
              "3      1  0  0  0  0  0  0  0  0  0  ...    0    0    0    0    0    0    0   \n",
              "4      9  0  0  0  0  0  0  0  0  0  ...    0    0    0    0    0    0    0   \n",
              "\n",
              "   782  783  784  \n",
              "0    0    0    0  \n",
              "1    0    0    0  \n",
              "2    0    0    0  \n",
              "3    0    0    0  \n",
              "4    0    0    0  \n",
              "\n",
              "[5 rows x 785 columns]"
            ]
          },
          "execution_count": 7,
          "metadata": {},
          "output_type": "execute_result"
        }
      ],
      "source": [
        "train = pd.read_csv('./datasets/mnist_train.csv',header=None)\n",
        "test = pd.read_csv('./datasets/mnist_test.csv',header=None)\n",
        "\n",
        "train.rename({0:\"label\"},axis=1,inplace=True)\n",
        "test.rename({0:\"label\"},axis=1,inplace=True)\n",
        "\n",
        "normalized_train = ((train-train.min())/(train.max()-train.min())).fillna(0)\n",
        "normalized_test = ((test-test.min())/(test.max()-test.min())).fillna(0)\n",
        "\n",
        "x_train = normalized_train.iloc[:,1:].copy()\n",
        "x_test = normalized_test.iloc[:,1:].copy()\n",
        "\n",
        "y_train = train.loc[:,\"label\"]\n",
        "y_test = test.loc[:,\"label\"]\n",
        "\n",
        "train.head()"
      ]
    },
    {
      "cell_type": "code",
      "execution_count": 8,
      "id": "8b2ad88c",
      "metadata": {},
      "outputs": [
        {
          "data": {
            "text/html": [
              "<div>\n",
              "<style scoped>\n",
              "    .dataframe tbody tr th:only-of-type {\n",
              "        vertical-align: middle;\n",
              "    }\n",
              "\n",
              "    .dataframe tbody tr th {\n",
              "        vertical-align: top;\n",
              "    }\n",
              "\n",
              "    .dataframe thead th {\n",
              "        text-align: right;\n",
              "    }\n",
              "</style>\n",
              "<table border=\"1\" class=\"dataframe\">\n",
              "  <thead>\n",
              "    <tr style=\"text-align: right;\">\n",
              "      <th></th>\n",
              "      <th>0</th>\n",
              "      <th>1</th>\n",
              "      <th>2</th>\n",
              "      <th>3</th>\n",
              "      <th>4</th>\n",
              "      <th>5</th>\n",
              "      <th>6</th>\n",
              "      <th>7</th>\n",
              "      <th>8</th>\n",
              "      <th>9</th>\n",
              "      <th>...</th>\n",
              "      <th>774</th>\n",
              "      <th>775</th>\n",
              "      <th>776</th>\n",
              "      <th>777</th>\n",
              "      <th>778</th>\n",
              "      <th>779</th>\n",
              "      <th>780</th>\n",
              "      <th>781</th>\n",
              "      <th>782</th>\n",
              "      <th>783</th>\n",
              "    </tr>\n",
              "  </thead>\n",
              "  <tbody>\n",
              "    <tr>\n",
              "      <th>0</th>\n",
              "      <td>0.0</td>\n",
              "      <td>0.0</td>\n",
              "      <td>0.0</td>\n",
              "      <td>0.0</td>\n",
              "      <td>0.0</td>\n",
              "      <td>0.0</td>\n",
              "      <td>0.0</td>\n",
              "      <td>0.0</td>\n",
              "      <td>0.0</td>\n",
              "      <td>0.0</td>\n",
              "      <td>...</td>\n",
              "      <td>0.0</td>\n",
              "      <td>0.0</td>\n",
              "      <td>0.0</td>\n",
              "      <td>0.0</td>\n",
              "      <td>0.0</td>\n",
              "      <td>0.0</td>\n",
              "      <td>0.0</td>\n",
              "      <td>0.0</td>\n",
              "      <td>0.0</td>\n",
              "      <td>0.0</td>\n",
              "    </tr>\n",
              "    <tr>\n",
              "      <th>1</th>\n",
              "      <td>0.0</td>\n",
              "      <td>0.0</td>\n",
              "      <td>0.0</td>\n",
              "      <td>0.0</td>\n",
              "      <td>0.0</td>\n",
              "      <td>0.0</td>\n",
              "      <td>0.0</td>\n",
              "      <td>0.0</td>\n",
              "      <td>0.0</td>\n",
              "      <td>0.0</td>\n",
              "      <td>...</td>\n",
              "      <td>0.0</td>\n",
              "      <td>0.0</td>\n",
              "      <td>0.0</td>\n",
              "      <td>0.0</td>\n",
              "      <td>0.0</td>\n",
              "      <td>0.0</td>\n",
              "      <td>0.0</td>\n",
              "      <td>0.0</td>\n",
              "      <td>0.0</td>\n",
              "      <td>0.0</td>\n",
              "    </tr>\n",
              "    <tr>\n",
              "      <th>2</th>\n",
              "      <td>0.0</td>\n",
              "      <td>0.0</td>\n",
              "      <td>0.0</td>\n",
              "      <td>0.0</td>\n",
              "      <td>0.0</td>\n",
              "      <td>0.0</td>\n",
              "      <td>0.0</td>\n",
              "      <td>0.0</td>\n",
              "      <td>0.0</td>\n",
              "      <td>0.0</td>\n",
              "      <td>...</td>\n",
              "      <td>0.0</td>\n",
              "      <td>0.0</td>\n",
              "      <td>0.0</td>\n",
              "      <td>0.0</td>\n",
              "      <td>0.0</td>\n",
              "      <td>0.0</td>\n",
              "      <td>0.0</td>\n",
              "      <td>0.0</td>\n",
              "      <td>0.0</td>\n",
              "      <td>0.0</td>\n",
              "    </tr>\n",
              "    <tr>\n",
              "      <th>3</th>\n",
              "      <td>0.0</td>\n",
              "      <td>0.0</td>\n",
              "      <td>0.0</td>\n",
              "      <td>0.0</td>\n",
              "      <td>0.0</td>\n",
              "      <td>0.0</td>\n",
              "      <td>0.0</td>\n",
              "      <td>0.0</td>\n",
              "      <td>0.0</td>\n",
              "      <td>0.0</td>\n",
              "      <td>...</td>\n",
              "      <td>0.0</td>\n",
              "      <td>0.0</td>\n",
              "      <td>0.0</td>\n",
              "      <td>0.0</td>\n",
              "      <td>0.0</td>\n",
              "      <td>0.0</td>\n",
              "      <td>0.0</td>\n",
              "      <td>0.0</td>\n",
              "      <td>0.0</td>\n",
              "      <td>0.0</td>\n",
              "    </tr>\n",
              "    <tr>\n",
              "      <th>4</th>\n",
              "      <td>0.0</td>\n",
              "      <td>0.0</td>\n",
              "      <td>0.0</td>\n",
              "      <td>0.0</td>\n",
              "      <td>0.0</td>\n",
              "      <td>0.0</td>\n",
              "      <td>0.0</td>\n",
              "      <td>0.0</td>\n",
              "      <td>0.0</td>\n",
              "      <td>0.0</td>\n",
              "      <td>...</td>\n",
              "      <td>0.0</td>\n",
              "      <td>0.0</td>\n",
              "      <td>0.0</td>\n",
              "      <td>0.0</td>\n",
              "      <td>0.0</td>\n",
              "      <td>0.0</td>\n",
              "      <td>0.0</td>\n",
              "      <td>0.0</td>\n",
              "      <td>0.0</td>\n",
              "      <td>0.0</td>\n",
              "    </tr>\n",
              "  </tbody>\n",
              "</table>\n",
              "<p>5 rows × 784 columns</p>\n",
              "</div>"
            ],
            "text/plain": [
              "   0    1    2    3    4    5    6    7    8    9    ...  774  775  776  777  \\\n",
              "0  0.0  0.0  0.0  0.0  0.0  0.0  0.0  0.0  0.0  0.0  ...  0.0  0.0  0.0  0.0   \n",
              "1  0.0  0.0  0.0  0.0  0.0  0.0  0.0  0.0  0.0  0.0  ...  0.0  0.0  0.0  0.0   \n",
              "2  0.0  0.0  0.0  0.0  0.0  0.0  0.0  0.0  0.0  0.0  ...  0.0  0.0  0.0  0.0   \n",
              "3  0.0  0.0  0.0  0.0  0.0  0.0  0.0  0.0  0.0  0.0  ...  0.0  0.0  0.0  0.0   \n",
              "4  0.0  0.0  0.0  0.0  0.0  0.0  0.0  0.0  0.0  0.0  ...  0.0  0.0  0.0  0.0   \n",
              "\n",
              "   778  779  780  781  782  783  \n",
              "0  0.0  0.0  0.0  0.0  0.0  0.0  \n",
              "1  0.0  0.0  0.0  0.0  0.0  0.0  \n",
              "2  0.0  0.0  0.0  0.0  0.0  0.0  \n",
              "3  0.0  0.0  0.0  0.0  0.0  0.0  \n",
              "4  0.0  0.0  0.0  0.0  0.0  0.0  \n",
              "\n",
              "[5 rows x 784 columns]"
            ]
          },
          "execution_count": 8,
          "metadata": {},
          "output_type": "execute_result"
        }
      ],
      "source": [
        "competition = pd.read_csv(\"./datasets/mnist_competition.csv\",header=None)\n",
        "norm_comp = ((competition-competition.min())/(competition.max()-competition.min())).fillna(0)\n",
        "norm_comp.head()"
      ]
    },
    {
      "cell_type": "code",
      "execution_count": 4,
      "id": "82e33013",
      "metadata": {
        "colab": {
          "base_uri": "https://localhost:8080/",
          "height": 236
        },
        "id": "82e33013",
        "outputId": "4f008602-c874-47f8-88a2-5a3c6c599c28"
      },
      "outputs": [
        {
          "data": {
            "text/html": [
              "\n",
              "  <div id=\"df-55c71a80-f385-47ce-b41a-8a8da34b5fd0\">\n",
              "    <div class=\"colab-df-container\">\n",
              "      <div>\n",
              "<style scoped>\n",
              "    .dataframe tbody tr th:only-of-type {\n",
              "        vertical-align: middle;\n",
              "    }\n",
              "\n",
              "    .dataframe tbody tr th {\n",
              "        vertical-align: top;\n",
              "    }\n",
              "\n",
              "    .dataframe thead th {\n",
              "        text-align: right;\n",
              "    }\n",
              "</style>\n",
              "<table border=\"1\" class=\"dataframe\">\n",
              "  <thead>\n",
              "    <tr style=\"text-align: right;\">\n",
              "      <th></th>\n",
              "      <th>1</th>\n",
              "      <th>2</th>\n",
              "      <th>3</th>\n",
              "      <th>4</th>\n",
              "      <th>5</th>\n",
              "      <th>6</th>\n",
              "      <th>7</th>\n",
              "      <th>8</th>\n",
              "      <th>9</th>\n",
              "      <th>10</th>\n",
              "      <th>...</th>\n",
              "      <th>775</th>\n",
              "      <th>776</th>\n",
              "      <th>777</th>\n",
              "      <th>778</th>\n",
              "      <th>779</th>\n",
              "      <th>780</th>\n",
              "      <th>781</th>\n",
              "      <th>782</th>\n",
              "      <th>783</th>\n",
              "      <th>784</th>\n",
              "    </tr>\n",
              "  </thead>\n",
              "  <tbody>\n",
              "    <tr>\n",
              "      <th>0</th>\n",
              "      <td>0.0</td>\n",
              "      <td>0.0</td>\n",
              "      <td>0.0</td>\n",
              "      <td>0.0</td>\n",
              "      <td>0.0</td>\n",
              "      <td>0.0</td>\n",
              "      <td>0.0</td>\n",
              "      <td>0.0</td>\n",
              "      <td>0.0</td>\n",
              "      <td>0.0</td>\n",
              "      <td>...</td>\n",
              "      <td>0.0</td>\n",
              "      <td>0.0</td>\n",
              "      <td>0.0</td>\n",
              "      <td>0.0</td>\n",
              "      <td>0.0</td>\n",
              "      <td>0.0</td>\n",
              "      <td>0.0</td>\n",
              "      <td>0.0</td>\n",
              "      <td>0.0</td>\n",
              "      <td>0.0</td>\n",
              "    </tr>\n",
              "    <tr>\n",
              "      <th>1</th>\n",
              "      <td>0.0</td>\n",
              "      <td>0.0</td>\n",
              "      <td>0.0</td>\n",
              "      <td>0.0</td>\n",
              "      <td>0.0</td>\n",
              "      <td>0.0</td>\n",
              "      <td>0.0</td>\n",
              "      <td>0.0</td>\n",
              "      <td>0.0</td>\n",
              "      <td>0.0</td>\n",
              "      <td>...</td>\n",
              "      <td>0.0</td>\n",
              "      <td>0.0</td>\n",
              "      <td>0.0</td>\n",
              "      <td>0.0</td>\n",
              "      <td>0.0</td>\n",
              "      <td>0.0</td>\n",
              "      <td>0.0</td>\n",
              "      <td>0.0</td>\n",
              "      <td>0.0</td>\n",
              "      <td>0.0</td>\n",
              "    </tr>\n",
              "    <tr>\n",
              "      <th>2</th>\n",
              "      <td>0.0</td>\n",
              "      <td>0.0</td>\n",
              "      <td>0.0</td>\n",
              "      <td>0.0</td>\n",
              "      <td>0.0</td>\n",
              "      <td>0.0</td>\n",
              "      <td>0.0</td>\n",
              "      <td>0.0</td>\n",
              "      <td>0.0</td>\n",
              "      <td>0.0</td>\n",
              "      <td>...</td>\n",
              "      <td>0.0</td>\n",
              "      <td>0.0</td>\n",
              "      <td>0.0</td>\n",
              "      <td>0.0</td>\n",
              "      <td>0.0</td>\n",
              "      <td>0.0</td>\n",
              "      <td>0.0</td>\n",
              "      <td>0.0</td>\n",
              "      <td>0.0</td>\n",
              "      <td>0.0</td>\n",
              "    </tr>\n",
              "    <tr>\n",
              "      <th>3</th>\n",
              "      <td>0.0</td>\n",
              "      <td>0.0</td>\n",
              "      <td>0.0</td>\n",
              "      <td>0.0</td>\n",
              "      <td>0.0</td>\n",
              "      <td>0.0</td>\n",
              "      <td>0.0</td>\n",
              "      <td>0.0</td>\n",
              "      <td>0.0</td>\n",
              "      <td>0.0</td>\n",
              "      <td>...</td>\n",
              "      <td>0.0</td>\n",
              "      <td>0.0</td>\n",
              "      <td>0.0</td>\n",
              "      <td>0.0</td>\n",
              "      <td>0.0</td>\n",
              "      <td>0.0</td>\n",
              "      <td>0.0</td>\n",
              "      <td>0.0</td>\n",
              "      <td>0.0</td>\n",
              "      <td>0.0</td>\n",
              "    </tr>\n",
              "    <tr>\n",
              "      <th>4</th>\n",
              "      <td>0.0</td>\n",
              "      <td>0.0</td>\n",
              "      <td>0.0</td>\n",
              "      <td>0.0</td>\n",
              "      <td>0.0</td>\n",
              "      <td>0.0</td>\n",
              "      <td>0.0</td>\n",
              "      <td>0.0</td>\n",
              "      <td>0.0</td>\n",
              "      <td>0.0</td>\n",
              "      <td>...</td>\n",
              "      <td>0.0</td>\n",
              "      <td>0.0</td>\n",
              "      <td>0.0</td>\n",
              "      <td>0.0</td>\n",
              "      <td>0.0</td>\n",
              "      <td>0.0</td>\n",
              "      <td>0.0</td>\n",
              "      <td>0.0</td>\n",
              "      <td>0.0</td>\n",
              "      <td>0.0</td>\n",
              "    </tr>\n",
              "  </tbody>\n",
              "</table>\n",
              "<p>5 rows × 784 columns</p>\n",
              "</div>\n",
              "      <button class=\"colab-df-convert\" onclick=\"convertToInteractive('df-55c71a80-f385-47ce-b41a-8a8da34b5fd0')\"\n",
              "              title=\"Convert this dataframe to an interactive table.\"\n",
              "              style=\"display:none;\">\n",
              "        \n",
              "  <svg xmlns=\"http://www.w3.org/2000/svg\" height=\"24px\"viewBox=\"0 0 24 24\"\n",
              "       width=\"24px\">\n",
              "    <path d=\"M0 0h24v24H0V0z\" fill=\"none\"/>\n",
              "    <path d=\"M18.56 5.44l.94 2.06.94-2.06 2.06-.94-2.06-.94-.94-2.06-.94 2.06-2.06.94zm-11 1L8.5 8.5l.94-2.06 2.06-.94-2.06-.94L8.5 2.5l-.94 2.06-2.06.94zm10 10l.94 2.06.94-2.06 2.06-.94-2.06-.94-.94-2.06-.94 2.06-2.06.94z\"/><path d=\"M17.41 7.96l-1.37-1.37c-.4-.4-.92-.59-1.43-.59-.52 0-1.04.2-1.43.59L10.3 9.45l-7.72 7.72c-.78.78-.78 2.05 0 2.83L4 21.41c.39.39.9.59 1.41.59.51 0 1.02-.2 1.41-.59l7.78-7.78 2.81-2.81c.8-.78.8-2.07 0-2.86zM5.41 20L4 18.59l7.72-7.72 1.47 1.35L5.41 20z\"/>\n",
              "  </svg>\n",
              "      </button>\n",
              "      \n",
              "  <style>\n",
              "    .colab-df-container {\n",
              "      display:flex;\n",
              "      flex-wrap:wrap;\n",
              "      gap: 12px;\n",
              "    }\n",
              "\n",
              "    .colab-df-convert {\n",
              "      background-color: #E8F0FE;\n",
              "      border: none;\n",
              "      border-radius: 50%;\n",
              "      cursor: pointer;\n",
              "      display: none;\n",
              "      fill: #1967D2;\n",
              "      height: 32px;\n",
              "      padding: 0 0 0 0;\n",
              "      width: 32px;\n",
              "    }\n",
              "\n",
              "    .colab-df-convert:hover {\n",
              "      background-color: #E2EBFA;\n",
              "      box-shadow: 0px 1px 2px rgba(60, 64, 67, 0.3), 0px 1px 3px 1px rgba(60, 64, 67, 0.15);\n",
              "      fill: #174EA6;\n",
              "    }\n",
              "\n",
              "    [theme=dark] .colab-df-convert {\n",
              "      background-color: #3B4455;\n",
              "      fill: #D2E3FC;\n",
              "    }\n",
              "\n",
              "    [theme=dark] .colab-df-convert:hover {\n",
              "      background-color: #434B5C;\n",
              "      box-shadow: 0px 1px 3px 1px rgba(0, 0, 0, 0.15);\n",
              "      filter: drop-shadow(0px 1px 2px rgba(0, 0, 0, 0.3));\n",
              "      fill: #FFFFFF;\n",
              "    }\n",
              "  </style>\n",
              "\n",
              "      <script>\n",
              "        const buttonEl =\n",
              "          document.querySelector('#df-55c71a80-f385-47ce-b41a-8a8da34b5fd0 button.colab-df-convert');\n",
              "        buttonEl.style.display =\n",
              "          google.colab.kernel.accessAllowed ? 'block' : 'none';\n",
              "\n",
              "        async function convertToInteractive(key) {\n",
              "          const element = document.querySelector('#df-55c71a80-f385-47ce-b41a-8a8da34b5fd0');\n",
              "          const dataTable =\n",
              "            await google.colab.kernel.invokeFunction('convertToInteractive',\n",
              "                                                     [key], {});\n",
              "          if (!dataTable) return;\n",
              "\n",
              "          const docLinkHtml = 'Like what you see? Visit the ' +\n",
              "            '<a target=\"_blank\" href=https://colab.research.google.com/notebooks/data_table.ipynb>data table notebook</a>'\n",
              "            + ' to learn more about interactive tables.';\n",
              "          element.innerHTML = '';\n",
              "          dataTable['output_type'] = 'display_data';\n",
              "          await google.colab.output.renderOutput(dataTable, element);\n",
              "          const docLink = document.createElement('div');\n",
              "          docLink.innerHTML = docLinkHtml;\n",
              "          element.appendChild(docLink);\n",
              "        }\n",
              "      </script>\n",
              "    </div>\n",
              "  </div>\n",
              "  "
            ],
            "text/plain": [
              "   1    2    3    4    5    6    7    8    9    10   ...  775  776  777  778  \\\n",
              "0  0.0  0.0  0.0  0.0  0.0  0.0  0.0  0.0  0.0  0.0  ...  0.0  0.0  0.0  0.0   \n",
              "1  0.0  0.0  0.0  0.0  0.0  0.0  0.0  0.0  0.0  0.0  ...  0.0  0.0  0.0  0.0   \n",
              "2  0.0  0.0  0.0  0.0  0.0  0.0  0.0  0.0  0.0  0.0  ...  0.0  0.0  0.0  0.0   \n",
              "3  0.0  0.0  0.0  0.0  0.0  0.0  0.0  0.0  0.0  0.0  ...  0.0  0.0  0.0  0.0   \n",
              "4  0.0  0.0  0.0  0.0  0.0  0.0  0.0  0.0  0.0  0.0  ...  0.0  0.0  0.0  0.0   \n",
              "\n",
              "   779  780  781  782  783  784  \n",
              "0  0.0  0.0  0.0  0.0  0.0  0.0  \n",
              "1  0.0  0.0  0.0  0.0  0.0  0.0  \n",
              "2  0.0  0.0  0.0  0.0  0.0  0.0  \n",
              "3  0.0  0.0  0.0  0.0  0.0  0.0  \n",
              "4  0.0  0.0  0.0  0.0  0.0  0.0  \n",
              "\n",
              "[5 rows x 784 columns]"
            ]
          },
          "execution_count": 4,
          "metadata": {},
          "output_type": "execute_result"
        }
      ],
      "source": [
        "x_train.head()"
      ]
    },
    {
      "cell_type": "code",
      "execution_count": 5,
      "id": "c0273dc4",
      "metadata": {
        "colab": {
          "base_uri": "https://localhost:8080/"
        },
        "id": "c0273dc4",
        "outputId": "8b91430f-329d-4967-91d7-fe378ff3f5ab"
      },
      "outputs": [
        {
          "data": {
            "text/plain": [
              "0    5\n",
              "1    0\n",
              "2    4\n",
              "3    1\n",
              "4    9\n",
              "Name: label, dtype: int64"
            ]
          },
          "execution_count": 5,
          "metadata": {},
          "output_type": "execute_result"
        }
      ],
      "source": [
        "y_train.head()"
      ]
    },
    {
      "cell_type": "code",
      "execution_count": 6,
      "id": "9ccc213e",
      "metadata": {
        "colab": {
          "base_uri": "https://localhost:8080/"
        },
        "id": "9ccc213e",
        "outputId": "f85aaeb8-e1a2-4655-af66-ac030b3304ac"
      },
      "outputs": [
        {
          "name": "stdout",
          "output_type": "stream",
          "text": [
            "Training set has 5169 rows and 785 columns\n",
            "Test set has 5776 rows and 785 columns\n"
          ]
        }
      ],
      "source": [
        "print(\"Training set has {0[0]} rows and {0[1]} columns\".format(train.shape))\n",
        "print(\"Test set has {0[0]} rows and {0[1]} columns\".format(test.shape))"
      ]
    },
    {
      "cell_type": "markdown",
      "id": "4e1b1a9d",
      "metadata": {
        "id": "4e1b1a9d"
      },
      "source": [
        "### Data visualisation"
      ]
    },
    {
      "cell_type": "code",
      "execution_count": 7,
      "id": "5c2fc885",
      "metadata": {
        "colab": {
          "base_uri": "https://localhost:8080/",
          "height": 899
        },
        "id": "5c2fc885",
        "outputId": "7ccd01ed-6faf-49a5-a3ed-f6a5e0a8e479"
      },
      "outputs": [
        {
          "data": {
            "image/png": "[encoded data removed]",
            "text/plain": [
              "<Figure size 1080x504 with 1 Axes>"
            ]
          },
          "metadata": {
            "needs_background": "light"
          },
          "output_type": "display_data"
        },
        {
          "data": {
            "image/png": "[encoded data removed]",
            "text/plain": [
              "<Figure size 1080x504 with 1 Axes>"
            ]
          },
          "metadata": {
            "needs_background": "light"
          },
          "output_type": "display_data"
        }
      ],
      "source": [
        "plt.figure(figsize=(15,7))\n",
        "sns.countplot(x=y_train,palette=\"icefire\")\n",
        "plt.xlabel('#')\n",
        "plt.title('Number repartition: Training')\n",
        "plt.show()\n",
        "\n",
        "plt.figure(figsize=(15,7))\n",
        "sns.countplot(x=y_test,palette=\"icefire\")\n",
        "plt.xlabel('#')\n",
        "plt.title('Number repartition: Test')\n",
        "plt.show()"
      ]
    },
    {
      "cell_type": "code",
      "execution_count": 8,
      "id": "56e602c8",
      "metadata": {
        "colab": {
          "base_uri": "https://localhost:8080/",
          "height": 409
        },
        "id": "56e602c8",
        "outputId": "8685a717-92f5-468e-d4f1-ba8d83294129"
      },
      "outputs": [
        {
          "data": {
            "image/png": "[encoded data removed]",
            "text/plain": [
              "<Figure size 14400x57600 with 5 Axes>"
            ]
          },
          "metadata": {
            "needs_background": "light"
          },
          "output_type": "display_data"
        }
      ],
      "source": [
        "plt.figure(figsize=(200,800))\n",
        "for i in range(5):\n",
        "    image = np.array(1-x_train.iloc[i,:]).reshape(28,28)\n",
        "    plt.subplot(1,5,i+1)\n",
        "    plt.gca().set_title(\"Number {}\".format(y_train[i]),fontsize=100)\n",
        "    \n",
        "    plt.imshow(image,cmap=\"gray\",interpolation=\"none\")\n",
        "    \n",
        "\n",
        "    \n",
        "plt.show()"
      ]
    },
    {
      "cell_type": "markdown",
      "id": "2dd2947e",
      "metadata": {
        "id": "2dd2947e"
      },
      "source": [
        "### Data preprocessing"
      ]
    },
    {
      "cell_type": "code",
      "execution_count": 16,
      "id": "bacc54af",
      "metadata": {
        "colab": {
          "base_uri": "https://localhost:8080/"
        },
        "id": "bacc54af",
        "outputId": "090b1e9d-3350-4127-c619-a291277220df"
      },
      "outputs": [
        {
          "name": "stdout",
          "output_type": "stream",
          "text": [
            "X Train Shape:  (60000, 28, 28, 1)\n",
            "X Test Shape:  (10000, 28, 28, 1)\n",
            "Y Train Shape:  (60000, 10)\n",
            "Y Test Shape:  (10000, 10)\n"
          ]
        }
      ],
      "source": [
        "x_train_reshaped=x_train.values.reshape(-1,28,28,1)\n",
        "x_test_reshaped=x_test.values.reshape(-1,28,28,1)\n",
        "\n",
        "print(\"X Train Shape: \",x_train_reshaped.shape)\n",
        "print(\"X Test Shape: \",x_test_reshaped.shape)\n",
        "\n",
        "y_train_reshaped = to_categorical(y_train,num_classes=10)\n",
        "y_test_reshaped = to_categorical(y_test,num_classes=10)\n",
        "\n",
        "print(\"Y Train Shape: \",y_train_reshaped.shape)\n",
        "print(\"Y Test Shape: \",y_test_reshaped.shape)"
      ]
    },
    {
      "cell_type": "code",
      "execution_count": 10,
      "id": "8b00d40f",
      "metadata": {},
      "outputs": [
        {
          "data": {
            "text/plain": [
              "(10000, 28, 28, 1)"
            ]
          },
          "execution_count": 10,
          "metadata": {},
          "output_type": "execute_result"
        }
      ],
      "source": [
        "comp_reshaped = norm_comp.values.reshape(-1,28,28,1)\n",
        "comp_reshaped.shape"
      ]
    },
    {
      "cell_type": "markdown",
      "id": "49a72ea5",
      "metadata": {
        "id": "49a72ea5"
      },
      "source": [
        "### CNN implementation"
      ]
    },
    {
      "cell_type": "code",
      "execution_count": 11,
      "id": "6fcfcbde",
      "metadata": {
        "colab": {
          "base_uri": "https://localhost:8080/"
        },
        "id": "6fcfcbde",
        "outputId": "38e1c894-9ec4-4a50-958e-a355b6727aed"
      },
      "outputs": [
        {
          "name": "stdout",
          "output_type": "stream",
          "text": [
            "Summary for 1L-Simple\n",
            "Model: \"sequential\"\n",
            "_________________________________________________________________\n",
            "Layer (type)                 Output Shape              Param #   \n",
            "=================================================================\n",
            "conv2d (Conv2D)              (None, 26, 26, 32)        320       \n",
            "_________________________________________________________________\n",
            "max_pooling2d (MaxPooling2D) (None, 13, 13, 32)        0         \n",
            "_________________________________________________________________\n",
            "flatten (Flatten)            (None, 5408)              0         \n",
            "_________________________________________________________________\n",
            "dense (Dense)                (None, 10)                54090     \n",
            "=================================================================\n",
            "Total params: 54,410\n",
            "Trainable params: 54,410\n",
            "Non-trainable params: 0\n",
            "_________________________________________________________________\n",
            "Summary for 2L-Simple\n",
            "Model: \"sequential_1\"\n",
            "_________________________________________________________________\n",
            "Layer (type)                 Output Shape              Param #   \n",
            "=================================================================\n",
            "conv2d_1 (Conv2D)            (None, 28, 28, 32)        320       \n",
            "_________________________________________________________________\n",
            "max_pooling2d_1 (MaxPooling2 (None, 14, 14, 32)        0         \n",
            "_________________________________________________________________\n",
            "conv2d_2 (Conv2D)            (None, 14, 14, 64)        18496     \n",
            "_________________________________________________________________\n",
            "max_pooling2d_2 (MaxPooling2 (None, 7, 7, 64)          0         \n",
            "_________________________________________________________________\n",
            "flatten_1 (Flatten)          (None, 3136)              0         \n",
            "_________________________________________________________________\n",
            "dense_1 (Dense)              (None, 10)                31370     \n",
            "=================================================================\n",
            "Total params: 50,186\n",
            "Trainable params: 50,186\n",
            "Non-trainable params: 0\n",
            "_________________________________________________________________\n",
            "Summary for 2L-dropout\n",
            "Model: \"sequential_2\"\n",
            "_________________________________________________________________\n",
            "Layer (type)                 Output Shape              Param #   \n",
            "=================================================================\n",
            "conv2d_3 (Conv2D)            (None, 28, 28, 32)        320       \n",
            "_________________________________________________________________\n",
            "max_pooling2d_3 (MaxPooling2 (None, 14, 14, 32)        0         \n",
            "_________________________________________________________________\n",
            "conv2d_4 (Conv2D)            (None, 14, 14, 64)        18496     \n",
            "_________________________________________________________________\n",
            "max_pooling2d_4 (MaxPooling2 (None, 7, 7, 64)          0         \n",
            "_________________________________________________________________\n",
            "flatten_2 (Flatten)          (None, 3136)              0         \n",
            "_________________________________________________________________\n",
            "dropout (Dropout)            (None, 3136)              0         \n",
            "_________________________________________________________________\n",
            "dense_2 (Dense)              (None, 10)                31370     \n",
            "=================================================================\n",
            "Total params: 50,186\n",
            "Trainable params: 50,186\n",
            "Non-trainable params: 0\n",
            "_________________________________________________________________\n",
            "Summary for 2L-kernel\n",
            "Model: \"sequential_3\"\n",
            "_________________________________________________________________\n",
            "Layer (type)                 Output Shape              Param #   \n",
            "=================================================================\n",
            "conv2d_5 (Conv2D)            (None, 28, 28, 32)        832       \n",
            "_________________________________________________________________\n",
            "max_pooling2d_5 (MaxPooling2 (None, 14, 14, 32)        0         \n",
            "_________________________________________________________________\n",
            "conv2d_6 (Conv2D)            (None, 14, 14, 64)        51264     \n",
            "_________________________________________________________________\n",
            "max_pooling2d_6 (MaxPooling2 (None, 7, 7, 64)          0         \n",
            "_________________________________________________________________\n",
            "flatten_3 (Flatten)          (None, 3136)              0         \n",
            "_________________________________________________________________\n",
            "dense_3 (Dense)              (None, 10)                31370     \n",
            "=================================================================\n",
            "Total params: 83,466\n",
            "Trainable params: 83,466\n",
            "Non-trainable params: 0\n",
            "_________________________________________________________________\n",
            "Summary for 3L-Simple\n",
            "Model: \"sequential_4\"\n",
            "_________________________________________________________________\n",
            "Layer (type)                 Output Shape              Param #   \n",
            "=================================================================\n",
            "conv2d_7 (Conv2D)            (None, 28, 28, 32)        320       \n",
            "_________________________________________________________________\n",
            "max_pooling2d_7 (MaxPooling2 (None, 14, 14, 32)        0         \n",
            "_________________________________________________________________\n",
            "conv2d_8 (Conv2D)            (None, 14, 14, 64)        18496     \n",
            "_________________________________________________________________\n",
            "max_pooling2d_8 (MaxPooling2 (None, 7, 7, 64)          0         \n",
            "_________________________________________________________________\n",
            "conv2d_9 (Conv2D)            (None, 7, 7, 128)         73856     \n",
            "_________________________________________________________________\n",
            "max_pooling2d_9 (MaxPooling2 (None, 3, 3, 128)         0         \n",
            "_________________________________________________________________\n",
            "flatten_4 (Flatten)          (None, 1152)              0         \n",
            "_________________________________________________________________\n",
            "dense_4 (Dense)              (None, 10)                11530     \n",
            "=================================================================\n",
            "Total params: 104,202\n",
            "Trainable params: 104,202\n",
            "Non-trainable params: 0\n",
            "_________________________________________________________________\n"
          ]
        },
        {
          "name": "stderr",
          "output_type": "stream",
          "text": [
            "2022-05-23 16:24:10.377487: I tensorflow/core/platform/cpu_feature_guard.cc:142] This TensorFlow binary is optimized with oneAPI Deep Neural Network Library (oneDNN) to use the following CPU instructions in performance-critical operations:  SSE4.1 SSE4.2 AVX AVX2 FMA\n",
            "To enable them in other operations, rebuild TensorFlow with the appropriate compiler flags.\n",
            "2022-05-23 16:24:10.378297: I tensorflow/core/common_runtime/process_util.cc:146] Creating new thread pool with default inter op setting: 2. Tune using inter_op_parallelism_threads for best performance.\n"
          ]
        }
      ],
      "source": [
        "num_classes = 10\n",
        "input_shape = (28, 28, 1)\n",
        "\n",
        "models = dict()\n",
        "\n",
        "# Simple basis, 1 Layer CNN\n",
        "model = Sequential(\n",
        "    [\n",
        "        tf.keras.Input(shape=input_shape),\n",
        "        Conv2D(32, kernel_size=(3, 3), activation=\"relu\"),\n",
        "        MaxPooling2D(pool_size=(2, 2)),\n",
        "        Flatten(),\n",
        "        Dense(num_classes, activation=\"softmax\"),\n",
        "    ]\n",
        ")\n",
        "\n",
        "models[\"1L-Simple\"] = model\n",
        "\n",
        "# Simple basis, 2 Layers CNN\n",
        "model2 = Sequential(\n",
        "    [\n",
        "        tf.keras.Input(shape=input_shape),\n",
        "        Conv2D(32, kernel_size=(3, 3),padding=\"same\", activation=\"relu\"),\n",
        "        MaxPooling2D(pool_size=(2, 2)),\n",
        "        Conv2D(64, kernel_size=(3, 3),padding=\"same\", activation=\"relu\"),\n",
        "        MaxPooling2D(pool_size=(2, 2)),\n",
        "        Flatten(),\n",
        "        Dense(num_classes, activation=\"softmax\"),\n",
        "    ]\n",
        ")\n",
        "\n",
        "models[\"2L-Simple\"] = model2\n",
        "\n",
        "# Same as above but add a drop out Layer\n",
        "model3 = Sequential(\n",
        "    [\n",
        "        tf.keras.Input(shape=input_shape),\n",
        "        Conv2D(32, kernel_size=(3, 3),padding=\"same\", activation=\"relu\"),\n",
        "        MaxPooling2D(pool_size=(2, 2)),\n",
        "        Conv2D(64, kernel_size=(3, 3),padding=\"same\", activation=\"relu\"),\n",
        "        MaxPooling2D(pool_size=(2, 2)),\n",
        "        Flatten(),\n",
        "        Dropout(0.5),\n",
        "        Dense(num_classes, activation=\"softmax\"),\n",
        "    ]\n",
        ")\n",
        "\n",
        "models[\"2L-dropout\"] = model3\n",
        "\n",
        "\n",
        "# Classic 2L with bigger kernel\n",
        "model4 = Sequential(\n",
        "    [\n",
        "        tf.keras.Input(shape=input_shape),\n",
        "        Conv2D(32, kernel_size=(5, 5),padding=\"same\", activation=\"relu\"),\n",
        "        MaxPooling2D(pool_size=(2, 2)),\n",
        "        Conv2D(64, kernel_size=(5, 5),padding=\"same\", activation=\"relu\"),\n",
        "        MaxPooling2D(pool_size=(2, 2)),\n",
        "        Flatten(),\n",
        "        Dense(num_classes, activation=\"softmax\"),\n",
        "    ]\n",
        ")\n",
        "\n",
        "models[\"2L-kernel\"] = model4\n",
        "\n",
        "# Classic 3L CNN\n",
        "model4 = Sequential(\n",
        "    [\n",
        "        tf.keras.Input(shape=input_shape),\n",
        "        Conv2D(32, kernel_size=(3, 3),padding=\"same\", activation=\"relu\"),\n",
        "        MaxPooling2D(pool_size=(2, 2)),\n",
        "        Conv2D(64, kernel_size=(3, 3),padding=\"same\", activation=\"relu\"),\n",
        "        MaxPooling2D(pool_size=(2, 2)),\n",
        "        Conv2D(128, kernel_size=(3, 3),padding=\"same\", activation=\"relu\"),\n",
        "        MaxPooling2D(pool_size=(2, 2)),\n",
        "        Flatten(),\n",
        "        Dense(num_classes, activation=\"softmax\"),\n",
        "    ]\n",
        ")\n",
        "\n",
        "models[\"3L-Simple\"] = model4\n",
        "\n",
        "\n",
        "for type,model in models.items():\n",
        "    print(\"Summary for {}\".format(type))\n",
        "    model.summary() "
      ]
    },
    {
      "cell_type": "code",
      "execution_count": 12,
      "id": "482dcc27",
      "metadata": {
        "colab": {
          "base_uri": "https://localhost:8080/"
        },
        "id": "482dcc27",
        "outputId": "912d177e-51c7-43d6-c2f7-8fdb222ce9bb"
      },
      "outputs": [
        {
          "name": "stdout",
          "output_type": "stream",
          "text": [
            "Compiling the model 1L-Simple\n",
            "Compiling the model 2L-Simple\n",
            "Compiling the model 2L-dropout\n",
            "Compiling the model 2L-kernel\n",
            "Compiling the model 3L-Simple\n"
          ]
        }
      ],
      "source": [
        "learning_rate = 0.01\n",
        "\n",
        "for type,model in models.items():\n",
        "    print(\"Compiling the model {}\".format(type))\n",
        "    model.compile(loss='categorical_crossentropy',optimizer=Adam(learning_rate),metrics=['accuracy'])"
      ]
    },
    {
      "cell_type": "code",
      "execution_count": 13,
      "id": "9245ce31",
      "metadata": {
        "colab": {
          "base_uri": "https://localhost:8080/",
          "height": 1000
        },
        "id": "9245ce31",
        "outputId": "fd42e9b5-ca67-47b7-eacc-d5a6c5fe6058"
      },
      "outputs": [
        {
          "name": "stdout",
          "output_type": "stream",
          "text": [
            "starting training the model 1L-Simple\n",
            "Epoch 1/20\n",
            "5/5 [==============================] - 2s 321ms/step - loss: 1.5051 - accuracy: 0.5613 - val_loss: 0.7186 - val_accuracy: 0.7621\n",
            "Epoch 2/20\n",
            "5/5 [==============================] - 1s 275ms/step - loss: 0.5350 - accuracy: 0.8325 - val_loss: 0.5542 - val_accuracy: 0.8433\n",
            "Epoch 3/20\n",
            "5/5 [==============================] - 1s 274ms/step - loss: 0.3968 - accuracy: 0.8876 - val_loss: 0.3905 - val_accuracy: 0.8994\n",
            "Epoch 4/20\n",
            "5/5 [==============================] - 1s 274ms/step - loss: 0.3108 - accuracy: 0.9138 - val_loss: 0.3477 - val_accuracy: 0.9091\n",
            "Epoch 5/20\n",
            "5/5 [==============================] - 1s 277ms/step - loss: 0.2456 - accuracy: 0.9308 - val_loss: 0.2917 - val_accuracy: 0.9284\n",
            "Epoch 6/20\n",
            "5/5 [==============================] - 1s 276ms/step - loss: 0.1943 - accuracy: 0.9454 - val_loss: 0.2422 - val_accuracy: 0.9342\n",
            "Epoch 7/20\n",
            "5/5 [==============================] - 1s 276ms/step - loss: 0.1592 - accuracy: 0.9564 - val_loss: 0.2326 - val_accuracy: 0.9420\n",
            "Epoch 8/20\n",
            "5/5 [==============================] - 1s 272ms/step - loss: 0.1294 - accuracy: 0.9656 - val_loss: 0.2071 - val_accuracy: 0.9420\n",
            "Epoch 9/20\n",
            "5/5 [==============================] - 1s 274ms/step - loss: 0.1055 - accuracy: 0.9731 - val_loss: 0.1904 - val_accuracy: 0.9478\n",
            "Epoch 10/20\n",
            "5/5 [==============================] - 1s 273ms/step - loss: 0.0855 - accuracy: 0.9796 - val_loss: 0.1844 - val_accuracy: 0.9458\n",
            "Epoch 11/20\n",
            "5/5 [==============================] - 1s 276ms/step - loss: 0.0727 - accuracy: 0.9817 - val_loss: 0.1777 - val_accuracy: 0.9555\n",
            "Epoch 12/20\n",
            "5/5 [==============================] - 1s 271ms/step - loss: 0.0601 - accuracy: 0.9865 - val_loss: 0.1713 - val_accuracy: 0.9516\n",
            "Epoch 13/20\n",
            "5/5 [==============================] - 1s 274ms/step - loss: 0.0484 - accuracy: 0.9893 - val_loss: 0.1519 - val_accuracy: 0.9574\n",
            "Epoch 14/20\n",
            "5/5 [==============================] - 1s 273ms/step - loss: 0.0400 - accuracy: 0.9925 - val_loss: 0.1592 - val_accuracy: 0.9555\n",
            "Epoch 15/20\n",
            "5/5 [==============================] - 1s 274ms/step - loss: 0.0329 - accuracy: 0.9933 - val_loss: 0.1513 - val_accuracy: 0.9555\n",
            "Epoch 16/20\n",
            "5/5 [==============================] - 1s 276ms/step - loss: 0.0275 - accuracy: 0.9942 - val_loss: 0.1500 - val_accuracy: 0.9574\n",
            "Epoch 17/20\n",
            "5/5 [==============================] - 1s 277ms/step - loss: 0.0226 - accuracy: 0.9966 - val_loss: 0.1517 - val_accuracy: 0.9555\n",
            "Epoch 18/20\n",
            "5/5 [==============================] - 1s 273ms/step - loss: 0.0192 - accuracy: 0.9974 - val_loss: 0.1495 - val_accuracy: 0.9594\n",
            "Epoch 19/20\n",
            "5/5 [==============================] - 1s 270ms/step - loss: 0.0169 - accuracy: 0.9981 - val_loss: 0.1532 - val_accuracy: 0.9594\n",
            "Epoch 20/20\n",
            "5/5 [==============================] - 1s 277ms/step - loss: 0.0144 - accuracy: 0.9991 - val_loss: 0.1511 - val_accuracy: 0.9555\n",
            "starting training the model 2L-Simple\n",
            "Epoch 1/20\n",
            "5/5 [==============================] - 5s 889ms/step - loss: 1.7355 - accuracy: 0.4046 - val_loss: 1.1878 - val_accuracy: 0.6692\n",
            "Epoch 2/20\n",
            "5/5 [==============================] - 7s 2s/step - loss: 0.7685 - accuracy: 0.7666 - val_loss: 0.5481 - val_accuracy: 0.8607\n",
            "Epoch 3/20\n",
            "5/5 [==============================] - 7s 1s/step - loss: 0.3852 - accuracy: 0.8895 - val_loss: 0.3922 - val_accuracy: 0.8956\n",
            "Epoch 4/20\n",
            "5/5 [==============================] - 4s 834ms/step - loss: 0.2711 - accuracy: 0.9211 - val_loss: 0.3192 - val_accuracy: 0.9342\n",
            "Epoch 5/20\n",
            "5/5 [==============================] - 5s 1s/step - loss: 0.1937 - accuracy: 0.9484 - val_loss: 0.2416 - val_accuracy: 0.9497\n",
            "Epoch 6/20\n",
            "5/5 [==============================] - 4s 838ms/step - loss: 0.1361 - accuracy: 0.9611 - val_loss: 0.2097 - val_accuracy: 0.9400\n",
            "Epoch 7/20\n",
            "5/5 [==============================] - 4s 838ms/step - loss: 0.1043 - accuracy: 0.9708 - val_loss: 0.1948 - val_accuracy: 0.9478\n",
            "Epoch 8/20\n",
            "5/5 [==============================] - 4s 828ms/step - loss: 0.0796 - accuracy: 0.9746 - val_loss: 0.1781 - val_accuracy: 0.9574\n",
            "Epoch 9/20\n",
            "5/5 [==============================] - 4s 833ms/step - loss: 0.0616 - accuracy: 0.9837 - val_loss: 0.1785 - val_accuracy: 0.9478\n",
            "Epoch 10/20\n",
            "5/5 [==============================] - 4s 830ms/step - loss: 0.0478 - accuracy: 0.9860 - val_loss: 0.1640 - val_accuracy: 0.9555\n",
            "Epoch 11/20\n",
            "5/5 [==============================] - 4s 834ms/step - loss: 0.0373 - accuracy: 0.9897 - val_loss: 0.1638 - val_accuracy: 0.9555\n",
            "Epoch 12/20\n",
            "5/5 [==============================] - 4s 833ms/step - loss: 0.0284 - accuracy: 0.9920 - val_loss: 0.1604 - val_accuracy: 0.9632\n",
            "Epoch 13/20\n",
            "5/5 [==============================] - 4s 834ms/step - loss: 0.0230 - accuracy: 0.9936 - val_loss: 0.1788 - val_accuracy: 0.9632\n",
            "Epoch 14/20\n",
            "5/5 [==============================] - 4s 838ms/step - loss: 0.0170 - accuracy: 0.9953 - val_loss: 0.1616 - val_accuracy: 0.9632\n",
            "Epoch 15/20\n",
            "5/5 [==============================] - 4s 844ms/step - loss: 0.0136 - accuracy: 0.9981 - val_loss: 0.1898 - val_accuracy: 0.9613\n",
            "Epoch 16/20\n",
            "5/5 [==============================] - 4s 844ms/step - loss: 0.0117 - accuracy: 0.9970 - val_loss: 0.1624 - val_accuracy: 0.9652\n",
            "Epoch 17/20\n",
            "5/5 [==============================] - 4s 841ms/step - loss: 0.0076 - accuracy: 0.9981 - val_loss: 0.1906 - val_accuracy: 0.9671\n",
            "Epoch 18/20\n",
            "5/5 [==============================] - 4s 832ms/step - loss: 0.0049 - accuracy: 0.9989 - val_loss: 0.1666 - val_accuracy: 0.9652\n",
            "Epoch 19/20\n",
            "5/5 [==============================] - 4s 837ms/step - loss: 0.0034 - accuracy: 1.0000 - val_loss: 0.1798 - val_accuracy: 0.9691\n",
            "Epoch 20/20\n",
            "5/5 [==============================] - 5s 1s/step - loss: 0.0024 - accuracy: 1.0000 - val_loss: 0.1865 - val_accuracy: 0.9691\n",
            "starting training the model 2L-dropout\n",
            "Epoch 1/20\n",
            "5/5 [==============================] - 5s 910ms/step - loss: 1.7156 - accuracy: 0.4114 - val_loss: 1.0377 - val_accuracy: 0.6634\n",
            "Epoch 2/20\n",
            "5/5 [==============================] - 4s 880ms/step - loss: 0.7326 - accuracy: 0.7638 - val_loss: 0.4696 - val_accuracy: 0.8665\n",
            "Epoch 3/20\n",
            "5/5 [==============================] - 4s 874ms/step - loss: 0.4093 - accuracy: 0.8758 - val_loss: 0.3118 - val_accuracy: 0.9265\n",
            "Epoch 4/20\n",
            "5/5 [==============================] - 4s 871ms/step - loss: 0.2686 - accuracy: 0.9196 - val_loss: 0.2824 - val_accuracy: 0.9207\n",
            "Epoch 5/20\n",
            "5/5 [==============================] - 4s 870ms/step - loss: 0.2043 - accuracy: 0.9422 - val_loss: 0.2361 - val_accuracy: 0.9516\n",
            "Epoch 6/20\n",
            "5/5 [==============================] - 4s 870ms/step - loss: 0.1620 - accuracy: 0.9538 - val_loss: 0.1852 - val_accuracy: 0.9439\n",
            "Epoch 7/20\n",
            "5/5 [==============================] - 4s 884ms/step - loss: 0.1392 - accuracy: 0.9607 - val_loss: 0.1562 - val_accuracy: 0.9497\n",
            "Epoch 8/20\n",
            "5/5 [==============================] - 4s 875ms/step - loss: 0.1109 - accuracy: 0.9669 - val_loss: 0.1409 - val_accuracy: 0.9574\n",
            "Epoch 9/20\n",
            "5/5 [==============================] - 4s 879ms/step - loss: 0.0941 - accuracy: 0.9727 - val_loss: 0.1284 - val_accuracy: 0.9671\n",
            "Epoch 10/20\n",
            "5/5 [==============================] - 4s 866ms/step - loss: 0.0766 - accuracy: 0.9770 - val_loss: 0.1358 - val_accuracy: 0.9671\n",
            "Epoch 11/20\n",
            "5/5 [==============================] - 4s 871ms/step - loss: 0.0690 - accuracy: 0.9764 - val_loss: 0.1145 - val_accuracy: 0.9671\n",
            "Epoch 12/20\n",
            "5/5 [==============================] - 4s 872ms/step - loss: 0.0611 - accuracy: 0.9809 - val_loss: 0.1084 - val_accuracy: 0.9691\n",
            "Epoch 13/20\n",
            "5/5 [==============================] - 4s 861ms/step - loss: 0.0542 - accuracy: 0.9819 - val_loss: 0.1194 - val_accuracy: 0.9691\n",
            "Epoch 14/20\n",
            "5/5 [==============================] - 4s 876ms/step - loss: 0.0491 - accuracy: 0.9824 - val_loss: 0.1092 - val_accuracy: 0.9710\n",
            "Epoch 15/20\n",
            "5/5 [==============================] - 4s 875ms/step - loss: 0.0444 - accuracy: 0.9839 - val_loss: 0.1341 - val_accuracy: 0.9671\n",
            "Epoch 16/20\n",
            "5/5 [==============================] - 4s 868ms/step - loss: 0.0398 - accuracy: 0.9869 - val_loss: 0.1254 - val_accuracy: 0.9691\n",
            "Epoch 17/20\n",
            "5/5 [==============================] - 4s 867ms/step - loss: 0.0341 - accuracy: 0.9895 - val_loss: 0.1444 - val_accuracy: 0.9652\n",
            "Epoch 18/20\n",
            "5/5 [==============================] - 4s 875ms/step - loss: 0.0355 - accuracy: 0.9875 - val_loss: 0.1254 - val_accuracy: 0.9691\n",
            "Epoch 19/20\n",
            "5/5 [==============================] - 4s 873ms/step - loss: 0.0331 - accuracy: 0.9890 - val_loss: 0.1082 - val_accuracy: 0.9691\n",
            "Epoch 20/20\n",
            "5/5 [==============================] - 4s 872ms/step - loss: 0.0358 - accuracy: 0.9875 - val_loss: 0.1050 - val_accuracy: 0.9710\n",
            "starting training the model 2L-kernel\n",
            "Epoch 1/20\n",
            "5/5 [==============================] - 10s 2s/step - loss: 1.7231 - accuracy: 0.4132 - val_loss: 1.0237 - val_accuracy: 0.6634\n",
            "Epoch 2/20\n",
            "5/5 [==============================] - 10s 2s/step - loss: 0.6234 - accuracy: 0.7999 - val_loss: 0.3895 - val_accuracy: 0.8665\n",
            "Epoch 3/20\n",
            "5/5 [==============================] - 10s 2s/step - loss: 0.2808 - accuracy: 0.9160 - val_loss: 0.2358 - val_accuracy: 0.9458\n",
            "Epoch 4/20\n",
            "5/5 [==============================] - 10s 2s/step - loss: 0.1624 - accuracy: 0.9534 - val_loss: 0.1993 - val_accuracy: 0.9420\n",
            "Epoch 5/20\n",
            "5/5 [==============================] - 10s 2s/step - loss: 0.1151 - accuracy: 0.9675 - val_loss: 0.1429 - val_accuracy: 0.9652\n",
            "Epoch 6/20\n",
            "5/5 [==============================] - 10s 2s/step - loss: 0.0845 - accuracy: 0.9751 - val_loss: 0.1215 - val_accuracy: 0.9594\n",
            "Epoch 7/20\n",
            "5/5 [==============================] - 10s 2s/step - loss: 0.0610 - accuracy: 0.9824 - val_loss: 0.1007 - val_accuracy: 0.9749\n",
            "Epoch 8/20\n",
            "5/5 [==============================] - 9s 2s/step - loss: 0.0411 - accuracy: 0.9888 - val_loss: 0.1231 - val_accuracy: 0.9729\n",
            "Epoch 9/20\n",
            "5/5 [==============================] - 10s 2s/step - loss: 0.0295 - accuracy: 0.9923 - val_loss: 0.1000 - val_accuracy: 0.9729\n",
            "Epoch 10/20\n",
            "5/5 [==============================] - 10s 2s/step - loss: 0.0236 - accuracy: 0.9933 - val_loss: 0.1111 - val_accuracy: 0.9710\n",
            "Epoch 11/20\n",
            "5/5 [==============================] - 10s 2s/step - loss: 0.0147 - accuracy: 0.9970 - val_loss: 0.0984 - val_accuracy: 0.9710\n",
            "Epoch 12/20\n",
            "5/5 [==============================] - 10s 2s/step - loss: 0.0106 - accuracy: 0.9972 - val_loss: 0.0968 - val_accuracy: 0.9749\n",
            "Epoch 13/20\n",
            "5/5 [==============================] - 9s 2s/step - loss: 0.0062 - accuracy: 0.9987 - val_loss: 0.0913 - val_accuracy: 0.9710\n",
            "Epoch 14/20\n",
            "5/5 [==============================] - 9s 2s/step - loss: 0.0044 - accuracy: 0.9996 - val_loss: 0.1122 - val_accuracy: 0.9691\n",
            "Epoch 15/20\n",
            "5/5 [==============================] - 10s 2s/step - loss: 0.0027 - accuracy: 1.0000 - val_loss: 0.1180 - val_accuracy: 0.9671\n",
            "Epoch 16/20\n",
            "5/5 [==============================] - 9s 2s/step - loss: 0.0020 - accuracy: 0.9998 - val_loss: 0.1210 - val_accuracy: 0.9710\n",
            "Epoch 17/20\n",
            "5/5 [==============================] - 9s 2s/step - loss: 0.0013 - accuracy: 1.0000 - val_loss: 0.1098 - val_accuracy: 0.9729\n",
            "Epoch 18/20\n",
            "5/5 [==============================] - 9s 2s/step - loss: 0.0011 - accuracy: 1.0000 - val_loss: 0.1139 - val_accuracy: 0.9749\n",
            "Epoch 19/20\n",
            "5/5 [==============================] - 9s 2s/step - loss: 8.6215e-04 - accuracy: 1.0000 - val_loss: 0.1260 - val_accuracy: 0.9710\n",
            "Epoch 20/20\n",
            "5/5 [==============================] - 9s 2s/step - loss: 5.8130e-04 - accuracy: 1.0000 - val_loss: 0.1261 - val_accuracy: 0.9729\n",
            "starting training the model 3L-Simple\n",
            "Epoch 1/20\n",
            "5/5 [==============================] - 7s 1s/step - loss: 2.0939 - accuracy: 0.3551 - val_loss: 1.2394 - val_accuracy: 0.5745\n",
            "Epoch 2/20\n",
            "5/5 [==============================] - 6s 1s/step - loss: 1.3623 - accuracy: 0.6047 - val_loss: 0.9342 - val_accuracy: 0.7389\n",
            "Epoch 3/20\n",
            "5/5 [==============================] - 6s 1s/step - loss: 0.7716 - accuracy: 0.7816 - val_loss: 0.5672 - val_accuracy: 0.8511\n",
            "Epoch 4/20\n",
            "5/5 [==============================] - 6s 1s/step - loss: 0.3532 - accuracy: 0.8988 - val_loss: 0.3863 - val_accuracy: 0.9149\n",
            "Epoch 5/20\n",
            "5/5 [==============================] - 6s 1s/step - loss: 0.2427 - accuracy: 0.9368 - val_loss: 0.2611 - val_accuracy: 0.9458\n",
            "Epoch 6/20\n",
            "5/5 [==============================] - 6s 1s/step - loss: 0.1596 - accuracy: 0.9564 - val_loss: 0.2017 - val_accuracy: 0.9613\n",
            "Epoch 7/20\n",
            "5/5 [==============================] - 6s 1s/step - loss: 0.1193 - accuracy: 0.9647 - val_loss: 0.1444 - val_accuracy: 0.9594\n",
            "Epoch 8/20\n",
            "5/5 [==============================] - 6s 1s/step - loss: 0.0856 - accuracy: 0.9740 - val_loss: 0.1261 - val_accuracy: 0.9729\n",
            "Epoch 9/20\n",
            "5/5 [==============================] - 6s 1s/step - loss: 0.0653 - accuracy: 0.9817 - val_loss: 0.1252 - val_accuracy: 0.9632\n",
            "Epoch 10/20\n",
            "5/5 [==============================] - 6s 1s/step - loss: 0.0520 - accuracy: 0.9847 - val_loss: 0.1029 - val_accuracy: 0.9749\n",
            "Epoch 11/20\n",
            "5/5 [==============================] - 6s 1s/step - loss: 0.0367 - accuracy: 0.9899 - val_loss: 0.1035 - val_accuracy: 0.9729\n",
            "Epoch 12/20\n",
            "5/5 [==============================] - 6s 1s/step - loss: 0.0262 - accuracy: 0.9938 - val_loss: 0.1013 - val_accuracy: 0.9749\n",
            "Epoch 13/20\n",
            "5/5 [==============================] - 6s 1s/step - loss: 0.0193 - accuracy: 0.9961 - val_loss: 0.0922 - val_accuracy: 0.9749\n",
            "Epoch 14/20\n",
            "5/5 [==============================] - 6s 1s/step - loss: 0.0159 - accuracy: 0.9966 - val_loss: 0.1095 - val_accuracy: 0.9768\n",
            "Epoch 15/20\n",
            "5/5 [==============================] - 6s 1s/step - loss: 0.0108 - accuracy: 0.9983 - val_loss: 0.1007 - val_accuracy: 0.9729\n",
            "Epoch 16/20\n",
            "5/5 [==============================] - 6s 1s/step - loss: 0.0068 - accuracy: 0.9991 - val_loss: 0.1002 - val_accuracy: 0.9826\n",
            "Epoch 17/20\n",
            "5/5 [==============================] - 6s 1s/step - loss: 0.0053 - accuracy: 0.9989 - val_loss: 0.1067 - val_accuracy: 0.9807\n",
            "Epoch 18/20\n",
            "5/5 [==============================] - 6s 1s/step - loss: 0.0037 - accuracy: 0.9996 - val_loss: 0.0894 - val_accuracy: 0.9807\n",
            "Epoch 19/20\n",
            "5/5 [==============================] - 6s 1s/step - loss: 0.0026 - accuracy: 0.9998 - val_loss: 0.1086 - val_accuracy: 0.9768\n",
            "Epoch 20/20\n",
            "5/5 [==============================] - 6s 1s/step - loss: 0.0026 - accuracy: 0.9998 - val_loss: 0.1069 - val_accuracy: 0.9826\n"
          ]
        },
        {
          "data": {
            "application/vnd.google.colaboratory.intrinsic+json": {
              "type": "string"
            },
            "text/plain": [
              "'histories = [model.fit(\\n    x_train_reshaped, y_train_reshaped,\\n    batch_size=batch_size,\\n    epochs=epochs,\\n    validation_split=0.1) for model in models.values()]'"
            ]
          },
          "execution_count": 13,
          "metadata": {},
          "output_type": "execute_result"
        }
      ],
      "source": [
        "batch_size = 1024\n",
        "epochs = 20\n",
        "\n",
        "\n",
        "histories = dict()\n",
        "\n",
        "for type,model in models.items():\n",
        "    print(\"starting training the model {}\".format(type))\n",
        "    history = model.fit(x_train_reshaped,y_train_reshaped,batch_size=batch_size,epochs=epochs,validation_split=0.1)\n",
        "    histories[type] = history"
      ]
    },
    {
      "cell_type": "code",
      "execution_count": 15,
      "id": "9a599062",
      "metadata": {
        "colab": {
          "base_uri": "https://localhost:8080/",
          "height": 1000
        },
        "id": "9a599062",
        "outputId": "6b2aa92e-367f-4167-92eb-9e1f2c0fedc5"
      },
      "outputs": [
        {
          "data": {
            "text/plain": [
              "<matplotlib.legend.Legend at 0x7f2c685e7250>"
            ]
          },
          "execution_count": 15,
          "metadata": {},
          "output_type": "execute_result"
        },
        {
          "data": {
            "image/png": "[encoded data removed]",
            "text/plain": [
              "<Figure size 432x288 with 1 Axes>"
            ]
          },
          "metadata": {
            "needs_background": "light"
          },
          "output_type": "display_data"
        },
        {
          "data": {
            "image/png": "[encoded data removed]",
            "text/plain": [
              "<Figure size 432x288 with 1 Axes>"
            ]
          },
          "metadata": {
            "needs_background": "light"
          },
          "output_type": "display_data"
        },
        {
          "data": {
            "image/png": "[encoded data removed]",
            "text/plain": [
              "<Figure size 432x288 with 1 Axes>"
            ]
          },
          "metadata": {
            "needs_background": "light"
          },
          "output_type": "display_data"
        },
        {
          "data": {
            "image/png": "[encoded data removed]",
            "text/plain": [
              "<Figure size 432x288 with 1 Axes>"
            ]
          },
          "metadata": {
            "needs_background": "light"
          },
          "output_type": "display_data"
        }
      ],
      "source": [
        "_= [plt.plot(histories[name].history[\"loss\"], label=f\"Train Loss, {name}\") for name, model in models.items()]\n",
        "plt.legend()\n",
        "plt.figure()\n",
        "_= [plt.plot(histories[name].history[\"val_loss\"], label=f\"Validation Loss, {name}\") for name, model in models.items()]\n",
        "plt.legend()\n",
        "\n",
        "\n",
        "plt.figure()\n",
        "_= [plt.plot(histories[name].history[\"accuracy\"], label=f\"Train Accuracy, {name}\") for name, model in models.items()]\n",
        "plt.legend()\n",
        "plt.figure()\n",
        "_= [plt.plot(histories[name].history[\"val_accuracy\"], label=f\"Validation Accuracy, {name}\") for name, model in models.items()]\n",
        "plt.legend()"
      ]
    },
    {
      "cell_type": "code",
      "execution_count": 16,
      "id": "9f1385ae",
      "metadata": {
        "colab": {
          "base_uri": "https://localhost:8080/"
        },
        "id": "9f1385ae",
        "outputId": "812f2d28-381d-4dc4-80e1-c409919ff2d1",
        "scrolled": true
      },
      "outputs": [
        {
          "name": "stdout",
          "output_type": "stream",
          "text": [
            "Test loss: 0.17923469841480255 Test accuracy: 0.9487534761428833 Model:  1L-Simple\n",
            "Test loss: 0.12177816778421402 Test accuracy: 0.9674515128135681 Model:  2L-Simple\n",
            "Test loss: 0.09316089004278183 Test accuracy: 0.9703947305679321 Model:  2L-dropout\n",
            "Test loss: 0.10664165765047073 Test accuracy: 0.9754155278205872 Model:  2L-kernel\n",
            "Test loss: 0.10912598669528961 Test accuracy: 0.9719529151916504 Model:  3L-Simple\n"
          ]
        }
      ],
      "source": [
        "scores = [model.evaluate(x_test_reshaped, y_test_reshaped, verbose=0) for name,model in models.items()]\n",
        "_ = [print(\"Test loss:\", scores[i][0],\"Test accuracy:\", scores[i][1], \"Model: \", name) for i,name in enumerate(models.keys())]"
      ]
    },
    {
      "cell_type": "markdown",
      "id": "u2aEYdfh8-fH",
      "metadata": {
        "id": "u2aEYdfh8-fH"
      },
      "source": [
        "We can see that the more complexe the architecture, the better (obviously up to a point, which we probably haven't reach yet). The 3 Layer NN would probably benefits of more training epoch, we'll look at him when checking the impact of the number of training iterations on the **test** set"
      ]
    },
    {
      "cell_type": "code",
      "execution_count": 13,
      "id": "idF7kyVp8zDF",
      "metadata": {
        "colab": {
          "base_uri": "https://localhost:8080/"
        },
        "id": "idF7kyVp8zDF",
        "outputId": "84331f09-1fe4-469d-b858-31c988a19c4e"
      },
      "outputs": [
        {
          "name": "stdout",
          "output_type": "stream",
          "text": [
            "Model: \"sequential_5\"\n",
            "_________________________________________________________________\n",
            "Layer (type)                 Output Shape              Param #   \n",
            "=================================================================\n",
            "conv2d_10 (Conv2D)           (None, 28, 28, 32)        320       \n",
            "_________________________________________________________________\n",
            "max_pooling2d_10 (MaxPooling (None, 14, 14, 32)        0         \n",
            "_________________________________________________________________\n",
            "conv2d_11 (Conv2D)           (None, 14, 14, 64)        18496     \n",
            "_________________________________________________________________\n",
            "max_pooling2d_11 (MaxPooling (None, 7, 7, 64)          0         \n",
            "_________________________________________________________________\n",
            "conv2d_12 (Conv2D)           (None, 7, 7, 128)         73856     \n",
            "_________________________________________________________________\n",
            "max_pooling2d_12 (MaxPooling (None, 3, 3, 128)         0         \n",
            "_________________________________________________________________\n",
            "flatten_5 (Flatten)          (None, 1152)              0         \n",
            "_________________________________________________________________\n",
            "dense_5 (Dense)              (None, 10)                11530     \n",
            "=================================================================\n",
            "Total params: 104,202\n",
            "Trainable params: 104,202\n",
            "Non-trainable params: 0\n",
            "_________________________________________________________________\n"
          ]
        }
      ],
      "source": [
        "model_3L = Sequential(\n",
        "    [\n",
        "        tf.keras.Input(shape=input_shape),\n",
        "        Conv2D(32, kernel_size=(3, 3),padding=\"same\", activation=\"relu\"),\n",
        "        MaxPooling2D(pool_size=(2, 2)),\n",
        "        Conv2D(64, kernel_size=(3, 3),padding=\"same\", activation=\"relu\"),\n",
        "        MaxPooling2D(pool_size=(2, 2)),\n",
        "        Conv2D(128, kernel_size=(3, 3),padding=\"same\", activation=\"relu\"),\n",
        "        MaxPooling2D(pool_size=(2, 2)),\n",
        "        Flatten(),\n",
        "        Dense(num_classes, activation=\"softmax\"),\n",
        "    ]\n",
        ")\n",
        "\n",
        "model_3L.summary()"
      ]
    },
    {
      "cell_type": "code",
      "execution_count": 14,
      "id": "0QSBIxtz9qNA",
      "metadata": {
        "id": "0QSBIxtz9qNA"
      },
      "outputs": [],
      "source": [
        "learning_rate = 0.001\n",
        "model_3L.compile(loss='categorical_crossentropy',optimizer=Adam(learning_rate),metrics=['accuracy'])"
      ]
    },
    {
      "cell_type": "code",
      "execution_count": 17,
      "id": "C9FwkIqj98DZ",
      "metadata": {
        "colab": {
          "base_uri": "https://localhost:8080/"
        },
        "id": "C9FwkIqj98DZ",
        "outputId": "eda06a17-ee67-4c78-b54c-cd284a273724"
      },
      "outputs": [
        {
          "name": "stderr",
          "output_type": "stream",
          "text": [
            "2022-05-23 16:25:09.773103: I tensorflow/compiler/mlir/mlir_graph_optimization_pass.cc:116] None of the MLIR optimization passes are enabled (registered 2)\n",
            "2022-05-23 16:25:09.773339: I tensorflow/core/platform/profile_utils/cpu_utils.cc:112] CPU Frequency: 3792010000 Hz\n"
          ]
        },
        {
          "name": "stdout",
          "output_type": "stream",
          "text": [
            "Epoch 1/50\n",
            "118/118 [==============================] - 28s 238ms/step - loss: 1.0394 - accuracy: 0.7013 - val_loss: 0.1098 - val_accuracy: 0.9636\n",
            "Epoch 2/50\n",
            "118/118 [==============================] - 29s 250ms/step - loss: 0.1021 - accuracy: 0.9684 - val_loss: 0.0620 - val_accuracy: 0.9812\n",
            "Epoch 3/50\n",
            "118/118 [==============================] - 31s 261ms/step - loss: 0.0698 - accuracy: 0.9788 - val_loss: 0.0505 - val_accuracy: 0.9845\n",
            "Epoch 4/50\n",
            "118/118 [==============================] - 25s 210ms/step - loss: 0.0510 - accuracy: 0.9841 - val_loss: 0.0397 - val_accuracy: 0.9871\n",
            "Epoch 5/50\n",
            "118/118 [==============================] - 22s 183ms/step - loss: 0.0404 - accuracy: 0.9879 - val_loss: 0.0344 - val_accuracy: 0.9887\n",
            "Epoch 6/50\n",
            "118/118 [==============================] - 20s 173ms/step - loss: 0.0299 - accuracy: 0.9910 - val_loss: 0.0369 - val_accuracy: 0.9877\n",
            "Epoch 7/50\n",
            "118/118 [==============================] - 21s 178ms/step - loss: 0.0277 - accuracy: 0.9913 - val_loss: 0.0345 - val_accuracy: 0.9897\n",
            "Epoch 8/50\n",
            "118/118 [==============================] - 21s 176ms/step - loss: 0.0239 - accuracy: 0.9924 - val_loss: 0.0290 - val_accuracy: 0.9899\n",
            "Epoch 9/50\n",
            "118/118 [==============================] - 20s 173ms/step - loss: 0.0224 - accuracy: 0.9926 - val_loss: 0.0271 - val_accuracy: 0.9904\n",
            "Epoch 10/50\n",
            "118/118 [==============================] - 20s 173ms/step - loss: 0.0166 - accuracy: 0.9949 - val_loss: 0.0272 - val_accuracy: 0.9909\n",
            "Epoch 11/50\n",
            "118/118 [==============================] - 19s 164ms/step - loss: 0.0155 - accuracy: 0.9955 - val_loss: 0.0249 - val_accuracy: 0.9913\n",
            "Epoch 12/50\n",
            "118/118 [==============================] - 20s 166ms/step - loss: 0.0128 - accuracy: 0.9964 - val_loss: 0.0264 - val_accuracy: 0.9909\n",
            "Epoch 13/50\n",
            "118/118 [==============================] - 21s 180ms/step - loss: 0.0093 - accuracy: 0.9972 - val_loss: 0.0287 - val_accuracy: 0.9912\n",
            "Epoch 14/50\n",
            "118/118 [==============================] - 21s 182ms/step - loss: 0.0127 - accuracy: 0.9958 - val_loss: 0.0301 - val_accuracy: 0.9905\n",
            "Epoch 15/50\n",
            "118/118 [==============================] - 21s 180ms/step - loss: 0.0093 - accuracy: 0.9974 - val_loss: 0.0257 - val_accuracy: 0.9914\n",
            "Epoch 16/50\n",
            "118/118 [==============================] - 24s 199ms/step - loss: 0.0090 - accuracy: 0.9974 - val_loss: 0.0260 - val_accuracy: 0.9919\n",
            "Epoch 17/50\n",
            "118/118 [==============================] - 23s 196ms/step - loss: 0.0056 - accuracy: 0.9983 - val_loss: 0.0273 - val_accuracy: 0.9914\n",
            "Epoch 18/50\n",
            "118/118 [==============================] - 23s 193ms/step - loss: 0.0064 - accuracy: 0.9977 - val_loss: 0.0313 - val_accuracy: 0.9909\n",
            "Epoch 19/50\n",
            "118/118 [==============================] - 21s 182ms/step - loss: 0.0047 - accuracy: 0.9985 - val_loss: 0.0285 - val_accuracy: 0.9917\n",
            "Epoch 20/50\n",
            "118/118 [==============================] - 22s 182ms/step - loss: 0.0068 - accuracy: 0.9976 - val_loss: 0.0290 - val_accuracy: 0.9914\n",
            "Epoch 21/50\n",
            "118/118 [==============================] - 22s 185ms/step - loss: 0.0050 - accuracy: 0.9985 - val_loss: 0.0344 - val_accuracy: 0.9907\n",
            "Epoch 22/50\n",
            "118/118 [==============================] - 22s 184ms/step - loss: 0.0042 - accuracy: 0.9985 - val_loss: 0.0303 - val_accuracy: 0.9915\n",
            "Epoch 23/50\n",
            "118/118 [==============================] - 20s 172ms/step - loss: 0.0025 - accuracy: 0.9993 - val_loss: 0.0344 - val_accuracy: 0.9912\n",
            "Epoch 24/50\n",
            "118/118 [==============================] - 22s 186ms/step - loss: 0.0040 - accuracy: 0.9988 - val_loss: 0.0345 - val_accuracy: 0.9921\n",
            "Epoch 25/50\n",
            "118/118 [==============================] - 22s 184ms/step - loss: 0.0032 - accuracy: 0.9990 - val_loss: 0.0361 - val_accuracy: 0.9917\n",
            "Epoch 26/50\n",
            "118/118 [==============================] - 22s 184ms/step - loss: 0.0051 - accuracy: 0.9983 - val_loss: 0.0364 - val_accuracy: 0.9919\n",
            "Epoch 27/50\n",
            "118/118 [==============================] - 23s 192ms/step - loss: 0.0047 - accuracy: 0.9984 - val_loss: 0.0373 - val_accuracy: 0.9916\n",
            "Epoch 28/50\n",
            "118/118 [==============================] - 22s 189ms/step - loss: 0.0036 - accuracy: 0.9989 - val_loss: 0.0350 - val_accuracy: 0.9918\n",
            "Epoch 29/50\n",
            "118/118 [==============================] - 22s 189ms/step - loss: 0.0011 - accuracy: 0.9998 - val_loss: 0.0319 - val_accuracy: 0.9926\n",
            "Epoch 30/50\n",
            "118/118 [==============================] - 22s 184ms/step - loss: 7.9185e-04 - accuracy: 0.9999 - val_loss: 0.0368 - val_accuracy: 0.9920\n",
            "Epoch 31/50\n",
            "118/118 [==============================] - 21s 178ms/step - loss: 0.0012 - accuracy: 0.9997 - val_loss: 0.0393 - val_accuracy: 0.9909\n",
            "Epoch 32/50\n",
            "118/118 [==============================] - 21s 181ms/step - loss: 0.0067 - accuracy: 0.9977 - val_loss: 0.0446 - val_accuracy: 0.9894\n",
            "Epoch 33/50\n",
            "118/118 [==============================] - 19s 163ms/step - loss: 0.0037 - accuracy: 0.9988 - val_loss: 0.0366 - val_accuracy: 0.9907\n",
            "Epoch 34/50\n",
            "118/118 [==============================] - 19s 164ms/step - loss: 0.0022 - accuracy: 0.9992 - val_loss: 0.0369 - val_accuracy: 0.9924\n",
            "Epoch 35/50\n",
            "118/118 [==============================] - 19s 165ms/step - loss: 0.0043 - accuracy: 0.9987 - val_loss: 0.0361 - val_accuracy: 0.9911\n",
            "Epoch 36/50\n",
            "118/118 [==============================] - 21s 174ms/step - loss: 0.0038 - accuracy: 0.9985 - val_loss: 0.0385 - val_accuracy: 0.9914\n",
            "Epoch 37/50\n",
            "118/118 [==============================] - 21s 181ms/step - loss: 0.0023 - accuracy: 0.9992 - val_loss: 0.0329 - val_accuracy: 0.9923\n",
            "Epoch 38/50\n",
            "118/118 [==============================] - 20s 173ms/step - loss: 0.0020 - accuracy: 0.9994 - val_loss: 0.0398 - val_accuracy: 0.9919\n",
            "Epoch 39/50\n",
            "118/118 [==============================] - 23s 194ms/step - loss: 4.5701e-04 - accuracy: 1.0000 - val_loss: 0.0346 - val_accuracy: 0.9924\n",
            "Epoch 40/50\n",
            "118/118 [==============================] - 23s 192ms/step - loss: 1.4463e-04 - accuracy: 1.0000 - val_loss: 0.0337 - val_accuracy: 0.9930\n",
            "Epoch 41/50\n",
            "118/118 [==============================] - 23s 193ms/step - loss: 6.0870e-05 - accuracy: 1.0000 - val_loss: 0.0341 - val_accuracy: 0.9936\n",
            "Epoch 42/50\n",
            "118/118 [==============================] - 21s 178ms/step - loss: 5.3060e-05 - accuracy: 1.0000 - val_loss: 0.0340 - val_accuracy: 0.9933\n",
            "Epoch 43/50\n",
            "118/118 [==============================] - 20s 169ms/step - loss: 3.9520e-05 - accuracy: 1.0000 - val_loss: 0.0343 - val_accuracy: 0.9933\n",
            "Epoch 44/50\n",
            "118/118 [==============================] - 21s 179ms/step - loss: 3.5897e-05 - accuracy: 1.0000 - val_loss: 0.0344 - val_accuracy: 0.9932\n",
            "Epoch 45/50\n",
            "118/118 [==============================] - 20s 171ms/step - loss: 3.2110e-05 - accuracy: 1.0000 - val_loss: 0.0349 - val_accuracy: 0.9934\n",
            "Epoch 46/50\n",
            "118/118 [==============================] - 22s 184ms/step - loss: 3.0545e-05 - accuracy: 1.0000 - val_loss: 0.0351 - val_accuracy: 0.9931\n",
            "Epoch 47/50\n",
            "118/118 [==============================] - 23s 194ms/step - loss: 2.3922e-05 - accuracy: 1.0000 - val_loss: 0.0354 - val_accuracy: 0.9931\n",
            "Epoch 48/50\n",
            "118/118 [==============================] - 22s 189ms/step - loss: 2.7010e-05 - accuracy: 1.0000 - val_loss: 0.0355 - val_accuracy: 0.9933\n",
            "Epoch 49/50\n",
            "118/118 [==============================] - 22s 186ms/step - loss: 2.5737e-05 - accuracy: 1.0000 - val_loss: 0.0356 - val_accuracy: 0.9932\n",
            "Epoch 50/50\n",
            "118/118 [==============================] - 22s 189ms/step - loss: 2.0345e-05 - accuracy: 1.0000 - val_loss: 0.0360 - val_accuracy: 0.9934\n"
          ]
        }
      ],
      "source": [
        "batch_size = 512\n",
        "epochs = 50\n",
        "\n",
        "\n",
        "\n",
        "history = model_3L.fit(x_train_reshaped,y_train_reshaped,batch_size=batch_size,epochs=epochs,validation_data=(x_test_reshaped,y_test_reshaped))\n"
      ]
    },
    {
      "cell_type": "code",
      "execution_count": 19,
      "id": "fd3ac602",
      "metadata": {},
      "outputs": [
        {
          "data": {
            "text/plain": [
              "array([7, 2, 1, ..., 4, 5, 6])"
            ]
          },
          "execution_count": 19,
          "metadata": {},
          "output_type": "execute_result"
        }
      ],
      "source": [
        "prediction = model_3L.predict(comp_reshaped)\n",
        "result = prediction.argmax(axis=1)\n",
        "result"
      ]
    },
    {
      "cell_type": "code",
      "execution_count": 20,
      "id": "cce84fd0",
      "metadata": {},
      "outputs": [],
      "source": [
        "with open('../00_competition/cnn.txt', 'w') as f:\n",
        "    for pred in result:\n",
        "        f.write(str(pred))\n",
        "        f.write('\\n')"
      ]
    },
    {
      "cell_type": "code",
      "execution_count": 30,
      "id": "m-57aw5S-K7b",
      "metadata": {
        "colab": {
          "base_uri": "https://localhost:8080/",
          "height": 282
        },
        "id": "m-57aw5S-K7b",
        "outputId": "9274c283-6d32-4b13-9529-c27bca579539"
      },
      "outputs": [
        {
          "data": {
            "text/plain": [
              "<matplotlib.legend.Legend at 0x7f2c649440d0>"
            ]
          },
          "execution_count": 30,
          "metadata": {},
          "output_type": "execute_result"
        },
        {
          "data": {
            "image/png": "[encoded data removed]",
            "text/plain": [
              "<Figure size 432x288 with 1 Axes>"
            ]
          },
          "metadata": {
            "needs_background": "light"
          },
          "output_type": "display_data"
        }
      ],
      "source": [
        "plt.figure()\n",
        "plt.plot(history.history[\"accuracy\"], label=\"Train Accuracy\")\n",
        "plt.plot(history.history[\"val_accuracy\"],label=\"Test Accuracy\")\n",
        "plt.legend()"
      ]
    },
    {
      "cell_type": "markdown",
      "id": "5a225789",
      "metadata": {
        "id": "5a225789"
      },
      "source": [
        "### Sources\n",
        "- https://machinelearningmastery.com/how-to-develop-a-convolutional-neural-network-from-scratch-for-mnist-handwritten-digit-classification/\n",
        "- https://www.kaggle.com/code/premshah/mnist-dataset-using-keras/notebook\n",
        "- https://www.kaggle.com/code/software007/cnn-with-mnist-csv-dataset/notebook\n",
        "- Assignement 10 ML course Bachelor Unifr"
      ]
    },
    {
      "cell_type": "markdown",
      "id": "fa99c058",
      "metadata": {
        "id": "fa99c058"
      },
      "source": [
        "#### Hint from course\n",
        "\n",
        "We're more familiar with Keras than Torch, but but the result is the same"
      ]
    },
    {
      "cell_type": "code",
      "execution_count": null,
      "id": "8c3cd81c",
      "metadata": {
        "id": "8c3cd81c"
      },
      "outputs": [],
      "source": [
        "\"\"\"\n",
        "CNN with 3 conv layers and a fully connected classification layer\n",
        "PATTERN RECOGNITION EXERCISE:\n",
        "Fix the three lines below marked with PR_FILL_HERE\n",
        "\"\"\"\n",
        "\n",
        "import torch.nn as nn\n",
        "\n",
        "\n",
        "class Flatten(nn.Module):\n",
        "    \"\"\"\n",
        "    Flatten a convolution block into a simple vector.\n",
        "\n",
        "    Replaces the flattening line (view) often found into forward() methods of networks. This makes it\n",
        "    easier to navigate the network with introspection\n",
        "    \"\"\"\n",
        "    def forward(self, x):\n",
        "        x = x.view(x.size()[0], -1)\n",
        "        return x\n",
        "\n",
        "\n",
        "class PR_CNN(nn.Module):\n",
        "    \"\"\"\n",
        "    Simple feed forward convolutional neural network\n",
        "\n",
        "    Attributes\n",
        "    ----------\n",
        "    expected_input_size : tuple(int,int)\n",
        "        Expected input size (width, height)\n",
        "    conv1 : torch.nn.Sequential\n",
        "    conv2 : torch.nn.Sequential\n",
        "    conv3 : torch.nn.Sequential\n",
        "        Convolutional layers of the network\n",
        "    fc : torch.nn.Linear\n",
        "        Final classification fully connected layer\n",
        "\n",
        "    \"\"\"\n",
        "\n",
        "    def __init__(self, **kwargs):\n",
        "        \"\"\"\n",
        "        Creates an CNN_basic model from the scratch.\n",
        "\n",
        "        Parameters\n",
        "        ----------\n",
        "        output_channels : int\n",
        "            Number of neurons in the last layer\n",
        "        input_channels : int\n",
        "            Dimensionality of the input, typically 3 for RGB\n",
        "        \"\"\"\n",
        "        super(PR_CNN, self).__init__()\n",
        "\n",
        "        # PR_FILL_HERE: Here you have to put the expected input size in terms of width and height of your input image\n",
        "        self.expected_input_size = (______, ______)\n",
        "\n",
        "        # First layer\n",
        "        self.conv1 = nn.Sequential(\n",
        "            # PR_FILL_HERE: Here you have to put the input channels, output channels ands the kernel size\n",
        "            nn.Conv2d(in_channels=______, out_channels=______, kernel_size=______, stride=3),\n",
        "            nn.LeakyReLU()\n",
        "        )\n",
        "\n",
        "        # Classification layer\n",
        "        self.fc = nn.Sequential(\n",
        "            Flatten(),\n",
        "            # PR_FILL_HERE: Here you have to put the output size of the linear layer. DO NOT change 1536!\n",
        "            nn.Linear(1536, ______)\n",
        "        )\n",
        "\n",
        "    def forward(self, x):\n",
        "        \"\"\"\n",
        "        Computes forward pass on the network\n",
        "\n",
        "        Parameters\n",
        "        ----------\n",
        "        x : Variable\n",
        "            Sample to run forward pass on. (input to the model)\n",
        "\n",
        "        Returns\n",
        "        -------\n",
        "        Variable\n",
        "            Activations of the fully connected layer\n",
        "        \"\"\"\n",
        "        x = self.conv1(x)\n",
        "        x = self.fc(x)\n",
        "        return x\n"
      ]
    },
    {
      "cell_type": "code",
      "execution_count": null,
      "id": "62fb2463",
      "metadata": {
        "id": "62fb2463"
      },
      "outputs": [],
      "source": []
    }
  ],
  "metadata": {
    "colab": {
      "name": "CNN.ipynb",
      "provenance": []
    },
    "kernelspec": {
      "display_name": "Python 3 (ipykernel)",
      "language": "python",
      "name": "python3"
    },
    "language_info": {
      "codemirror_mode": {
        "name": "ipython",
        "version": 3
      },
      "file_extension": ".py",
      "mimetype": "text/x-python",
      "name": "python",
      "nbconvert_exporter": "python",
      "pygments_lexer": "ipython3",
      "version": "3.9.7"
    }
  },
  "nbformat": 4,
  "nbformat_minor": 5
}
