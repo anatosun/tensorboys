{
 "cells": [
  {
   "cell_type": "code",
   "execution_count": 86,
   "id": "9ae4083e",
   "metadata": {},
   "outputs": [],
   "source": [
    "import pandas as pd\n",
    "import numpy as np\n",
    "import seaborn as sns\n",
    "import matplotlib.pyplot as plt\n",
    "from tensorflow.keras.optimizers import Adam\n",
    "from tensorflow import keras\n",
    "from keras.utils import np_utils\n",
    "from keras.models import Sequential\n",
    "from keras.layers import *\n",
    "from keras.utils.np_utils import to_categorical\n",
    "from sklearn.model_selection import train_test_split"
   ]
  },
  {
   "cell_type": "code",
   "execution_count": 84,
   "id": "1b6abc44",
   "metadata": {},
   "outputs": [
    {
     "data": {
      "text/html": [
       "<div>\n",
       "<style scoped>\n",
       "    .dataframe tbody tr th:only-of-type {\n",
       "        vertical-align: middle;\n",
       "    }\n",
       "\n",
       "    .dataframe tbody tr th {\n",
       "        vertical-align: top;\n",
       "    }\n",
       "\n",
       "    .dataframe thead th {\n",
       "        text-align: right;\n",
       "    }\n",
       "</style>\n",
       "<table border=\"1\" class=\"dataframe\">\n",
       "  <thead>\n",
       "    <tr style=\"text-align: right;\">\n",
       "      <th></th>\n",
       "      <th>5</th>\n",
       "      <th>0</th>\n",
       "      <th>0.1</th>\n",
       "      <th>0.2</th>\n",
       "      <th>0.3</th>\n",
       "      <th>0.4</th>\n",
       "      <th>0.5</th>\n",
       "      <th>0.6</th>\n",
       "      <th>0.7</th>\n",
       "      <th>0.8</th>\n",
       "      <th>...</th>\n",
       "      <th>0.608</th>\n",
       "      <th>0.609</th>\n",
       "      <th>0.610</th>\n",
       "      <th>0.611</th>\n",
       "      <th>0.612</th>\n",
       "      <th>0.613</th>\n",
       "      <th>0.614</th>\n",
       "      <th>0.615</th>\n",
       "      <th>0.616</th>\n",
       "      <th>0.617</th>\n",
       "    </tr>\n",
       "  </thead>\n",
       "  <tbody>\n",
       "    <tr>\n",
       "      <th>0</th>\n",
       "      <td>0</td>\n",
       "      <td>0</td>\n",
       "      <td>0</td>\n",
       "      <td>0</td>\n",
       "      <td>0</td>\n",
       "      <td>0</td>\n",
       "      <td>0</td>\n",
       "      <td>0</td>\n",
       "      <td>0</td>\n",
       "      <td>0</td>\n",
       "      <td>...</td>\n",
       "      <td>0</td>\n",
       "      <td>0</td>\n",
       "      <td>0</td>\n",
       "      <td>0</td>\n",
       "      <td>0</td>\n",
       "      <td>0</td>\n",
       "      <td>0</td>\n",
       "      <td>0</td>\n",
       "      <td>0</td>\n",
       "      <td>0</td>\n",
       "    </tr>\n",
       "    <tr>\n",
       "      <th>1</th>\n",
       "      <td>4</td>\n",
       "      <td>0</td>\n",
       "      <td>0</td>\n",
       "      <td>0</td>\n",
       "      <td>0</td>\n",
       "      <td>0</td>\n",
       "      <td>0</td>\n",
       "      <td>0</td>\n",
       "      <td>0</td>\n",
       "      <td>0</td>\n",
       "      <td>...</td>\n",
       "      <td>0</td>\n",
       "      <td>0</td>\n",
       "      <td>0</td>\n",
       "      <td>0</td>\n",
       "      <td>0</td>\n",
       "      <td>0</td>\n",
       "      <td>0</td>\n",
       "      <td>0</td>\n",
       "      <td>0</td>\n",
       "      <td>0</td>\n",
       "    </tr>\n",
       "    <tr>\n",
       "      <th>2</th>\n",
       "      <td>1</td>\n",
       "      <td>0</td>\n",
       "      <td>0</td>\n",
       "      <td>0</td>\n",
       "      <td>0</td>\n",
       "      <td>0</td>\n",
       "      <td>0</td>\n",
       "      <td>0</td>\n",
       "      <td>0</td>\n",
       "      <td>0</td>\n",
       "      <td>...</td>\n",
       "      <td>0</td>\n",
       "      <td>0</td>\n",
       "      <td>0</td>\n",
       "      <td>0</td>\n",
       "      <td>0</td>\n",
       "      <td>0</td>\n",
       "      <td>0</td>\n",
       "      <td>0</td>\n",
       "      <td>0</td>\n",
       "      <td>0</td>\n",
       "    </tr>\n",
       "    <tr>\n",
       "      <th>3</th>\n",
       "      <td>9</td>\n",
       "      <td>0</td>\n",
       "      <td>0</td>\n",
       "      <td>0</td>\n",
       "      <td>0</td>\n",
       "      <td>0</td>\n",
       "      <td>0</td>\n",
       "      <td>0</td>\n",
       "      <td>0</td>\n",
       "      <td>0</td>\n",
       "      <td>...</td>\n",
       "      <td>0</td>\n",
       "      <td>0</td>\n",
       "      <td>0</td>\n",
       "      <td>0</td>\n",
       "      <td>0</td>\n",
       "      <td>0</td>\n",
       "      <td>0</td>\n",
       "      <td>0</td>\n",
       "      <td>0</td>\n",
       "      <td>0</td>\n",
       "    </tr>\n",
       "    <tr>\n",
       "      <th>4</th>\n",
       "      <td>2</td>\n",
       "      <td>0</td>\n",
       "      <td>0</td>\n",
       "      <td>0</td>\n",
       "      <td>0</td>\n",
       "      <td>0</td>\n",
       "      <td>0</td>\n",
       "      <td>0</td>\n",
       "      <td>0</td>\n",
       "      <td>0</td>\n",
       "      <td>...</td>\n",
       "      <td>0</td>\n",
       "      <td>0</td>\n",
       "      <td>0</td>\n",
       "      <td>0</td>\n",
       "      <td>0</td>\n",
       "      <td>0</td>\n",
       "      <td>0</td>\n",
       "      <td>0</td>\n",
       "      <td>0</td>\n",
       "      <td>0</td>\n",
       "    </tr>\n",
       "  </tbody>\n",
       "</table>\n",
       "<p>5 rows × 785 columns</p>\n",
       "</div>"
      ],
      "text/plain": [
       "   5  0  0.1  0.2  0.3  0.4  0.5  0.6  0.7  0.8  ...  0.608  0.609  0.610  \\\n",
       "0  0  0    0    0    0    0    0    0    0    0  ...      0      0      0   \n",
       "1  4  0    0    0    0    0    0    0    0    0  ...      0      0      0   \n",
       "2  1  0    0    0    0    0    0    0    0    0  ...      0      0      0   \n",
       "3  9  0    0    0    0    0    0    0    0    0  ...      0      0      0   \n",
       "4  2  0    0    0    0    0    0    0    0    0  ...      0      0      0   \n",
       "\n",
       "   0.611  0.612  0.613  0.614  0.615  0.616  0.617  \n",
       "0      0      0      0      0      0      0      0  \n",
       "1      0      0      0      0      0      0      0  \n",
       "2      0      0      0      0      0      0      0  \n",
       "3      0      0      0      0      0      0      0  \n",
       "4      0      0      0      0      0      0      0  \n",
       "\n",
       "[5 rows x 785 columns]"
      ]
     },
     "execution_count": 84,
     "metadata": {},
     "output_type": "execute_result"
    }
   ],
   "source": [
    "train = pd.read_csv('./datasets/mnist_train.csv')\n",
    "test = pd.read_csv('./datasets/mnist_test.csv')\n",
    "\n",
    "\n",
    "x_train = train.iloc[:,1:]\n",
    "x_test = test.iloc[:,1:]\n",
    "\n",
    "y_train = train.iloc[:,0]\n",
    "y_test = test.iloc[:,0]\n",
    "\n",
    "train.head()"
   ]
  },
  {
   "cell_type": "code",
   "execution_count": 83,
   "id": "9ccc213e",
   "metadata": {},
   "outputs": [
    {
     "name": "stdout",
     "output_type": "stream",
     "text": [
      "Training set has 59999 rows and 785 columns\n",
      "Test set has 9999 rows and 785 columns\n"
     ]
    }
   ],
   "source": [
    "print(\"Training set has {0[0]} rows and {0[1]} columns\".format(train.shape))\n",
    "print(\"Test set has {0[0]} rows and {0[1]} columns\".format(test.shape))"
   ]
  },
  {
   "cell_type": "markdown",
   "id": "4e1b1a9d",
   "metadata": {},
   "source": [
    "### Data visualisation"
   ]
  },
  {
   "cell_type": "code",
   "execution_count": 82,
   "id": "5c2fc885",
   "metadata": {},
   "outputs": [
    {
     "data": {
      "image/png": "[encoded data removed]",
      "text/plain": [
       "<Figure size 1080x504 with 1 Axes>"
      ]
     },
     "metadata": {
      "needs_background": "light"
     },
     "output_type": "display_data"
    },
    {
     "data": {
      "image/png": "[encoded data removed]",
      "text/plain": [
       "<Figure size 1080x504 with 1 Axes>"
      ]
     },
     "metadata": {
      "needs_background": "light"
     },
     "output_type": "display_data"
    }
   ],
   "source": [
    "plt.figure(figsize=(15,7))\n",
    "sns.countplot(x=y_train,palette=\"icefire\")\n",
    "plt.xlabel('#')\n",
    "plt.title('Number repartition: Training')\n",
    "plt.show()\n",
    "\n",
    "plt.figure(figsize=(15,7))\n",
    "sns.countplot(x=y_test,palette=\"icefire\")\n",
    "plt.xlabel('#')\n",
    "plt.title('Number repartition: Test')\n",
    "plt.show()"
   ]
  },
  {
   "cell_type": "code",
   "execution_count": 78,
   "id": "56e602c8",
   "metadata": {},
   "outputs": [
    {
     "data": {
      "image/png": "[encoded data removed]",
      "text/plain": [
       "<Figure size 432x288 with 1 Axes>"
      ]
     },
     "metadata": {
      "needs_background": "light"
     },
     "output_type": "display_data"
    }
   ],
   "source": [
    "img=x_train.iloc[0].to_numpy()\n",
    "img=img.reshape((28,28)) #28*28=784\n",
    "plt.imshow(img,cmap=\"gray\")\n",
    "plt.xlabel(y_train.iloc[0])\n",
    "plt.title('Representation of reshaped data')\n",
    "plt.show()"
   ]
  },
  {
   "cell_type": "markdown",
   "id": "2dd2947e",
   "metadata": {},
   "source": [
    "### Data preprocessing"
   ]
  },
  {
   "cell_type": "code",
   "execution_count": 71,
   "id": "bacc54af",
   "metadata": {},
   "outputs": [
    {
     "name": "stdout",
     "output_type": "stream",
     "text": [
      "X Train Shape:  (59999, 28, 28, 1)\n",
      "X Test Shape:  (9999, 28, 28, 1)\n",
      "Y Train Shape:  (59999, 10)\n",
      "Y Test Shape:  (9999, 10)\n"
     ]
    }
   ],
   "source": [
    "x_train=x_train/255.0\n",
    "x_test=x_test/255.0\n",
    "\n",
    "x_train_reshaped=x_train.values.reshape(-1,28,28,1)\n",
    "x_test_reshaped=x_test.values.reshape(-1,28,28,1)\n",
    "\n",
    "print(\"X Train Shape: \",x_train_reshaped.shape)\n",
    "print(\"X Test Shape: \",x_test_reshaped.shape)\n",
    "\n",
    "y_train_reshaped = to_categorical(y_train,num_classes=10)\n",
    "y_test_reshaped = to_categorical(y_test,num_classes=10)\n",
    "\n",
    "print(\"Y Train Shape: \",y_train_reshaped.shape)\n",
    "print(\"Y Test Shape: \",y_test_reshaped.shape)"
   ]
  },
  {
   "cell_type": "markdown",
   "id": "49a72ea5",
   "metadata": {},
   "source": [
    "### CNN implementation"
   ]
  },
  {
   "cell_type": "code",
   "execution_count": 72,
   "id": "6fcfcbde",
   "metadata": {},
   "outputs": [
    {
     "name": "stdout",
     "output_type": "stream",
     "text": [
      "Model: \"sequential_14\"\n",
      "_________________________________________________________________\n",
      " Layer (type)                Output Shape              Param #   \n",
      "=================================================================\n",
      " conv2d_22 (Conv2D)          (None, 26, 26, 32)        320       \n",
      "                                                                 \n",
      " flatten_14 (Flatten)        (None, 21632)             0         \n",
      "                                                                 \n",
      " dense_14 (Dense)            (None, 10)                216330    \n",
      "                                                                 \n",
      "=================================================================\n",
      "Total params: 216,650\n",
      "Trainable params: 216,650\n",
      "Non-trainable params: 0\n",
      "_________________________________________________________________\n",
      "Model: \"sequential_15\"\n",
      "_________________________________________________________________\n",
      " Layer (type)                Output Shape              Param #   \n",
      "=================================================================\n",
      " conv2d_23 (Conv2D)          (None, 26, 26, 32)        320       \n",
      "                                                                 \n",
      " max_pooling2d_16 (MaxPoolin  (None, 13, 13, 32)       0         \n",
      " g2D)                                                            \n",
      "                                                                 \n",
      " conv2d_24 (Conv2D)          (None, 11, 11, 64)        18496     \n",
      "                                                                 \n",
      " max_pooling2d_17 (MaxPoolin  (None, 5, 5, 64)         0         \n",
      " g2D)                                                            \n",
      "                                                                 \n",
      " flatten_15 (Flatten)        (None, 1600)              0         \n",
      "                                                                 \n",
      " dropout_9 (Dropout)         (None, 1600)              0         \n",
      "                                                                 \n",
      " dense_15 (Dense)            (None, 10)                16010     \n",
      "                                                                 \n",
      "=================================================================\n",
      "Total params: 34,826\n",
      "Trainable params: 34,826\n",
      "Non-trainable params: 0\n",
      "_________________________________________________________________\n"
     ]
    }
   ],
   "source": [
    "num_classes = 10\n",
    "input_shape = (28, 28, 1)\n",
    "\n",
    "models = {\n",
    "    'Simple' :Sequential(\n",
    "        [\n",
    "            Input(shape=input_shape),\n",
    "            Conv2D(32, kernel_size=(3, 3), activation=\"relu\"),\n",
    "            Flatten(),\n",
    "            Dense(num_classes, activation=\"softmax\"),\n",
    "        ]\n",
    "    )\n",
    ",\n",
    "    '2 cnn layers': Sequential(\n",
    "        [\n",
    "            Input(shape=input_shape),\n",
    "            Conv2D(32, kernel_size=(3, 3), activation=\"relu\"),\n",
    "            MaxPooling2D(pool_size=(2, 2)),\n",
    "            Conv2D(64, kernel_size=(3, 3), activation=\"relu\"),\n",
    "            MaxPooling2D(pool_size=(2, 2)),\n",
    "            Flatten(),\n",
    "            Dropout(0.5),\n",
    "            Dense(num_classes, activation=\"softmax\"),\n",
    "        ]\n",
    "    )\n",
    "}\n",
    "_ = [models[model].summary() for model in models]"
   ]
  },
  {
   "cell_type": "code",
   "execution_count": 73,
   "id": "482dcc27",
   "metadata": {},
   "outputs": [],
   "source": [
    "batch_size = 128\n",
    "epochs = 15\n",
    "learning_rate = 0.001\n",
    "_ = [models[model].compile(loss='categorical_crossentropy',optimizer=Adam(0.001),metrics=['accuracy']) for model in models]"
   ]
  },
  {
   "cell_type": "code",
   "execution_count": 74,
   "id": "9245ce31",
   "metadata": {},
   "outputs": [
    {
     "name": "stdout",
     "output_type": "stream",
     "text": [
      "Epoch 1/15\n",
      "422/422 [==============================] - 7s 16ms/step - loss: 0.2827 - accuracy: 0.9190 - val_loss: 0.1022 - val_accuracy: 0.9735\n",
      "Epoch 2/15\n",
      "422/422 [==============================] - 11s 26ms/step - loss: 0.0951 - accuracy: 0.9731 - val_loss: 0.0701 - val_accuracy: 0.9817\n",
      "Epoch 3/15\n",
      "422/422 [==============================] - 6s 14ms/step - loss: 0.0644 - accuracy: 0.9809 - val_loss: 0.0666 - val_accuracy: 0.9820\n",
      "Epoch 4/15\n",
      "422/422 [==============================] - 6s 15ms/step - loss: 0.0505 - accuracy: 0.9849 - val_loss: 0.0646 - val_accuracy: 0.9833\n",
      "Epoch 5/15\n",
      "422/422 [==============================] - 13s 30ms/step - loss: 0.0408 - accuracy: 0.9884 - val_loss: 0.0626 - val_accuracy: 0.9840\n",
      "Epoch 6/15\n",
      "422/422 [==============================] - 8s 20ms/step - loss: 0.0346 - accuracy: 0.9895 - val_loss: 0.0612 - val_accuracy: 0.9842\n",
      "Epoch 7/15\n",
      "422/422 [==============================] - 9s 22ms/step - loss: 0.0286 - accuracy: 0.9919 - val_loss: 0.0682 - val_accuracy: 0.9840\n",
      "Epoch 8/15\n",
      "422/422 [==============================] - 10s 24ms/step - loss: 0.0247 - accuracy: 0.9929 - val_loss: 0.0631 - val_accuracy: 0.9833\n",
      "Epoch 9/15\n",
      "422/422 [==============================] - 6s 15ms/step - loss: 0.0205 - accuracy: 0.9943 - val_loss: 0.0595 - val_accuracy: 0.9835\n",
      "Epoch 10/15\n",
      "422/422 [==============================] - 10s 24ms/step - loss: 0.0184 - accuracy: 0.9946 - val_loss: 0.0642 - val_accuracy: 0.9842\n",
      "Epoch 11/15\n",
      "422/422 [==============================] - 9s 21ms/step - loss: 0.0147 - accuracy: 0.9959 - val_loss: 0.0697 - val_accuracy: 0.9825\n",
      "Epoch 12/15\n",
      "422/422 [==============================] - 6s 15ms/step - loss: 0.0132 - accuracy: 0.9967 - val_loss: 0.0692 - val_accuracy: 0.9837\n",
      "Epoch 13/15\n",
      "422/422 [==============================] - 14s 32ms/step - loss: 0.0116 - accuracy: 0.9970 - val_loss: 0.0740 - val_accuracy: 0.9832\n",
      "Epoch 14/15\n",
      "422/422 [==============================] - 8s 18ms/step - loss: 0.0098 - accuracy: 0.9979 - val_loss: 0.0849 - val_accuracy: 0.9810\n",
      "Epoch 15/15\n",
      "422/422 [==============================] - 8s 18ms/step - loss: 0.0081 - accuracy: 0.9983 - val_loss: 0.0730 - val_accuracy: 0.9850\n",
      "Epoch 1/15\n",
      "422/422 [==============================] - 21s 46ms/step - loss: 0.3640 - accuracy: 0.8931 - val_loss: 0.0839 - val_accuracy: 0.9775\n",
      "Epoch 2/15\n",
      "422/422 [==============================] - 21s 50ms/step - loss: 0.1144 - accuracy: 0.9655 - val_loss: 0.0568 - val_accuracy: 0.9855\n",
      "Epoch 3/15\n",
      "422/422 [==============================] - 24s 57ms/step - loss: 0.0857 - accuracy: 0.9734 - val_loss: 0.0503 - val_accuracy: 0.9860\n",
      "Epoch 4/15\n",
      "422/422 [==============================] - 18s 44ms/step - loss: 0.0706 - accuracy: 0.9774 - val_loss: 0.0439 - val_accuracy: 0.9875\n",
      "Epoch 5/15\n",
      "422/422 [==============================] - 22s 52ms/step - loss: 0.0616 - accuracy: 0.9811 - val_loss: 0.0369 - val_accuracy: 0.9898\n",
      "Epoch 6/15\n",
      "422/422 [==============================] - 16s 37ms/step - loss: 0.0558 - accuracy: 0.9831 - val_loss: 0.0351 - val_accuracy: 0.9897\n",
      "Epoch 7/15\n",
      "422/422 [==============================] - 21s 49ms/step - loss: 0.0518 - accuracy: 0.9840 - val_loss: 0.0330 - val_accuracy: 0.9912\n",
      "Epoch 8/15\n",
      "422/422 [==============================] - 20s 48ms/step - loss: 0.0470 - accuracy: 0.9851 - val_loss: 0.0321 - val_accuracy: 0.9910\n",
      "Epoch 9/15\n",
      "422/422 [==============================] - 21s 50ms/step - loss: 0.0436 - accuracy: 0.9859 - val_loss: 0.0319 - val_accuracy: 0.9912\n",
      "Epoch 10/15\n",
      "422/422 [==============================] - 26s 61ms/step - loss: 0.0405 - accuracy: 0.9868 - val_loss: 0.0317 - val_accuracy: 0.9912\n",
      "Epoch 11/15\n",
      "422/422 [==============================] - 24s 58ms/step - loss: 0.0402 - accuracy: 0.9875 - val_loss: 0.0302 - val_accuracy: 0.9910\n",
      "Epoch 12/15\n",
      "422/422 [==============================] - 23s 55ms/step - loss: 0.0356 - accuracy: 0.9884 - val_loss: 0.0286 - val_accuracy: 0.9920\n",
      "Epoch 13/15\n",
      "422/422 [==============================] - 17s 39ms/step - loss: 0.0343 - accuracy: 0.9889 - val_loss: 0.0289 - val_accuracy: 0.9923\n",
      "Epoch 14/15\n",
      "422/422 [==============================] - 18s 44ms/step - loss: 0.0322 - accuracy: 0.9897 - val_loss: 0.0301 - val_accuracy: 0.9918\n",
      "Epoch 15/15\n",
      "422/422 [==============================] - 21s 49ms/step - loss: 0.0325 - accuracy: 0.9894 - val_loss: 0.0267 - val_accuracy: 0.9923\n"
     ]
    }
   ],
   "source": [
    "histories = [models[model].fit(\n",
    "    x_train_reshaped, y_train_reshaped,\n",
    "    batch_size=batch_size,\n",
    "    epochs=epochs,\n",
    "    validation_split=0.1) for model in models]"
   ]
  },
  {
   "cell_type": "code",
   "execution_count": 93,
   "id": "9a599062",
   "metadata": {},
   "outputs": [
    {
     "data": {
      "text/plain": [
       "<matplotlib.legend.Legend at 0x7f038dcefd30>"
      ]
     },
     "execution_count": 93,
     "metadata": {},
     "output_type": "execute_result"
    },
    {
     "data": {
      "image/png": "[encoded data removed]",
      "text/plain": [
       "<Figure size 432x288 with 1 Axes>"
      ]
     },
     "metadata": {
      "needs_background": "light"
     },
     "output_type": "display_data"
    },
    {
     "data": {
      "image/png": "[encoded data removed]",
      "text/plain": [
       "<Figure size 432x288 with 1 Axes>"
      ]
     },
     "metadata": {
      "needs_background": "light"
     },
     "output_type": "display_data"
    },
    {
     "data": {
      "image/png": "[encoded data removed]",
      "text/plain": [
       "<Figure size 432x288 with 1 Axes>"
      ]
     },
     "metadata": {
      "needs_background": "light"
     },
     "output_type": "display_data"
    },
    {
     "data": {
      "image/png": "[encoded data removed]",
      "text/plain": [
       "<Figure size 432x288 with 1 Axes>"
      ]
     },
     "metadata": {
      "needs_background": "light"
     },
     "output_type": "display_data"
    }
   ],
   "source": [
    "_= [plt.plot(histories[idx].history[\"loss\"], label=f\"Train Loss, {name}\") for idx, name in enumerate(models)]\n",
    "plt.legend()\n",
    "plt.figure()\n",
    "_= [plt.plot(histories[idx].history[\"val_loss\"], label=f\"Validation Loss, {name}\") for idx, name in enumerate(models)]\n",
    "plt.legend()\n",
    "\n",
    "\n",
    "plt.figure()\n",
    "_= [plt.plot(histories[idx].history[\"accuracy\"], label=f\"Train Accuracy, {name}\") for idx, name in enumerate(models)]\n",
    "plt.legend()\n",
    "plt.figure()\n",
    "_= [plt.plot(histories[idx].history[\"val_accuracy\"], label=f\"Validation Accuracy, {name}\") for idx, name in enumerate(models)]\n",
    "plt.legend()"
   ]
  },
  {
   "cell_type": "code",
   "execution_count": 87,
   "id": "9f1385ae",
   "metadata": {
    "scrolled": true
   },
   "outputs": [
    {
     "name": "stdout",
     "output_type": "stream",
     "text": [
      "Test loss: 0.07338910549879074 Test accuracy: 0.9804980754852295 Model:  Simple\n",
      "Test loss: 0.023189229890704155 Test accuracy: 0.9918991923332214 Model:  2 cnn layers\n"
     ]
    }
   ],
   "source": [
    "scores = [models[model].evaluate(x_test_reshaped, y_test_reshaped, verbose=0) for model in models]\n",
    "_ = [print(\"Test loss:\", scores[i][0],\"Test accuracy:\", scores[i][1], \"Model: \", name) for i,name in enumerate(models)]"
   ]
  },
  {
   "cell_type": "markdown",
   "id": "5a225789",
   "metadata": {},
   "source": [
    "### Sources\n",
    "- https://machinelearningmastery.com/how-to-develop-a-convolutional-neural-network-from-scratch-for-mnist-handwritten-digit-classification/\n",
    "- https://www.kaggle.com/code/premshah/mnist-dataset-using-keras/notebook\n",
    "- https://www.kaggle.com/code/software007/cnn-with-mnist-csv-dataset/notebook\n",
    "- Assignement 10 ML course Bachelor Unifr"
   ]
  },
  {
   "cell_type": "markdown",
   "id": "fa99c058",
   "metadata": {},
   "source": [
    "#### Hint from course"
   ]
  },
  {
   "cell_type": "code",
   "execution_count": null,
   "id": "8c3cd81c",
   "metadata": {},
   "outputs": [],
   "source": [
    "\"\"\"\n",
    "CNN with 3 conv layers and a fully connected classification layer\n",
    "PATTERN RECOGNITION EXERCISE:\n",
    "Fix the three lines below marked with PR_FILL_HERE\n",
    "\"\"\"\n",
    "\n",
    "import torch.nn as nn\n",
    "\n",
    "\n",
    "class Flatten(nn.Module):\n",
    "    \"\"\"\n",
    "    Flatten a convolution block into a simple vector.\n",
    "\n",
    "    Replaces the flattening line (view) often found into forward() methods of networks. This makes it\n",
    "    easier to navigate the network with introspection\n",
    "    \"\"\"\n",
    "    def forward(self, x):\n",
    "        x = x.view(x.size()[0], -1)\n",
    "        return x\n",
    "\n",
    "\n",
    "class PR_CNN(nn.Module):\n",
    "    \"\"\"\n",
    "    Simple feed forward convolutional neural network\n",
    "\n",
    "    Attributes\n",
    "    ----------\n",
    "    expected_input_size : tuple(int,int)\n",
    "        Expected input size (width, height)\n",
    "    conv1 : torch.nn.Sequential\n",
    "    conv2 : torch.nn.Sequential\n",
    "    conv3 : torch.nn.Sequential\n",
    "        Convolutional layers of the network\n",
    "    fc : torch.nn.Linear\n",
    "        Final classification fully connected layer\n",
    "\n",
    "    \"\"\"\n",
    "\n",
    "    def __init__(self, **kwargs):\n",
    "        \"\"\"\n",
    "        Creates an CNN_basic model from the scratch.\n",
    "\n",
    "        Parameters\n",
    "        ----------\n",
    "        output_channels : int\n",
    "            Number of neurons in the last layer\n",
    "        input_channels : int\n",
    "            Dimensionality of the input, typically 3 for RGB\n",
    "        \"\"\"\n",
    "        super(PR_CNN, self).__init__()\n",
    "\n",
    "        # PR_FILL_HERE: Here you have to put the expected input size in terms of width and height of your input image\n",
    "        self.expected_input_size = (______, ______)\n",
    "\n",
    "        # First layer\n",
    "        self.conv1 = nn.Sequential(\n",
    "            # PR_FILL_HERE: Here you have to put the input channels, output channels ands the kernel size\n",
    "            nn.Conv2d(in_channels=______, out_channels=______, kernel_size=______, stride=3),\n",
    "            nn.LeakyReLU()\n",
    "        )\n",
    "\n",
    "        # Classification layer\n",
    "        self.fc = nn.Sequential(\n",
    "            Flatten(),\n",
    "            # PR_FILL_HERE: Here you have to put the output size of the linear layer. DO NOT change 1536!\n",
    "            nn.Linear(1536, ______)\n",
    "        )\n",
    "\n",
    "    def forward(self, x):\n",
    "        \"\"\"\n",
    "        Computes forward pass on the network\n",
    "\n",
    "        Parameters\n",
    "        ----------\n",
    "        x : Variable\n",
    "            Sample to run forward pass on. (input to the model)\n",
    "\n",
    "        Returns\n",
    "        -------\n",
    "        Variable\n",
    "            Activations of the fully connected layer\n",
    "        \"\"\"\n",
    "        x = self.conv1(x)\n",
    "        x = self.fc(x)\n",
    "        return x\n"
   ]
  },
  {
   "cell_type": "code",
   "execution_count": null,
   "id": "62fb2463",
   "metadata": {},
   "outputs": [],
   "source": []
  }
 ],
 "metadata": {
  "kernelspec": {
   "display_name": "Python 3 (ipykernel)",
   "language": "python",
   "name": "python3"
  },
  "language_info": {
   "codemirror_mode": {
    "name": "ipython",
    "version": 3
   },
   "file_extension": ".py",
   "mimetype": "text/x-python",
   "name": "python",
   "nbconvert_exporter": "python",
   "pygments_lexer": "ipython3",
   "version": "3.8.10"
  }
 },
 "nbformat": 4,
 "nbformat_minor": 5
}
